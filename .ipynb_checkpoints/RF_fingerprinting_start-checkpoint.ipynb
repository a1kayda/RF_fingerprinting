{
 "cells": [
  {
   "cell_type": "code",
   "execution_count": 1,
   "metadata": {
    "id": "Tq_Fa2jxLRwJ",
    "scrolled": true
   },
   "outputs": [
    {
     "name": "stdout",
     "output_type": "stream",
     "text": [
      "20\n",
      "20\n",
      "<class 'pandas.core.frame.DataFrame'>\n",
      "RangeIndex: 6900 entries, 0 to 6899\n",
      "Data columns (total 39 columns):\n",
      " #   Column                          Non-Null Count  Dtype  \n",
      "---  ------                          --------------  -----  \n",
      " 0   S_Mean_abs                      6900 non-null   float64\n",
      " 1   S_Max-Min_abs                   6900 non-null   float64\n",
      " 2   S_Max-|Min|_abs                 6900 non-null   float64\n",
      " 3   S_sumYup - sumYdn_abs           6900 non-null   float64\n",
      " 4   S_(Max-Mean)/(Mean-Min))_abs    6900 non-null   int64  \n",
      " 5   S_numYup - numYdn_abs           6900 non-null   float64\n",
      " 6   S_maxBd_abs                     6900 non-null   float64\n",
      " 7   S_RangeJDy_abs                  6900 non-null   float64\n",
      " 8   S_F_abs                         6900 non-null   float64\n",
      " 9   L_Mean_abs                      6900 non-null   float64\n",
      " 10  L_Max-Min_abs                   6900 non-null   float64\n",
      " 11  L_Max-|Min|_abs                 6900 non-null   float64\n",
      " 12  L_sumYup - sumYdn_abs           6900 non-null   float64\n",
      " 13  L_(Max-Mean)/(Mean-Min))_abs    6900 non-null   float64\n",
      " 14  L_numYup - numYdn_abs           6900 non-null   int64  \n",
      " 15  L_maxBd_abs                     6900 non-null   float64\n",
      " 16  L_RangeJDy_abs                  6900 non-null   float64\n",
      " 17  L_F_abs                         6900 non-null   float64\n",
      " 18  L_Ph_abs                        6900 non-null   float64\n",
      " 19  S_Mean_phase                    6900 non-null   float64\n",
      " 20  S_Max-Min_phase                 6900 non-null   float64\n",
      " 21  S_Max-|Min|_phase               6900 non-null   float64\n",
      " 22  S_sumYup - sumYdn_phase         6900 non-null   float64\n",
      " 23  S_(Max-Mean)/(Mean-Min))_phase  6900 non-null   int64  \n",
      " 24  S_numYup - numYdn_phase         6900 non-null   float64\n",
      " 25  S_maxBd_phase                   6900 non-null   float64\n",
      " 26  S_RangeJDy_phase                6900 non-null   float64\n",
      " 27  S_F_phase                       6900 non-null   float64\n",
      " 28  L_Mean_phase                    6900 non-null   float64\n",
      " 29  L_Max-Min_phase                 6900 non-null   float64\n",
      " 30  L_Max-|Min|_phase               6900 non-null   float64\n",
      " 31  L_sumYup - sumYdn_phase         6900 non-null   float64\n",
      " 32  L_(Max-Mean)/(Mean-Min))_phase  6900 non-null   float64\n",
      " 33  L_numYup - numYdn_phase         6900 non-null   int64  \n",
      " 34  L_maxBd_phase                   6900 non-null   float64\n",
      " 35  L_RangeJDy_phase                6900 non-null   float64\n",
      " 36  L_F_phase                       6900 non-null   float64\n",
      " 37  L_Ph_phase                      6900 non-null   float64\n",
      " 38  y_phase                         6900 non-null   int64  \n",
      "dtypes: float64(34), int64(5)\n",
      "memory usage: 2.1 MB\n"
     ]
    }
   ],
   "source": [
    "import pandas as pd\n",
    "import numpy as np\n",
    "\n",
    "colnames = [\"S_Mean\", \"S_Max-Min\", \"S_Max-|Min|\", \"S_sumYup - sumYdn\", \"S_(Max-Mean)/(Mean-Min))\", \"S_numYup - numYdn\", \n",
    "            \"S_maxBd\", \"S_RangeJDy\", \"S_F\", \n",
    "            \"L_Mean\", \"L_Max-Min\", \"L_Max-|Min|\", \"L_sumYup - sumYdn\", \"L_(Max-Mean)/(Mean-Min))\", \"L_numYup - numYdn\", \n",
    "            \"L_maxBd\", \"L_RangeJDy\", \"L_F\", \"L_Ph\",\n",
    "            \"y\"]\n",
    "phase_colnames = []\n",
    "abs_colnames = []\n",
    "imag_colnames = []\n",
    "real_colnames = []\n",
    "for f_name in colnames:\n",
    "    phase_colnames.append(f_name + \"_phase\")\n",
    "    abs_colnames.append(f_name + \"_abs\")\n",
    "    real_colnames.append(f_name + \"_real\")\n",
    "    imag_colnames.append(f_name + \"_imag\")\n",
    "\n",
    "print(len(abs_colnames))\n",
    "print(len(phase_colnames))\n",
    "#data_phase = pd.read_csv('COMP_PHASE_difference_10_devices_802_11_a_L_STF_LTF_dataset_Hyp1.txt', sep=\",\", names=phase_colnames, header=None)\n",
    "data_abs = pd.read_csv('Multipath_dataset_ABS_no_CFO_comp.txt', sep=\",\", names=abs_colnames, header=None)\n",
    "#data_real = pd.read_csv('REAL_difference_10_devices_802_11_a_L_STF_LTF_dataset_Hyp1.txt', sep=\",\", names=real_colnames, header=None)\n",
    "#data_imag = pd.read_csv('IMAG_difference_10_devices_802_11_a_L_STF_LTF_dataset_Hyp1.txt', sep=\",\", names=imag_colnames, header=None)\n",
    "data_angle = pd.read_csv('Multipath_dataset_PHASE_no_CFO_comp.txt', sep=\",\", names=phase_colnames, header=None)\n",
    "\n",
    "data_abs.reset_index(drop=True, inplace=True)\n",
    "data_angle.reset_index(drop=True, inplace=True)\n",
    "\n",
    "#data = pd.concat([data_abs, data_angle], axis=1)\n",
    "data = pd.concat([data_abs.drop(\"y_abs\", axis=1), data_angle], axis=1)\n",
    "\n",
    "#data = data.drop([\"S_H_abs\", \"S_A_abs\", \"S_B_abs\", \"L_H_abs\", \"L_A_abs\", \"L_B_abs\", \"S_H_phase\",\n",
    "#                 \"S_A_phase\", \"S_B_phase\", \"L_H_phase\", \"L_A_phase\", \"L_B_phase\", \"S_Mean_phase\", \"L_Mean_phase\"], axis=1)\n",
    "\n",
    "\n",
    "\n",
    "data = data.replace([np.inf, -np.inf, np.nan], 0)\n",
    "\n",
    "data.reset_index()\n",
    "\n",
    "data.info()"
   ]
  },
  {
   "cell_type": "code",
   "execution_count": 2,
   "metadata": {
    "id": "tXiANDU5LVny",
    "scrolled": true
   },
   "outputs": [
    {
     "data": {
      "text/html": [
       "<div>\n",
       "<style scoped>\n",
       "    .dataframe tbody tr th:only-of-type {\n",
       "        vertical-align: middle;\n",
       "    }\n",
       "\n",
       "    .dataframe tbody tr th {\n",
       "        vertical-align: top;\n",
       "    }\n",
       "\n",
       "    .dataframe thead th {\n",
       "        text-align: right;\n",
       "    }\n",
       "</style>\n",
       "<table border=\"1\" class=\"dataframe\">\n",
       "  <thead>\n",
       "    <tr style=\"text-align: right;\">\n",
       "      <th></th>\n",
       "      <th>S_Mean_abs</th>\n",
       "      <th>S_Max-Min_abs</th>\n",
       "      <th>S_Max-|Min|_abs</th>\n",
       "      <th>S_sumYup - sumYdn_abs</th>\n",
       "      <th>S_(Max-Mean)/(Mean-Min))_abs</th>\n",
       "      <th>S_numYup - numYdn_abs</th>\n",
       "      <th>S_maxBd_abs</th>\n",
       "      <th>S_RangeJDy_abs</th>\n",
       "      <th>S_F_abs</th>\n",
       "      <th>L_Mean_abs</th>\n",
       "      <th>...</th>\n",
       "      <th>L_Max-Min_phase</th>\n",
       "      <th>L_Max-|Min|_phase</th>\n",
       "      <th>L_sumYup - sumYdn_phase</th>\n",
       "      <th>L_(Max-Mean)/(Mean-Min))_phase</th>\n",
       "      <th>L_numYup - numYdn_phase</th>\n",
       "      <th>L_maxBd_phase</th>\n",
       "      <th>L_RangeJDy_phase</th>\n",
       "      <th>L_F_phase</th>\n",
       "      <th>L_Ph_phase</th>\n",
       "      <th>y_phase</th>\n",
       "    </tr>\n",
       "  </thead>\n",
       "  <tbody>\n",
       "    <tr>\n",
       "      <th>count</th>\n",
       "      <td>6900.000000</td>\n",
       "      <td>6900.000000</td>\n",
       "      <td>6900.000000</td>\n",
       "      <td>6900.000000</td>\n",
       "      <td>6900.000000</td>\n",
       "      <td>6900.000000</td>\n",
       "      <td>6900.000000</td>\n",
       "      <td>6900.000000</td>\n",
       "      <td>6900.000000</td>\n",
       "      <td>6900.000000</td>\n",
       "      <td>...</td>\n",
       "      <td>6900.000000</td>\n",
       "      <td>6900.000000</td>\n",
       "      <td>6900.000000</td>\n",
       "      <td>6900.000000</td>\n",
       "      <td>6900.000000</td>\n",
       "      <td>6900.000000</td>\n",
       "      <td>6900.000000</td>\n",
       "      <td>6900.000000</td>\n",
       "      <td>6900.000000</td>\n",
       "      <td>6900.000000</td>\n",
       "    </tr>\n",
       "    <tr>\n",
       "      <th>mean</th>\n",
       "      <td>0.962154</td>\n",
       "      <td>-0.034165</td>\n",
       "      <td>40.872866</td>\n",
       "      <td>0.992481</td>\n",
       "      <td>-4.311014</td>\n",
       "      <td>18.858426</td>\n",
       "      <td>4.020361</td>\n",
       "      <td>1.341756</td>\n",
       "      <td>1.547125</td>\n",
       "      <td>-0.008961</td>\n",
       "      <td>...</td>\n",
       "      <td>8.492615</td>\n",
       "      <td>0.055265</td>\n",
       "      <td>450.080368</td>\n",
       "      <td>1.135651</td>\n",
       "      <td>-5.232754</td>\n",
       "      <td>222.834383</td>\n",
       "      <td>14.914899</td>\n",
       "      <td>0.816783</td>\n",
       "      <td>1.360658</td>\n",
       "      <td>6.043478</td>\n",
       "    </tr>\n",
       "    <tr>\n",
       "      <th>std</th>\n",
       "      <td>0.290360</td>\n",
       "      <td>0.089690</td>\n",
       "      <td>11.270851</td>\n",
       "      <td>0.170831</td>\n",
       "      <td>19.804643</td>\n",
       "      <td>5.046779</td>\n",
       "      <td>1.386162</td>\n",
       "      <td>0.448553</td>\n",
       "      <td>0.907229</td>\n",
       "      <td>0.010141</td>\n",
       "      <td>...</td>\n",
       "      <td>11.053210</td>\n",
       "      <td>2.373288</td>\n",
       "      <td>685.738459</td>\n",
       "      <td>0.567172</td>\n",
       "      <td>52.916788</td>\n",
       "      <td>340.108380</td>\n",
       "      <td>12.586374</td>\n",
       "      <td>0.532597</td>\n",
       "      <td>1.033443</td>\n",
       "      <td>2.941350</td>\n",
       "    </tr>\n",
       "    <tr>\n",
       "      <th>min</th>\n",
       "      <td>0.305060</td>\n",
       "      <td>-0.435650</td>\n",
       "      <td>13.501000</td>\n",
       "      <td>0.553410</td>\n",
       "      <td>-70.000000</td>\n",
       "      <td>6.092800</td>\n",
       "      <td>0.909970</td>\n",
       "      <td>0.261180</td>\n",
       "      <td>0.000570</td>\n",
       "      <td>-0.053865</td>\n",
       "      <td>...</td>\n",
       "      <td>0.739470</td>\n",
       "      <td>-23.033000</td>\n",
       "      <td>19.708000</td>\n",
       "      <td>0.183780</td>\n",
       "      <td>-190.000000</td>\n",
       "      <td>9.688300</td>\n",
       "      <td>0.983260</td>\n",
       "      <td>0.000000</td>\n",
       "      <td>0.000000</td>\n",
       "      <td>2.000000</td>\n",
       "    </tr>\n",
       "    <tr>\n",
       "      <th>25%</th>\n",
       "      <td>0.757225</td>\n",
       "      <td>-0.087448</td>\n",
       "      <td>32.894750</td>\n",
       "      <td>0.873795</td>\n",
       "      <td>-16.000000</td>\n",
       "      <td>15.127750</td>\n",
       "      <td>2.989625</td>\n",
       "      <td>1.047200</td>\n",
       "      <td>0.756610</td>\n",
       "      <td>-0.016283</td>\n",
       "      <td>...</td>\n",
       "      <td>2.445875</td>\n",
       "      <td>-0.509072</td>\n",
       "      <td>65.627250</td>\n",
       "      <td>0.804570</td>\n",
       "      <td>-24.000000</td>\n",
       "      <td>32.222000</td>\n",
       "      <td>4.295425</td>\n",
       "      <td>0.164245</td>\n",
       "      <td>0.339653</td>\n",
       "      <td>3.000000</td>\n",
       "    </tr>\n",
       "    <tr>\n",
       "      <th>50%</th>\n",
       "      <td>0.937975</td>\n",
       "      <td>-0.025983</td>\n",
       "      <td>39.642000</td>\n",
       "      <td>0.981565</td>\n",
       "      <td>-4.000000</td>\n",
       "      <td>18.375000</td>\n",
       "      <td>3.924050</td>\n",
       "      <td>1.334500</td>\n",
       "      <td>1.521400</td>\n",
       "      <td>-0.009509</td>\n",
       "      <td>...</td>\n",
       "      <td>3.646700</td>\n",
       "      <td>0.047545</td>\n",
       "      <td>99.592000</td>\n",
       "      <td>1.030300</td>\n",
       "      <td>-8.000000</td>\n",
       "      <td>48.909000</td>\n",
       "      <td>8.793550</td>\n",
       "      <td>1.040450</td>\n",
       "      <td>1.356000</td>\n",
       "      <td>6.000000</td>\n",
       "    </tr>\n",
       "    <tr>\n",
       "      <th>75%</th>\n",
       "      <td>1.136825</td>\n",
       "      <td>0.020677</td>\n",
       "      <td>47.389000</td>\n",
       "      <td>1.094125</td>\n",
       "      <td>8.000000</td>\n",
       "      <td>22.300250</td>\n",
       "      <td>4.921900</td>\n",
       "      <td>1.701325</td>\n",
       "      <td>2.322000</td>\n",
       "      <td>-0.000120</td>\n",
       "      <td>...</td>\n",
       "      <td>9.807450</td>\n",
       "      <td>0.569745</td>\n",
       "      <td>683.155000</td>\n",
       "      <td>1.336600</td>\n",
       "      <td>6.000000</td>\n",
       "      <td>337.410000</td>\n",
       "      <td>27.582500</td>\n",
       "      <td>1.189800</td>\n",
       "      <td>2.285800</td>\n",
       "      <td>9.000000</td>\n",
       "    </tr>\n",
       "    <tr>\n",
       "      <th>max</th>\n",
       "      <td>2.153800</td>\n",
       "      <td>0.282990</td>\n",
       "      <td>86.976000</td>\n",
       "      <td>1.732200</td>\n",
       "      <td>72.000000</td>\n",
       "      <td>37.580000</td>\n",
       "      <td>11.036000</td>\n",
       "      <td>2.102800</td>\n",
       "      <td>3.141000</td>\n",
       "      <td>0.010382</td>\n",
       "      <td>...</td>\n",
       "      <td>242.150000</td>\n",
       "      <td>18.617000</td>\n",
       "      <td>14541.000000</td>\n",
       "      <td>8.042600</td>\n",
       "      <td>190.000000</td>\n",
       "      <td>7209.600000</td>\n",
       "      <td>50.511000</td>\n",
       "      <td>4.881900</td>\n",
       "      <td>3.140600</td>\n",
       "      <td>11.000000</td>\n",
       "    </tr>\n",
       "  </tbody>\n",
       "</table>\n",
       "<p>8 rows × 39 columns</p>\n",
       "</div>"
      ],
      "text/plain": [
       "        S_Mean_abs  S_Max-Min_abs  S_Max-|Min|_abs  S_sumYup - sumYdn_abs  \\\n",
       "count  6900.000000    6900.000000      6900.000000            6900.000000   \n",
       "mean      0.962154      -0.034165        40.872866               0.992481   \n",
       "std       0.290360       0.089690        11.270851               0.170831   \n",
       "min       0.305060      -0.435650        13.501000               0.553410   \n",
       "25%       0.757225      -0.087448        32.894750               0.873795   \n",
       "50%       0.937975      -0.025983        39.642000               0.981565   \n",
       "75%       1.136825       0.020677        47.389000               1.094125   \n",
       "max       2.153800       0.282990        86.976000               1.732200   \n",
       "\n",
       "       S_(Max-Mean)/(Mean-Min))_abs  S_numYup - numYdn_abs  S_maxBd_abs  \\\n",
       "count                   6900.000000            6900.000000  6900.000000   \n",
       "mean                      -4.311014              18.858426     4.020361   \n",
       "std                       19.804643               5.046779     1.386162   \n",
       "min                      -70.000000               6.092800     0.909970   \n",
       "25%                      -16.000000              15.127750     2.989625   \n",
       "50%                       -4.000000              18.375000     3.924050   \n",
       "75%                        8.000000              22.300250     4.921900   \n",
       "max                       72.000000              37.580000    11.036000   \n",
       "\n",
       "       S_RangeJDy_abs      S_F_abs   L_Mean_abs  ...  L_Max-Min_phase  \\\n",
       "count     6900.000000  6900.000000  6900.000000  ...      6900.000000   \n",
       "mean         1.341756     1.547125    -0.008961  ...         8.492615   \n",
       "std          0.448553     0.907229     0.010141  ...        11.053210   \n",
       "min          0.261180     0.000570    -0.053865  ...         0.739470   \n",
       "25%          1.047200     0.756610    -0.016283  ...         2.445875   \n",
       "50%          1.334500     1.521400    -0.009509  ...         3.646700   \n",
       "75%          1.701325     2.322000    -0.000120  ...         9.807450   \n",
       "max          2.102800     3.141000     0.010382  ...       242.150000   \n",
       "\n",
       "       L_Max-|Min|_phase  L_sumYup - sumYdn_phase  \\\n",
       "count        6900.000000              6900.000000   \n",
       "mean            0.055265               450.080368   \n",
       "std             2.373288               685.738459   \n",
       "min           -23.033000                19.708000   \n",
       "25%            -0.509072                65.627250   \n",
       "50%             0.047545                99.592000   \n",
       "75%             0.569745               683.155000   \n",
       "max            18.617000             14541.000000   \n",
       "\n",
       "       L_(Max-Mean)/(Mean-Min))_phase  L_numYup - numYdn_phase  L_maxBd_phase  \\\n",
       "count                     6900.000000              6900.000000    6900.000000   \n",
       "mean                         1.135651                -5.232754     222.834383   \n",
       "std                          0.567172                52.916788     340.108380   \n",
       "min                          0.183780              -190.000000       9.688300   \n",
       "25%                          0.804570               -24.000000      32.222000   \n",
       "50%                          1.030300                -8.000000      48.909000   \n",
       "75%                          1.336600                 6.000000     337.410000   \n",
       "max                          8.042600               190.000000    7209.600000   \n",
       "\n",
       "       L_RangeJDy_phase    L_F_phase   L_Ph_phase      y_phase  \n",
       "count       6900.000000  6900.000000  6900.000000  6900.000000  \n",
       "mean          14.914899     0.816783     1.360658     6.043478  \n",
       "std           12.586374     0.532597     1.033443     2.941350  \n",
       "min            0.983260     0.000000     0.000000     2.000000  \n",
       "25%            4.295425     0.164245     0.339653     3.000000  \n",
       "50%            8.793550     1.040450     1.356000     6.000000  \n",
       "75%           27.582500     1.189800     2.285800     9.000000  \n",
       "max           50.511000     4.881900     3.140600    11.000000  \n",
       "\n",
       "[8 rows x 39 columns]"
      ]
     },
     "execution_count": 2,
     "metadata": {},
     "output_type": "execute_result"
    }
   ],
   "source": [
    "data.describe()"
   ]
  },
  {
   "cell_type": "code",
   "execution_count": 236,
   "metadata": {
    "id": "gU-ei32YLWsl"
   },
   "outputs": [],
   "source": [
    "import numpy as np\n",
    "\n",
    "X = np.array(data.drop(\"y_phase\", axis=1))\n",
    "#X = X[:, [0, 1, 3, 6, 8, 13, 21, 38]]\n",
    "y = np.array(data [\"y_phase\"]) - 2"
   ]
  },
  {
   "cell_type": "code",
   "execution_count": 247,
   "metadata": {},
   "outputs": [
    {
     "data": {
      "text/plain": [
       "<function matplotlib.pyplot.show(close=None, block=None)>"
      ]
     },
     "execution_count": 247,
     "metadata": {},
     "output_type": "execute_result"
    },
    {
     "data": {
      "image/png": "[encoded data removed]",
      "text/plain": [
       "<Figure size 432x288 with 1 Axes>"
      ]
     },
     "metadata": {
      "needs_background": "light"
     },
     "output_type": "display_data"
    }
   ],
   "source": [
    "plt.plot(y)\n",
    "plt.show"
   ]
  },
  {
   "cell_type": "code",
   "execution_count": 242,
   "metadata": {},
   "outputs": [
    {
     "data": {
      "text/plain": [
       "(900,)"
      ]
     },
     "execution_count": 242,
     "metadata": {},
     "output_type": "execute_result"
    }
   ],
   "source": [
    "X[y==1, 0].shape"
   ]
  },
  {
   "cell_type": "code",
   "execution_count": 246,
   "metadata": {},
   "outputs": [
    {
     "data": {
      "text/plain": [
       "<matplotlib.collections.PathCollection at 0x7f99706931c0>"
      ]
     },
     "execution_count": 246,
     "metadata": {},
     "output_type": "execute_result"
    },
    {
     "data": {
      "image/png": "[encoded data removed]",
      "text/plain": [
       "<Figure size 432x288 with 1 Axes>"
      ]
     },
     "metadata": {
      "needs_background": "light"
     },
     "output_type": "display_data"
    }
   ],
   "source": [
    "plt.scatter(X[y<11, 9], X[y<11, 25], c = y[y<11], cmap = 'tab10')"
   ]
  },
  {
   "cell_type": "code",
   "execution_count": 232,
   "metadata": {},
   "outputs": [],
   "source": [
    "from sklearn.decomposition import PCA\n",
    "X_pca = PCA(n_components='mle', random_state=55).fit_transform(X)"
   ]
  },
  {
   "cell_type": "code",
   "execution_count": 234,
   "metadata": {},
   "outputs": [
    {
     "data": {
      "text/plain": [
       "(6900, 37)"
      ]
     },
     "execution_count": 234,
     "metadata": {},
     "output_type": "execute_result"
    }
   ],
   "source": [
    "X_pca.shape"
   ]
  },
  {
   "cell_type": "code",
   "execution_count": 230,
   "metadata": {},
   "outputs": [
    {
     "data": {
      "text/plain": [
       "<matplotlib.collections.PathCollection at 0x7f996f088640>"
      ]
     },
     "execution_count": 230,
     "metadata": {},
     "output_type": "execute_result"
    },
    {
     "data": {
      "image/png": "[encoded data removed]",
      "text/plain": [
       "<Figure size 432x288 with 1 Axes>"
      ]
     },
     "metadata": {
      "needs_background": "light"
     },
     "output_type": "display_data"
    }
   ],
   "source": [
    "plt.scatter(X_pca[:, 0], X_pca[:, 1], c = y, cmap='autumn')"
   ]
  },
  {
   "cell_type": "code",
   "execution_count": 4,
   "metadata": {
    "id": "ZhjXFWDCLYGF"
   },
   "outputs": [],
   "source": [
    "from sklearn.preprocessing import MinMaxScaler\n",
    "\n",
    "scaler = MinMaxScaler(feature_range=(0, 1))\n",
    "scaler.fit(X)\n",
    "X = scaler.transform(X)"
   ]
  },
  {
   "cell_type": "code",
   "execution_count": 5,
   "metadata": {
    "id": "o3JgRWVhLZMH"
   },
   "outputs": [],
   "source": [
    "from sklearn.model_selection import train_test_split\n",
    "\n",
    "X_train, X_test, y_train, y_test = train_test_split(X, y,random_state = 55,\n",
    "                                                        test_size = 0.3, shuffle=True, stratify=y)"
   ]
  },
  {
   "cell_type": "code",
   "execution_count": 6,
   "metadata": {
    "id": "X4eCLkmzLaJC"
   },
   "outputs": [
    {
     "data": {
      "text/plain": [
       "DecisionTreeClassifier(random_state=60)"
      ]
     },
     "execution_count": 6,
     "metadata": {},
     "output_type": "execute_result"
    }
   ],
   "source": [
    "from sklearn.tree import DecisionTreeClassifier\n",
    "\n",
    "DT = DecisionTreeClassifier(random_state=60)\n",
    "\n",
    "DT.fit(X_train, y_train)"
   ]
  },
  {
   "cell_type": "code",
   "execution_count": 7,
   "metadata": {
    "id": "ROO3XMSfLbDa"
   },
   "outputs": [
    {
     "name": "stdout",
     "output_type": "stream",
     "text": [
      "0.7579710144927536\n"
     ]
    }
   ],
   "source": [
    "from sklearn.metrics import accuracy_score, f1_score\n",
    "\n",
    "y_pred = DT.predict(X_test)\n",
    "acc = accuracy_score(y_test, y_pred)\n",
    "print(acc)"
   ]
  },
  {
   "cell_type": "code",
   "execution_count": 8,
   "metadata": {},
   "outputs": [
    {
     "data": {
      "text/plain": [
       "RandomForestClassifier(criterion='entropy', n_estimators=300)"
      ]
     },
     "execution_count": 8,
     "metadata": {},
     "output_type": "execute_result"
    }
   ],
   "source": [
    "from sklearn.ensemble import RandomForestClassifier\n",
    "\n",
    "rf = RandomForestClassifier(n_estimators=300, criterion= \"entropy\")\n",
    "\n",
    "rf.fit(X_train, y_train)"
   ]
  },
  {
   "cell_type": "code",
   "execution_count": 9,
   "metadata": {},
   "outputs": [
    {
     "name": "stdout",
     "output_type": "stream",
     "text": [
      "0.8961352657004831\n"
     ]
    }
   ],
   "source": [
    "y_pred = rf.predict(X_test)\n",
    "acc = accuracy_score(y_test, y_pred)\n",
    "print(acc)"
   ]
  },
  {
   "cell_type": "code",
   "execution_count": null,
   "metadata": {},
   "outputs": [],
   "source": [
    "help(f1_score)"
   ]
  },
  {
   "cell_type": "code",
   "execution_count": 10,
   "metadata": {},
   "outputs": [
    {
     "name": "stdout",
     "output_type": "stream",
     "text": [
      "Help on function drop in module pandas.core.frame:\n",
      "\n",
      "drop(self, labels=None, axis: 'Axis' = 0, index=None, columns=None, level: 'Level | None' = None, inplace: 'bool' = False, errors: 'str' = 'raise')\n",
      "    Drop specified labels from rows or columns.\n",
      "    \n",
      "    Remove rows or columns by specifying label names and corresponding\n",
      "    axis, or by specifying directly index or column names. When using a\n",
      "    multi-index, labels on different levels can be removed by specifying\n",
      "    the level. See the `user guide <advanced.shown_levels>`\n",
      "    for more information about the now unused levels.\n",
      "    \n",
      "    Parameters\n",
      "    ----------\n",
      "    labels : single label or list-like\n",
      "        Index or column labels to drop.\n",
      "    axis : {0 or 'index', 1 or 'columns'}, default 0\n",
      "        Whether to drop labels from the index (0 or 'index') or\n",
      "        columns (1 or 'columns').\n",
      "    index : single label or list-like\n",
      "        Alternative to specifying axis (``labels, axis=0``\n",
      "        is equivalent to ``index=labels``).\n",
      "    columns : single label or list-like\n",
      "        Alternative to specifying axis (``labels, axis=1``\n",
      "        is equivalent to ``columns=labels``).\n",
      "    level : int or level name, optional\n",
      "        For MultiIndex, level from which the labels will be removed.\n",
      "    inplace : bool, default False\n",
      "        If False, return a copy. Otherwise, do operation\n",
      "        inplace and return None.\n",
      "    errors : {'ignore', 'raise'}, default 'raise'\n",
      "        If 'ignore', suppress error and only existing labels are\n",
      "        dropped.\n",
      "    \n",
      "    Returns\n",
      "    -------\n",
      "    DataFrame or None\n",
      "        DataFrame without the removed index or column labels or\n",
      "        None if ``inplace=True``.\n",
      "    \n",
      "    Raises\n",
      "    ------\n",
      "    KeyError\n",
      "        If any of the labels is not found in the selected axis.\n",
      "    \n",
      "    See Also\n",
      "    --------\n",
      "    DataFrame.loc : Label-location based indexer for selection by label.\n",
      "    DataFrame.dropna : Return DataFrame with labels on given axis omitted\n",
      "        where (all or any) data are missing.\n",
      "    DataFrame.drop_duplicates : Return DataFrame with duplicate rows\n",
      "        removed, optionally only considering certain columns.\n",
      "    Series.drop : Return Series with specified index labels removed.\n",
      "    \n",
      "    Examples\n",
      "    --------\n",
      "    >>> df = pd.DataFrame(np.arange(12).reshape(3, 4),\n",
      "    ...                   columns=['A', 'B', 'C', 'D'])\n",
      "    >>> df\n",
      "       A  B   C   D\n",
      "    0  0  1   2   3\n",
      "    1  4  5   6   7\n",
      "    2  8  9  10  11\n",
      "    \n",
      "    Drop columns\n",
      "    \n",
      "    >>> df.drop(['B', 'C'], axis=1)\n",
      "       A   D\n",
      "    0  0   3\n",
      "    1  4   7\n",
      "    2  8  11\n",
      "    \n",
      "    >>> df.drop(columns=['B', 'C'])\n",
      "       A   D\n",
      "    0  0   3\n",
      "    1  4   7\n",
      "    2  8  11\n",
      "    \n",
      "    Drop a row by index\n",
      "    \n",
      "    >>> df.drop([0, 1])\n",
      "       A  B   C   D\n",
      "    2  8  9  10  11\n",
      "    \n",
      "    Drop columns and/or rows of MultiIndex DataFrame\n",
      "    \n",
      "    >>> midx = pd.MultiIndex(levels=[['lama', 'cow', 'falcon'],\n",
      "    ...                              ['speed', 'weight', 'length']],\n",
      "    ...                      codes=[[0, 0, 0, 1, 1, 1, 2, 2, 2],\n",
      "    ...                             [0, 1, 2, 0, 1, 2, 0, 1, 2]])\n",
      "    >>> df = pd.DataFrame(index=midx, columns=['big', 'small'],\n",
      "    ...                   data=[[45, 30], [200, 100], [1.5, 1], [30, 20],\n",
      "    ...                         [250, 150], [1.5, 0.8], [320, 250],\n",
      "    ...                         [1, 0.8], [0.3, 0.2]])\n",
      "    >>> df\n",
      "                    big     small\n",
      "    lama    speed   45.0    30.0\n",
      "            weight  200.0   100.0\n",
      "            length  1.5     1.0\n",
      "    cow     speed   30.0    20.0\n",
      "            weight  250.0   150.0\n",
      "            length  1.5     0.8\n",
      "    falcon  speed   320.0   250.0\n",
      "            weight  1.0     0.8\n",
      "            length  0.3     0.2\n",
      "    \n",
      "    >>> df.drop(index='cow', columns='small')\n",
      "                    big\n",
      "    lama    speed   45.0\n",
      "            weight  200.0\n",
      "            length  1.5\n",
      "    falcon  speed   320.0\n",
      "            weight  1.0\n",
      "            length  0.3\n",
      "    \n",
      "    >>> df.drop(index='length', level=1)\n",
      "                    big     small\n",
      "    lama    speed   45.0    30.0\n",
      "            weight  200.0   100.0\n",
      "    cow     speed   30.0    20.0\n",
      "            weight  250.0   150.0\n",
      "    falcon  speed   320.0   250.0\n",
      "            weight  1.0     0.8\n",
      "\n"
     ]
    }
   ],
   "source": [
    "help(pd.DataFrame.drop)"
   ]
  },
  {
   "cell_type": "code",
   "execution_count": 11,
   "metadata": {},
   "outputs": [
    {
     "data": {
      "text/plain": [
       "<function matplotlib.pyplot.show(close=None, block=None)>"
      ]
     },
     "execution_count": 11,
     "metadata": {},
     "output_type": "execute_result"
    },
    {
     "data": {
      "image/png": "[encoded data removed]",
      "text/plain": [
       "<Figure size 1656x576 with 1 Axes>"
      ]
     },
     "metadata": {
      "needs_background": "light"
     },
     "output_type": "display_data"
    }
   ],
   "source": [
    "import matplotlib.pyplot as plt\n",
    "plt.figure(figsize=(23,8))\n",
    "plt.bar(data.columns[:-1], rf.feature_importances_)\n",
    "plt.xticks(rotation=50)\n",
    "plt.show"
   ]
  },
  {
   "cell_type": "code",
   "execution_count": 12,
   "metadata": {},
   "outputs": [
    {
     "data": {
      "text/plain": [
       "Index(['S_Max-|Min|_abs', 'L_Mean_abs', 'L_F_abs', 'S_maxBd_phase',\n",
       "       'L_RangeJDy_phase'],\n",
       "      dtype='object')"
      ]
     },
     "execution_count": 12,
     "metadata": {},
     "output_type": "execute_result"
    }
   ],
   "source": [
    "data.columns[np.append(rf.feature_importances_ > 0.04, False)]"
   ]
  },
  {
   "cell_type": "code",
   "execution_count": 94,
   "metadata": {},
   "outputs": [],
   "source": [
    "X_nm = [X[:,rf.feature_importances_ > n*0.001] for n in range(1, 38, 2)]"
   ]
  },
  {
   "cell_type": "code",
   "execution_count": 95,
   "metadata": {},
   "outputs": [],
   "source": [
    "scaler = MinMaxScaler(feature_range=(0, 1))\n",
    "rf_1 = RandomForestClassifier(n_estimators=300, criterion= \"entropy\")\n",
    "acc = []\n",
    "f1 = []\n",
    "for i in X_nm:\n",
    "    scaler.fit(i)\n",
    "    i = scaler.transform(i)\n",
    "    X_train, X_test, y_train, y_test = train_test_split(i, y,random_state = 55,\n",
    "                                                            test_size = 0.3, shuffle=True, stratify=y)\n",
    "    rf_1.fit(X_train, y_train)\n",
    "    y_pred = rf_1.predict(X_test)\n",
    "    acc.append(accuracy_score(y_test, y_pred))\n",
    "    #f1.append(f1_score(y_test, y_pred, 'weighted'))"
   ]
  },
  {
   "cell_type": "code",
   "execution_count": 96,
   "metadata": {},
   "outputs": [],
   "source": [
    "# plt.plot([i.shape[1] for i in X_nm], f1)\n",
    "# plt.show"
   ]
  },
  {
   "cell_type": "code",
   "execution_count": 105,
   "metadata": {},
   "outputs": [
    {
     "data": {
      "text/plain": [
       "<function matplotlib.pyplot.show(close=None, block=None)>"
      ]
     },
     "execution_count": 105,
     "metadata": {},
     "output_type": "execute_result"
    },
    {
     "data": {
      "image/png": "[encoded data removed]",
      "text/plain": [
       "<Figure size 1440x720 with 1 Axes>"
      ]
     },
     "metadata": {
      "needs_background": "light"
     },
     "output_type": "display_data"
    }
   ],
   "source": [
    "plt.figure(figsize=(20,10))\n",
    "plt.plot([i.shape[1] for i in X_nm], acc)\n",
    "plt.grid(True)\n",
    "plt.show"
   ]
  },
  {
   "cell_type": "code",
   "execution_count": 160,
   "metadata": {},
   "outputs": [],
   "source": [
    "for i in range(5,15):\n",
    "    if len(X_nm[i][:][0])==12:\n",
    "           cuthold = i\n",
    "X_cutted = X_nm[cuthold]"
   ]
  },
  {
   "cell_type": "code",
   "execution_count": 199,
   "metadata": {},
   "outputs": [
    {
     "name": "stdout",
     "output_type": "stream",
     "text": [
      "[-1  0  1  2  3  4  5  6  7  8]\n"
     ]
    }
   ],
   "source": [
    "from sklearn.cluster import DBSCAN\n",
    "clustering = DBSCAN(eps=0.223, n_jobs=-1)\n",
    "prediction = clustering.fit_predict(X_cutted)\n",
    "pred = prediction[np.argwhere(y == 1)]\n",
    "print(np.unique(clustering.labels_))"
   ]
  },
  {
   "cell_type": "code",
   "execution_count": 178,
   "metadata": {},
   "outputs": [
    {
     "name": "stdout",
     "output_type": "stream",
     "text": [
      "Help on class DBSCAN in module sklearn.cluster._dbscan:\n",
      "\n",
      "class DBSCAN(sklearn.base.ClusterMixin, sklearn.base.BaseEstimator)\n",
      " |  DBSCAN(eps=0.5, *, min_samples=5, metric='euclidean', metric_params=None, algorithm='auto', leaf_size=30, p=None, n_jobs=None)\n",
      " |  \n",
      " |  Perform DBSCAN clustering from vector array or distance matrix.\n",
      " |  \n",
      " |  DBSCAN - Density-Based Spatial Clustering of Applications with Noise.\n",
      " |  Finds core samples of high density and expands clusters from them.\n",
      " |  Good for data which contains clusters of similar density.\n",
      " |  \n",
      " |  Read more in the :ref:`User Guide <dbscan>`.\n",
      " |  \n",
      " |  Parameters\n",
      " |  ----------\n",
      " |  eps : float, default=0.5\n",
      " |      The maximum distance between two samples for one to be considered\n",
      " |      as in the neighborhood of the other. This is not a maximum bound\n",
      " |      on the distances of points within a cluster. This is the most\n",
      " |      important DBSCAN parameter to choose appropriately for your data set\n",
      " |      and distance function.\n",
      " |  \n",
      " |  min_samples : int, default=5\n",
      " |      The number of samples (or total weight) in a neighborhood for a point\n",
      " |      to be considered as a core point. This includes the point itself.\n",
      " |  \n",
      " |  metric : str, or callable, default='euclidean'\n",
      " |      The metric to use when calculating distance between instances in a\n",
      " |      feature array. If metric is a string or callable, it must be one of\n",
      " |      the options allowed by :func:`sklearn.metrics.pairwise_distances` for\n",
      " |      its metric parameter.\n",
      " |      If metric is \"precomputed\", X is assumed to be a distance matrix and\n",
      " |      must be square. X may be a :term:`Glossary <sparse graph>`, in which\n",
      " |      case only \"nonzero\" elements may be considered neighbors for DBSCAN.\n",
      " |  \n",
      " |      .. versionadded:: 0.17\n",
      " |         metric *precomputed* to accept precomputed sparse matrix.\n",
      " |  \n",
      " |  metric_params : dict, default=None\n",
      " |      Additional keyword arguments for the metric function.\n",
      " |  \n",
      " |      .. versionadded:: 0.19\n",
      " |  \n",
      " |  algorithm : {'auto', 'ball_tree', 'kd_tree', 'brute'}, default='auto'\n",
      " |      The algorithm to be used by the NearestNeighbors module\n",
      " |      to compute pointwise distances and find nearest neighbors.\n",
      " |      See NearestNeighbors module documentation for details.\n",
      " |  \n",
      " |  leaf_size : int, default=30\n",
      " |      Leaf size passed to BallTree or cKDTree. This can affect the speed\n",
      " |      of the construction and query, as well as the memory required\n",
      " |      to store the tree. The optimal value depends\n",
      " |      on the nature of the problem.\n",
      " |  \n",
      " |  p : float, default=None\n",
      " |      The power of the Minkowski metric to be used to calculate distance\n",
      " |      between points. If None, then ``p=2`` (equivalent to the Euclidean\n",
      " |      distance).\n",
      " |  \n",
      " |  n_jobs : int, default=None\n",
      " |      The number of parallel jobs to run.\n",
      " |      ``None`` means 1 unless in a :obj:`joblib.parallel_backend` context.\n",
      " |      ``-1`` means using all processors. See :term:`Glossary <n_jobs>`\n",
      " |      for more details.\n",
      " |  \n",
      " |  Attributes\n",
      " |  ----------\n",
      " |  core_sample_indices_ : ndarray of shape (n_core_samples,)\n",
      " |      Indices of core samples.\n",
      " |  \n",
      " |  components_ : ndarray of shape (n_core_samples, n_features)\n",
      " |      Copy of each core sample found by training.\n",
      " |  \n",
      " |  labels_ : ndarray of shape (n_samples)\n",
      " |      Cluster labels for each point in the dataset given to fit().\n",
      " |      Noisy samples are given the label -1.\n",
      " |  \n",
      " |  n_features_in_ : int\n",
      " |      Number of features seen during :term:`fit`.\n",
      " |  \n",
      " |      .. versionadded:: 0.24\n",
      " |  \n",
      " |  feature_names_in_ : ndarray of shape (`n_features_in_`,)\n",
      " |      Names of features seen during :term:`fit`. Defined only when `X`\n",
      " |      has feature names that are all strings.\n",
      " |  \n",
      " |      .. versionadded:: 1.0\n",
      " |  \n",
      " |  See Also\n",
      " |  --------\n",
      " |  OPTICS : A similar clustering at multiple values of eps. Our implementation\n",
      " |      is optimized for memory usage.\n",
      " |  \n",
      " |  Notes\n",
      " |  -----\n",
      " |  For an example, see :ref:`examples/cluster/plot_dbscan.py\n",
      " |  <sphx_glr_auto_examples_cluster_plot_dbscan.py>`.\n",
      " |  \n",
      " |  This implementation bulk-computes all neighborhood queries, which increases\n",
      " |  the memory complexity to O(n.d) where d is the average number of neighbors,\n",
      " |  while original DBSCAN had memory complexity O(n). It may attract a higher\n",
      " |  memory complexity when querying these nearest neighborhoods, depending\n",
      " |  on the ``algorithm``.\n",
      " |  \n",
      " |  One way to avoid the query complexity is to pre-compute sparse\n",
      " |  neighborhoods in chunks using\n",
      " |  :func:`NearestNeighbors.radius_neighbors_graph\n",
      " |  <sklearn.neighbors.NearestNeighbors.radius_neighbors_graph>` with\n",
      " |  ``mode='distance'``, then using ``metric='precomputed'`` here.\n",
      " |  \n",
      " |  Another way to reduce memory and computation time is to remove\n",
      " |  (near-)duplicate points and use ``sample_weight`` instead.\n",
      " |  \n",
      " |  :class:`cluster.OPTICS` provides a similar clustering with lower memory\n",
      " |  usage.\n",
      " |  \n",
      " |  References\n",
      " |  ----------\n",
      " |  Ester, M., H. P. Kriegel, J. Sander, and X. Xu, \"A Density-Based\n",
      " |  Algorithm for Discovering Clusters in Large Spatial Databases with Noise\".\n",
      " |  In: Proceedings of the 2nd International Conference on Knowledge Discovery\n",
      " |  and Data Mining, Portland, OR, AAAI Press, pp. 226-231. 1996\n",
      " |  \n",
      " |  Schubert, E., Sander, J., Ester, M., Kriegel, H. P., & Xu, X. (2017).\n",
      " |  DBSCAN revisited, revisited: why and how you should (still) use DBSCAN.\n",
      " |  ACM Transactions on Database Systems (TODS), 42(3), 19.\n",
      " |  \n",
      " |  Examples\n",
      " |  --------\n",
      " |  >>> from sklearn.cluster import DBSCAN\n",
      " |  >>> import numpy as np\n",
      " |  >>> X = np.array([[1, 2], [2, 2], [2, 3],\n",
      " |  ...               [8, 7], [8, 8], [25, 80]])\n",
      " |  >>> clustering = DBSCAN(eps=3, min_samples=2).fit(X)\n",
      " |  >>> clustering.labels_\n",
      " |  array([ 0,  0,  0,  1,  1, -1])\n",
      " |  >>> clustering\n",
      " |  DBSCAN(eps=3, min_samples=2)\n",
      " |  \n",
      " |  Method resolution order:\n",
      " |      DBSCAN\n",
      " |      sklearn.base.ClusterMixin\n",
      " |      sklearn.base.BaseEstimator\n",
      " |      builtins.object\n",
      " |  \n",
      " |  Methods defined here:\n",
      " |  \n",
      " |  __init__(self, eps=0.5, *, min_samples=5, metric='euclidean', metric_params=None, algorithm='auto', leaf_size=30, p=None, n_jobs=None)\n",
      " |      Initialize self.  See help(type(self)) for accurate signature.\n",
      " |  \n",
      " |  fit(self, X, y=None, sample_weight=None)\n",
      " |      Perform DBSCAN clustering from features, or distance matrix.\n",
      " |      \n",
      " |      Parameters\n",
      " |      ----------\n",
      " |      X : {array-like, sparse matrix} of shape (n_samples, n_features), or             (n_samples, n_samples)\n",
      " |          Training instances to cluster, or distances between instances if\n",
      " |          ``metric='precomputed'``. If a sparse matrix is provided, it will\n",
      " |          be converted into a sparse ``csr_matrix``.\n",
      " |      \n",
      " |      y : Ignored\n",
      " |          Not used, present here for API consistency by convention.\n",
      " |      \n",
      " |      sample_weight : array-like of shape (n_samples,), default=None\n",
      " |          Weight of each sample, such that a sample with a weight of at least\n",
      " |          ``min_samples`` is by itself a core sample; a sample with a\n",
      " |          negative weight may inhibit its eps-neighbor from being core.\n",
      " |          Note that weights are absolute, and default to 1.\n",
      " |      \n",
      " |      Returns\n",
      " |      -------\n",
      " |      self : object\n",
      " |          Returns a fitted instance of self.\n",
      " |  \n",
      " |  fit_predict(self, X, y=None, sample_weight=None)\n",
      " |      Compute clusters from a data or distance matrix and predict labels.\n",
      " |      \n",
      " |      Parameters\n",
      " |      ----------\n",
      " |      X : {array-like, sparse matrix} of shape (n_samples, n_features), or             (n_samples, n_samples)\n",
      " |          Training instances to cluster, or distances between instances if\n",
      " |          ``metric='precomputed'``. If a sparse matrix is provided, it will\n",
      " |          be converted into a sparse ``csr_matrix``.\n",
      " |      \n",
      " |      y : Ignored\n",
      " |          Not used, present here for API consistency by convention.\n",
      " |      \n",
      " |      sample_weight : array-like of shape (n_samples,), default=None\n",
      " |          Weight of each sample, such that a sample with a weight of at least\n",
      " |          ``min_samples`` is by itself a core sample; a sample with a\n",
      " |          negative weight may inhibit its eps-neighbor from being core.\n",
      " |          Note that weights are absolute, and default to 1.\n",
      " |      \n",
      " |      Returns\n",
      " |      -------\n",
      " |      labels : ndarray of shape (n_samples,)\n",
      " |          Cluster labels. Noisy samples are given the label -1.\n",
      " |  \n",
      " |  ----------------------------------------------------------------------\n",
      " |  Data descriptors inherited from sklearn.base.ClusterMixin:\n",
      " |  \n",
      " |  __dict__\n",
      " |      dictionary for instance variables (if defined)\n",
      " |  \n",
      " |  __weakref__\n",
      " |      list of weak references to the object (if defined)\n",
      " |  \n",
      " |  ----------------------------------------------------------------------\n",
      " |  Methods inherited from sklearn.base.BaseEstimator:\n",
      " |  \n",
      " |  __getstate__(self)\n",
      " |  \n",
      " |  __repr__(self, N_CHAR_MAX=700)\n",
      " |      Return repr(self).\n",
      " |  \n",
      " |  __setstate__(self, state)\n",
      " |  \n",
      " |  get_params(self, deep=True)\n",
      " |      Get parameters for this estimator.\n",
      " |      \n",
      " |      Parameters\n",
      " |      ----------\n",
      " |      deep : bool, default=True\n",
      " |          If True, will return the parameters for this estimator and\n",
      " |          contained subobjects that are estimators.\n",
      " |      \n",
      " |      Returns\n",
      " |      -------\n",
      " |      params : dict\n",
      " |          Parameter names mapped to their values.\n",
      " |  \n",
      " |  set_params(self, **params)\n",
      " |      Set the parameters of this estimator.\n",
      " |      \n",
      " |      The method works on simple estimators as well as on nested objects\n",
      " |      (such as :class:`~sklearn.pipeline.Pipeline`). The latter have\n",
      " |      parameters of the form ``<component>__<parameter>`` so that it's\n",
      " |      possible to update each component of a nested object.\n",
      " |      \n",
      " |      Parameters\n",
      " |      ----------\n",
      " |      **params : dict\n",
      " |          Estimator parameters.\n",
      " |      \n",
      " |      Returns\n",
      " |      -------\n",
      " |      self : estimator instance\n",
      " |          Estimator instance.\n",
      "\n"
     ]
    }
   ],
   "source": []
  },
  {
   "cell_type": "code",
   "execution_count": 168,
   "metadata": {},
   "outputs": [
    {
     "name": "stdout",
     "output_type": "stream",
     "text": [
      "6\n"
     ]
    }
   ],
   "source": []
  },
  {
   "cell_type": "code",
   "execution_count": null,
   "metadata": {},
   "outputs": [],
   "source": [
    "# from sklearn.model_selection import cross_validate, StratifiedShuffleSplit\n",
    "\n",
    "# cv = StratifiedShuffleSplit(n_splits=5, random_state=3)\n",
    "# score = cross_validate(rf, X_train, y_train, cv=cv, scoring='accuracy', return_train_score=True)\n",
    "# print('rf', 'mean test score :', round(np.mean(score['test_score']),3), '\\n', 'train scores:', score['train_score'],  '\\n', 'test scores:', score['test_score'], '\\n')"
   ]
  },
  {
   "cell_type": "code",
   "execution_count": null,
   "metadata": {},
   "outputs": [],
   "source": [
    "# from sklearn.neural_network import MLPClassifier\n",
    "# MLP = MLPClassifier(activation = 'relu', max_iter = 300, solver='adam', alpha=3e-4,\n",
    "#                         hidden_layer_sizes=(37, 250), random_state=10)\n",
    "# MLP.fit(X_train,y_train)\n",
    "\n",
    "# y_pred = MLP.predict(X_train)\n",
    "# acc = accuracy_score(y_train, y_pred)\n",
    "# print(acc)\n",
    "\n",
    "# y_pred = MLP.predict(X_test)\n",
    "# acc = accuracy_score(y_test, y_pred)\n",
    "# print(acc)\n",
    "\n",
    "# from sklearn.neural_network import MLPClassifier\n",
    "\n",
    "# import torch\n",
    "# import torch.nn as nn\n",
    "# import torchsummary\n",
    "# device = 'cuda:0' if torch.cuda.is_available() else 'cpu'\n",
    "\n",
    "# fmnist_dataset_train = torchvision.datasets.FashionMNIST(root_path, \n",
    "#                                                         train=True, \n",
    "#                                                         transform=train_transform,\n",
    "#                                                         target_transform=None,\n",
    "#                                                         download=download)\n",
    "# fmnist_dataset_test = torchvision.datasets.FashionMNIST(root_path, \n",
    "#                                                        train=False, \n",
    "#                                                        transform=test_transform,\n",
    "#                                                        target_transform=None,\n",
    "#                                                        download=download)\n",
    "# train_loader = torch.utils.data.DataLoader(fmnist_dataset_train, \n",
    "#                                            batch_size=128,\n",
    "#                                            shuffle=True,\n",
    "#                                            num_workers=2)\n",
    "# test_loader = torch.utils.data.DataLoader(fmnist_dataset_test,\n",
    "#                                           batch_size=256,\n",
    "#                                           shuffle=False,\n",
    "#                                           num_workers=2)\n",
    "\n",
    "# class TinyNeuralNetwork(nn.Module):\n",
    "#     def __init__(self, input_shape=28*28, num_classes=10, input_channels=1, hidden_layer_size=(4096, 2048)):\n",
    "#         super(self.__class__, self).__init__()\n",
    "#         self.model = nn.Sequential(\n",
    "#             nn.Flatten(), # This layer converts image into a vector to use Linear layers afterwards\n",
    "#             # Your network structure comes here\n",
    "#             nn.Linear(input_shape, hidden_layer_size[0]),\n",
    "#             nn.Dropout(),\n",
    "#             nn.ELU(),\n",
    "#             nn.Linear(hidden_layer_size[0], hidden_layer_size[1]),\n",
    "#             nn.Dropout(),\n",
    "#             nn.ELU(),\n",
    "#             nn.Linear(hidden_layer_size[1], num_classes),\n",
    "#             nn.Dropout(),\n",
    "#             nn.LogSoftmax(dim=1)\n",
    "#         )\n",
    "        \n",
    "#     def forward(self, inp):       \n",
    "#         out = self.model(inp)\n",
    "#         return out\n",
    "\n",
    "# torchsummary.summary(TinyNeuralNetwork().to(device), (28*28,))\n",
    "\n",
    "# model = TinyNeuralNetwork().to(device)\n",
    "# opt = torch.optim.Adam(model.parameters(), lr=0.0001)\n",
    "# loss_func = nn.functional.nll_loss\n",
    "\n",
    "# num_epochs = 60\n",
    "# def error(loader, model):\n",
    "#     model.eval()\n",
    "#     correct = 0\n",
    "#     with torch.no_grad():\n",
    "#         for data, target in loader:\n",
    "#             data, target = data.to(device), target.to(device)\n",
    "#             output = model(data)\n",
    "#             pred = output.argmax(dim=1, keepdim=True)\n",
    "#             correct += pred.eq(target.view_as(pred)).sum().item()\n",
    "\n",
    "#     return 1 - correct / len(loader.dataset)\n",
    "\n",
    "# epoch_train_accs, epoch_test_accs = [], []\n",
    "# for epoch in range(num_epochs):\n",
    "#     epoch_train_accs.append(error(train_loader, model))\n",
    "#     epoch_test_accs.append(error(test_loader, model))\n",
    "\n",
    "#     clear_output(True)\n",
    "#     plt.plot(np.arange(len(epoch_train_accs)), epoch_train_accs, label='train error')\n",
    "#     plt.plot(np.arange(len(epoch_test_accs)), epoch_test_accs, label='test error')\n",
    "#     plt.legend()\n",
    "#     plt.show()\n",
    "\n",
    "#     model.train()\n",
    "#     correct = 0\n",
    "#     for data, target in train_loader:\n",
    "#         opt.zero_grad()\n",
    "#         output = model(data.to(device))\n",
    "#         loss = loss_func(output.to(device), target.to(device))\n",
    "#         loss.backward()\n",
    "#         opt.step()\n",
    "\n",
    "# print(f'Train accuracy: {1 - error(train_loader, model)}')\n",
    "# print(f'Test accuracy: {1 - error(test_loader, model)}')"
   ]
  }
 ],
 "metadata": {
  "colab": {
   "authorship_tag": "ABX9TyMUR0H3cP0fruGIxYwTCuxk",
   "collapsed_sections": [],
   "name": "RF_fingerprinting_start.ipynb",
   "provenance": []
  },
  "kernelspec": {
   "display_name": "Python 3 (ipykernel)",
   "language": "python",
   "name": "python3"
  },
  "language_info": {
   "codemirror_mode": {
    "name": "ipython",
    "version": 3
   },
   "file_extension": ".py",
   "mimetype": "text/x-python",
   "name": "python",
   "nbconvert_exporter": "python",
   "pygments_lexer": "ipython3",
   "version": "3.8.5"
  }
 },
 "nbformat": 4,
 "nbformat_minor": 1
}
