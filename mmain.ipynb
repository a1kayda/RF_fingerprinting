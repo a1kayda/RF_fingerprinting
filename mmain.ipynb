{
 "cells": [
  {
   "cell_type": "markdown",
   "metadata": {
    "colab_type": "text",
    "id": "view-in-github"
   },
   "source": [
    "<a href=\"https://colab.research.google.com/github/a1kayda/RF_fingerprinting/blob/main/main.ipynb\" target=\"_parent\"><img src=\"https://colab.research.google.com/assets/colab-badge.svg\" alt=\"Open In Colab\"/></a>"
   ]
  },
  {
   "cell_type": "markdown",
   "metadata": {
    "id": "FrDg7FFjre75"
   },
   "source": [
    "#import libs#\n",
    "\n",
    "\n"
   ]
  },
  {
   "cell_type": "code",
   "execution_count": 1,
   "metadata": {
    "id": "jsvjpDg6LHux"
   },
   "outputs": [],
   "source": [
    "import pandas as pd\n",
    "import numpy as np\n",
    "from sklearn.decomposition import PCA\n",
    "from sklearn.preprocessing import MinMaxScaler\n",
    "from sklearn.model_selection import train_test_split\n",
    "from sklearn.tree import DecisionTreeClassifier\n",
    "from sklearn.metrics import accuracy_score, f1_score\n",
    "from sklearn.ensemble import RandomForestClassifier\n",
    "import matplotlib.pyplot as plt\n",
    "from sklearn.cluster import DBSCAN"
   ]
  },
  {
   "cell_type": "code",
   "execution_count": 2,
   "metadata": {
    "colab": {
     "base_uri": "https://localhost:8080/"
    },
    "id": "sdNxkyP1MfzE",
    "outputId": "02ebf5a0-ccc7-42f7-848b-dbe46aba303f"
   },
   "outputs": [],
   "source": [
    "#from google.colab import drive\n",
    "#drive.mount('/content/drive')"
   ]
  },
  {
   "cell_type": "markdown",
   "metadata": {
    "id": "wVlKvezNrsgy"
   },
   "source": [
    "#Data preprocessing#\n"
   ]
  },
  {
   "cell_type": "code",
   "execution_count": 3,
   "metadata": {
    "colab": {
     "base_uri": "https://localhost:8080/"
    },
    "id": "Tq_Fa2jxLRwJ",
    "outputId": "46f48c4e-a00a-4339-ce84-b927194d316b",
    "scrolled": true
   },
   "outputs": [
    {
     "data": {
      "text/plain": [
       "(6900,)"
      ]
     },
     "execution_count": 3,
     "metadata": {},
     "output_type": "execute_result"
    }
   ],
   "source": [
    "colnames = [\"S_Mean\", \"S_Max-Min\", \"S_Max-|Min|\", \"S_sumYup - sumYdn\", \"S_(Max-Mean)/(Mean-Min))\", \"S_numYup - numYdn\", \n",
    "            \"S_maxBd\", \"S_RangeJDy\", \"S_F\", \n",
    "            \"L_Mean\", \"L_Max-Min\", \"L_Max-|Min|\", \"L_sumYup - sumYdn\", \"L_(Max-Mean)/(Mean-Min))\", \"L_numYup - numYdn\", \n",
    "            \"L_maxBd\", \"L_RangeJDy\", \"L_F\", \"L_Ph\",\n",
    "            \"y\"]\n",
    "\n",
    "phase_colnames = []\n",
    "abs_colnames = []\n",
    "imag_colnames = []\n",
    "real_colnames = []\n",
    "for f_name in colnames:\n",
    "    phase_colnames.append(f_name + \"_phase\")\n",
    "    abs_colnames.append(f_name + \"_abs\")\n",
    "    real_colnames.append(f_name + \"_real\")\n",
    "    imag_colnames.append(f_name + \"_imag\")\n",
    "\n",
    "#data_abs = pd.read_csv('/content/drive/MyDrive/Alkayda/Multipath_dataset_ABS_no_CFO_comp.txt', sep=\",\", names=abs_colnames, header=None)\n",
    "#data_angle = pd.read_csv('/content/drive/MyDrive/Alkayda/Multipath_dataset_PHASE_no_CFO_comp.txt', sep=\",\", names=phase_colnames, header=None)\n",
    "data_abs = pd.read_csv('Multipath_dataset_ABS_no_CFO_comp.txt', sep=\",\", names=abs_colnames, header=None)\n",
    "data_angle = pd.read_csv('Multipath_dataset_PHASE_no_CFO_comp.txt', sep=\",\", names=phase_colnames, header=None)\n",
    "\n",
    "data_abs.reset_index(drop=True, inplace=True)\n",
    "data_abs.drop(\"y_abs\", axis=1, inplace=True)\n",
    "data_angle.reset_index(drop=True, inplace=True)\n",
    "\n",
    "data = pd.concat([data_abs, data_angle], axis=1)\n",
    "\n",
    "data_X = data.drop(\"y_phase\", axis=1).replace([np.inf, -np.inf, np.nan], 0)\n",
    "data_y = data[\"y_phase\"]\n",
    "data_y = data_y.values-2\n",
    "data = data.replace([np.inf, -np.inf, np.nan], 0)\n",
    "\n",
    "#data.reset_index()data_y = \n",
    "\n",
    "data_y.shape"
   ]
  },
  {
   "cell_type": "code",
   "execution_count": 4,
   "metadata": {
    "id": "gU-ei32YLWsl"
   },
   "outputs": [],
   "source": [
    "X = np.array(data_X)\n",
    "y = np.array(data_y)"
   ]
  },
  {
   "cell_type": "code",
   "execution_count": 5,
   "metadata": {
    "id": "ejoIHckyLUs5"
   },
   "outputs": [],
   "source": [
    "# X_pca = PCA(n_components=2).fit_transform(X)\n",
    "# plt.scatter(X_pca[:, 0], X_pca[:, 1], c = y, cmap='autumn')"
   ]
  },
  {
   "cell_type": "code",
   "execution_count": 6,
   "metadata": {
    "id": "ZhjXFWDCLYGF"
   },
   "outputs": [],
   "source": [
    "scaler = MinMaxScaler(feature_range=(0, 1))\n",
    "scaler.fit(X)\n",
    "X = scaler.transform(X)\n",
    "X_train, X_test, y_train, y_test = train_test_split(X, y,random_state = 55,\n",
    "                                                        test_size = 0.3, shuffle=True, stratify=y)"
   ]
  },
  {
   "cell_type": "markdown",
   "metadata": {
    "id": "oEgBKyiTr4J_"
   },
   "source": [
    "#DT + RF + feature importances#\n"
   ]
  },
  {
   "cell_type": "code",
   "execution_count": 7,
   "metadata": {
    "colab": {
     "base_uri": "https://localhost:8080/"
    },
    "id": "X4eCLkmzLaJC",
    "outputId": "db5a9501-f1fc-4e47-a103-7930216b89d0"
   },
   "outputs": [
    {
     "name": "stdout",
     "output_type": "stream",
     "text": [
      "acc: 0.7579710144927536\n"
     ]
    }
   ],
   "source": [
    "DT = DecisionTreeClassifier(random_state=60)\n",
    "DT.fit(X_train, y_train)\n",
    "\n",
    "y_pred = DT.predict(X_test)\n",
    "acc = accuracy_score(y_test, y_pred)\n",
    "print(\"acc:\", acc)"
   ]
  },
  {
   "cell_type": "code",
   "execution_count": 8,
   "metadata": {
    "colab": {
     "base_uri": "https://localhost:8080/"
    },
    "id": "iGooM7KeofUH",
    "outputId": "fe3fd484-0f2b-419d-c4b2-c7413095ce1f"
   },
   "outputs": [
    {
     "name": "stdout",
     "output_type": "stream",
     "text": [
      "0 0.7598425196850394\n",
      "1 0.7279279279279279\n",
      "2 0.8180112570356473\n",
      "3 0.7191011235955056\n",
      "4 0.8370786516853933\n",
      "5 0.7777777777777778\n",
      "6 0.7914438502673796\n",
      "7 0.888283378746594\n",
      "8 0.6442577030812325\n",
      "9 0.6042780748663101\n"
     ]
    }
   ],
   "source": [
    "f1 = []\n",
    "y_test_1 = y_test+1\n",
    "y_pred = y_pred+1\n",
    "for i in np.arange(1,11):\n",
    "    print(i-1, f1_score((y_test_1*(y_test_1==i)/i), (y_pred*(y_pred==i))/i))\n"
   ]
  },
  {
   "cell_type": "code",
   "execution_count": 9,
   "metadata": {
    "colab": {
     "base_uri": "https://localhost:8080/"
    },
    "id": "S7NA-mTLLUs_",
    "outputId": "0d50c236-bc29-4af9-94cc-463b339aec20"
   },
   "outputs": [
    {
     "name": "stdout",
     "output_type": "stream",
     "text": [
      "0.9\n"
     ]
    }
   ],
   "source": [
    "rf = RandomForestClassifier(n_estimators=300, criterion= \"entropy\", random_state=29)\n",
    "rf.fit(X_train, y_train)\n",
    "\n",
    "y_pred = rf.predict(X_test)\n",
    "acc = accuracy_score(y_test, y_pred)\n",
    "print(acc)"
   ]
  },
  {
   "cell_type": "code",
   "execution_count": 10,
   "metadata": {
    "colab": {
     "base_uri": "https://localhost:8080/"
    },
    "id": "ttaBxA5Oed9R",
    "outputId": "7e686c6e-2f70-4be3-efc2-fe9608dbd041"
   },
   "outputs": [
    {
     "name": "stdout",
     "output_type": "stream",
     "text": [
      "0 0.8549323017408124\n",
      "1 0.8397212543554006\n",
      "2 0.930728241563055\n",
      "3 0.9111747851002865\n",
      "4 0.9717514124293786\n",
      "5 0.9169054441260744\n",
      "6 0.9436997319034852\n",
      "7 0.9805013927576602\n",
      "8 0.8309455587392551\n",
      "9 0.8555240793201134\n"
     ]
    }
   ],
   "source": [
    "y_test_1 = y_test+1\n",
    "y_pred = y_pred+1\n",
    "for i in np.arange(1,11):\n",
    "    print(i-1, f1_score((y_test_1*(y_test_1==i)/i), (y_pred*(y_pred==i))/i))"
   ]
  },
  {
   "cell_type": "code",
   "execution_count": 11,
   "metadata": {
    "colab": {
     "base_uri": "https://localhost:8080/",
     "height": 628
    },
    "id": "aZAk1wt-LUtE",
    "outputId": "fb85f25a-1e24-465d-8c57-045666ff5f89"
   },
   "outputs": [
    {
     "data": {
      "text/plain": [
       "<function matplotlib.pyplot.show(close=None, block=None)>"
      ]
     },
     "execution_count": 11,
     "metadata": {},
     "output_type": "execute_result"
    },
    {
     "data": {
      "image/png": "[encoded data removed]",
      "text/plain": [
       "<Figure size 1656x576 with 1 Axes>"
      ]
     },
     "metadata": {
      "needs_background": "light"
     },
     "output_type": "display_data"
    }
   ],
   "source": [
    "plt.figure(figsize=(23,8))\n",
    "f = pd.DataFrame({'features':data_X.columns, 'importances':rf.feature_importances_}).sort_values('importances').to_numpy()\n",
    "plt.bar(f[:,0], f[:,1])\n",
    "plt.xticks(rotation=50)\n",
    "plt.show"
   ]
  },
  {
   "cell_type": "code",
   "execution_count": 12,
   "metadata": {
    "id": "qdmXWb3pLUtG"
   },
   "outputs": [],
   "source": [
    "th = np.arange(0.02,0.05,0.005)\n",
    "features = [data_X.columns[rf.feature_importances_ > i] for i in th]\n",
    "n_features = [np.size(i) for i in features]"
   ]
  },
  {
   "cell_type": "code",
   "execution_count": 13,
   "metadata": {
    "colab": {
     "base_uri": "https://localhost:8080/",
     "height": 485
    },
    "id": "7dPUue1isCDB",
    "outputId": "b2294369-1d06-4801-e54a-8409d68b6fda"
   },
   "outputs": [
    {
     "data": {
      "text/html": [
       "<div>\n",
       "<style scoped>\n",
       "    .dataframe tbody tr th:only-of-type {\n",
       "        vertical-align: middle;\n",
       "    }\n",
       "\n",
       "    .dataframe tbody tr th {\n",
       "        vertical-align: top;\n",
       "    }\n",
       "\n",
       "    .dataframe thead th {\n",
       "        text-align: right;\n",
       "    }\n",
       "</style>\n",
       "<table border=\"1\" class=\"dataframe\">\n",
       "  <thead>\n",
       "    <tr style=\"text-align: right;\">\n",
       "      <th></th>\n",
       "      <th>S_Max-|Min|_abs</th>\n",
       "      <th>S_numYup - numYdn_abs</th>\n",
       "      <th>S_RangeJDy_abs</th>\n",
       "      <th>L_Mean_abs</th>\n",
       "      <th>L_sumYup - sumYdn_abs</th>\n",
       "      <th>L_F_abs</th>\n",
       "      <th>S_(Max-Mean)/(Mean-Min))_phase</th>\n",
       "      <th>S_maxBd_phase</th>\n",
       "      <th>L_Max-Min_phase</th>\n",
       "      <th>L_RangeJDy_phase</th>\n",
       "    </tr>\n",
       "  </thead>\n",
       "  <tbody>\n",
       "    <tr>\n",
       "      <th>0</th>\n",
       "      <td>29.413</td>\n",
       "      <td>13.550</td>\n",
       "      <td>1.58710</td>\n",
       "      <td>-0.000119</td>\n",
       "      <td>28.391</td>\n",
       "      <td>2.0547</td>\n",
       "      <td>8</td>\n",
       "      <td>8.8356</td>\n",
       "      <td>1.7543</td>\n",
       "      <td>7.2552</td>\n",
       "    </tr>\n",
       "    <tr>\n",
       "      <th>1</th>\n",
       "      <td>33.977</td>\n",
       "      <td>15.781</td>\n",
       "      <td>1.77030</td>\n",
       "      <td>0.000520</td>\n",
       "      <td>33.122</td>\n",
       "      <td>2.1067</td>\n",
       "      <td>2</td>\n",
       "      <td>6.2514</td>\n",
       "      <td>2.1234</td>\n",
       "      <td>6.4782</td>\n",
       "    </tr>\n",
       "    <tr>\n",
       "      <th>2</th>\n",
       "      <td>40.274</td>\n",
       "      <td>18.860</td>\n",
       "      <td>1.68890</td>\n",
       "      <td>0.002062</td>\n",
       "      <td>37.303</td>\n",
       "      <td>2.1200</td>\n",
       "      <td>14</td>\n",
       "      <td>5.9766</td>\n",
       "      <td>2.7010</td>\n",
       "      <td>5.3170</td>\n",
       "    </tr>\n",
       "    <tr>\n",
       "      <th>3</th>\n",
       "      <td>44.245</td>\n",
       "      <td>20.979</td>\n",
       "      <td>1.83530</td>\n",
       "      <td>0.002137</td>\n",
       "      <td>42.281</td>\n",
       "      <td>2.2143</td>\n",
       "      <td>12</td>\n",
       "      <td>6.1169</td>\n",
       "      <td>2.6554</td>\n",
       "      <td>5.3564</td>\n",
       "    </tr>\n",
       "    <tr>\n",
       "      <th>4</th>\n",
       "      <td>47.824</td>\n",
       "      <td>23.061</td>\n",
       "      <td>2.03320</td>\n",
       "      <td>0.002290</td>\n",
       "      <td>45.757</td>\n",
       "      <td>2.0927</td>\n",
       "      <td>10</td>\n",
       "      <td>5.8451</td>\n",
       "      <td>2.9986</td>\n",
       "      <td>4.9340</td>\n",
       "    </tr>\n",
       "    <tr>\n",
       "      <th>...</th>\n",
       "      <td>...</td>\n",
       "      <td>...</td>\n",
       "      <td>...</td>\n",
       "      <td>...</td>\n",
       "      <td>...</td>\n",
       "      <td>...</td>\n",
       "      <td>...</td>\n",
       "      <td>...</td>\n",
       "      <td>...</td>\n",
       "      <td>...</td>\n",
       "    </tr>\n",
       "    <tr>\n",
       "      <th>6895</th>\n",
       "      <td>50.799</td>\n",
       "      <td>23.612</td>\n",
       "      <td>1.64630</td>\n",
       "      <td>-0.013775</td>\n",
       "      <td>57.464</td>\n",
       "      <td>1.8879</td>\n",
       "      <td>0</td>\n",
       "      <td>9.3454</td>\n",
       "      <td>3.8996</td>\n",
       "      <td>5.6982</td>\n",
       "    </tr>\n",
       "    <tr>\n",
       "      <th>6896</th>\n",
       "      <td>40.075</td>\n",
       "      <td>19.065</td>\n",
       "      <td>1.31560</td>\n",
       "      <td>-0.010316</td>\n",
       "      <td>43.960</td>\n",
       "      <td>1.7078</td>\n",
       "      <td>20</td>\n",
       "      <td>10.3410</td>\n",
       "      <td>9.0728</td>\n",
       "      <td>16.2090</td>\n",
       "    </tr>\n",
       "    <tr>\n",
       "      <th>6897</th>\n",
       "      <td>41.411</td>\n",
       "      <td>18.828</td>\n",
       "      <td>1.22240</td>\n",
       "      <td>-0.018105</td>\n",
       "      <td>41.396</td>\n",
       "      <td>1.5148</td>\n",
       "      <td>6</td>\n",
       "      <td>10.7610</td>\n",
       "      <td>15.4010</td>\n",
       "      <td>30.4260</td>\n",
       "    </tr>\n",
       "    <tr>\n",
       "      <th>6898</th>\n",
       "      <td>38.433</td>\n",
       "      <td>17.324</td>\n",
       "      <td>0.96908</td>\n",
       "      <td>-0.019588</td>\n",
       "      <td>39.473</td>\n",
       "      <td>1.1622</td>\n",
       "      <td>-16</td>\n",
       "      <td>3.8944</td>\n",
       "      <td>7.8220</td>\n",
       "      <td>13.1170</td>\n",
       "    </tr>\n",
       "    <tr>\n",
       "      <th>6899</th>\n",
       "      <td>37.860</td>\n",
       "      <td>16.939</td>\n",
       "      <td>1.11450</td>\n",
       "      <td>-0.023781</td>\n",
       "      <td>45.623</td>\n",
       "      <td>1.4247</td>\n",
       "      <td>4</td>\n",
       "      <td>11.1410</td>\n",
       "      <td>20.2770</td>\n",
       "      <td>34.9170</td>\n",
       "    </tr>\n",
       "  </tbody>\n",
       "</table>\n",
       "<p>6900 rows × 10 columns</p>\n",
       "</div>"
      ],
      "text/plain": [
       "      S_Max-|Min|_abs  S_numYup - numYdn_abs  S_RangeJDy_abs  L_Mean_abs  \\\n",
       "0              29.413                 13.550         1.58710   -0.000119   \n",
       "1              33.977                 15.781         1.77030    0.000520   \n",
       "2              40.274                 18.860         1.68890    0.002062   \n",
       "3              44.245                 20.979         1.83530    0.002137   \n",
       "4              47.824                 23.061         2.03320    0.002290   \n",
       "...               ...                    ...             ...         ...   \n",
       "6895           50.799                 23.612         1.64630   -0.013775   \n",
       "6896           40.075                 19.065         1.31560   -0.010316   \n",
       "6897           41.411                 18.828         1.22240   -0.018105   \n",
       "6898           38.433                 17.324         0.96908   -0.019588   \n",
       "6899           37.860                 16.939         1.11450   -0.023781   \n",
       "\n",
       "      L_sumYup - sumYdn_abs  L_F_abs  S_(Max-Mean)/(Mean-Min))_phase  \\\n",
       "0                    28.391   2.0547                               8   \n",
       "1                    33.122   2.1067                               2   \n",
       "2                    37.303   2.1200                              14   \n",
       "3                    42.281   2.2143                              12   \n",
       "4                    45.757   2.0927                              10   \n",
       "...                     ...      ...                             ...   \n",
       "6895                 57.464   1.8879                               0   \n",
       "6896                 43.960   1.7078                              20   \n",
       "6897                 41.396   1.5148                               6   \n",
       "6898                 39.473   1.1622                             -16   \n",
       "6899                 45.623   1.4247                               4   \n",
       "\n",
       "      S_maxBd_phase  L_Max-Min_phase  L_RangeJDy_phase  \n",
       "0            8.8356           1.7543            7.2552  \n",
       "1            6.2514           2.1234            6.4782  \n",
       "2            5.9766           2.7010            5.3170  \n",
       "3            6.1169           2.6554            5.3564  \n",
       "4            5.8451           2.9986            4.9340  \n",
       "...             ...              ...               ...  \n",
       "6895         9.3454           3.8996            5.6982  \n",
       "6896        10.3410           9.0728           16.2090  \n",
       "6897        10.7610          15.4010           30.4260  \n",
       "6898         3.8944           7.8220           13.1170  \n",
       "6899        11.1410          20.2770           34.9170  \n",
       "\n",
       "[6900 rows x 10 columns]"
      ]
     },
     "execution_count": 13,
     "metadata": {},
     "output_type": "execute_result"
    }
   ],
   "source": [
    "data_X[data_X.columns[rf.feature_importances_ > 0.03]]"
   ]
  },
  {
   "cell_type": "code",
   "execution_count": 14,
   "metadata": {
    "colab": {
     "base_uri": "https://localhost:8080/"
    },
    "id": "9me4b_tjLUtH",
    "outputId": "e8824be8-37fa-493c-8e0d-d66ac9b531b9"
   },
   "outputs": [
    {
     "data": {
      "text/plain": [
       "<function matplotlib.pyplot.show(close=None, block=None)>"
      ]
     },
     "execution_count": 14,
     "metadata": {},
     "output_type": "execute_result"
    },
    {
     "data": {
      "image/png": "[encoded data removed]",
      "text/plain": [
       "<Figure size 720x360 with 6 Axes>"
      ]
     },
     "metadata": {
      "needs_background": "light"
     },
     "output_type": "display_data"
    }
   ],
   "source": [
    "rf_1 = RandomForestClassifier(n_estimators=300, criterion= \"entropy\")\n",
    "acc = []\n",
    "c=0\n",
    "plt.figure(figsize=(10,5))\n",
    "for i in th:\n",
    "    c+=1\n",
    "    X_i = data_X[features[int(np.where(abs(th - i) < 0.00001)[0])]]\n",
    "    scaler.fit(X_i)\n",
    "    X_train, X_test, y_train, y_test = train_test_split(X_i, y,random_state = 55, test_size = 0.3, shuffle=True, stratify=y)\n",
    "    rf_1.fit(X_train, y_train)\n",
    "    y_pred = rf_1.predict(X_test)\n",
    "    acc.append(accuracy_score(y_test, y_pred))\n",
    "    a = pd.DataFrame({'features':rf_1.feature_names_in_, 'importances':rf_1.feature_importances_}).sort_values('importances').to_numpy()\n",
    "    plt.subplot(2, 3, c)\n",
    "    plt.bar(a[:,0], a[:,1], tick_label=[None]*len(a[:,0]))\n",
    "    plt.title(str(a.shape[0]) + \" features\")\n",
    "plt.show"
   ]
  },
  {
   "cell_type": "code",
   "execution_count": 15,
   "metadata": {
    "colab": {
     "base_uri": "https://localhost:8080/",
     "height": 827
    },
    "id": "jbdJi8G3U718",
    "outputId": "e6baede7-998f-4cd9-ad26-704d250d5661"
   },
   "outputs": [
    {
     "data": {
      "text/plain": [
       "<function matplotlib.pyplot.show(close=None, block=None)>"
      ]
     },
     "execution_count": 15,
     "metadata": {},
     "output_type": "execute_result"
    },
    {
     "data": {
      "image/png": "[encoded data removed]",
      "text/plain": [
       "<Figure size 432x288 with 1 Axes>"
      ]
     },
     "metadata": {
      "needs_background": "light"
     },
     "output_type": "display_data"
    },
    {
     "data": {
      "image/png": "[encoded data removed]",
      "text/plain": [
       "<Figure size 432x288 with 1 Axes>"
      ]
     },
     "metadata": {
      "needs_background": "light"
     },
     "output_type": "display_data"
    },
    {
     "data": {
      "image/png": "[encoded data removed]",
      "text/plain": [
       "<Figure size 432x288 with 1 Axes>"
      ]
     },
     "metadata": {
      "needs_background": "light"
     },
     "output_type": "display_data"
    }
   ],
   "source": [
    "plt.figure()\n",
    "plt.title(\"n_features from threshshold\")\n",
    "plt.plot(th, n_features)\n",
    "plt.grid(True)\n",
    "plt.figure()\n",
    "plt.title(\"n_features from accuracy\")\n",
    "plt.plot(acc, n_features)\n",
    "plt.grid(True)\n",
    "plt.figure()\n",
    "plt.title(\"accuracy from threshshold\")\n",
    "plt.plot(th, acc)\n",
    "plt.grid(True)\n",
    "plt.show"
   ]
  },
  {
   "cell_type": "code",
   "execution_count": 16,
   "metadata": {
    "colab": {
     "base_uri": "https://localhost:8080/"
    },
    "id": "mif98FsAl8Km",
    "outputId": "7f5f3fc0-d554-444c-fc7c-406928a715a9"
   },
   "outputs": [
    {
     "data": {
      "text/plain": [
       "Index(['S_Max-|Min|_abs', 'S_numYup - numYdn_abs', 'S_RangeJDy_abs',\n",
       "       'L_Mean_abs', 'L_sumYup - sumYdn_abs', 'L_F_abs',\n",
       "       'S_(Max-Mean)/(Mean-Min))_phase', 'S_maxBd_phase', 'L_Max-Min_phase',\n",
       "       'L_RangeJDy_phase'],\n",
       "      dtype='object')"
      ]
     },
     "execution_count": 16,
     "metadata": {},
     "output_type": "execute_result"
    }
   ],
   "source": [
    "ncol = data_X.columns[rf.feature_importances_ > 0.03]\n",
    "ncol"
   ]
  },
  {
   "cell_type": "code",
   "execution_count": 17,
   "metadata": {
    "id": "CySbUdxDMTD-"
   },
   "outputs": [],
   "source": [
    "X = data_X[data_X.columns[rf.feature_importances_ > 0.03]]\n",
    "scaler.fit(X)\n",
    "X = pd.DataFrame(scaler.transform(X), columns=ncol)\n",
    "X_train, X_test, y_train, y_test = train_test_split(X, y,random_state = 55,\n",
    "                                                        test_size = 0.3, shuffle=True, stratify=y)"
   ]
  },
  {
   "cell_type": "code",
   "execution_count": 18,
   "metadata": {
    "colab": {
     "base_uri": "https://localhost:8080/"
    },
    "id": "I_dPJXx9m46A",
    "outputId": "cd7dba3e-8be8-4a4f-f87c-08cb00f5bbb3"
   },
   "outputs": [
    {
     "name": "stdout",
     "output_type": "stream",
     "text": [
      "0.8753623188405797\n"
     ]
    }
   ],
   "source": [
    "rf_2 = RandomForestClassifier(n_estimators=300, criterion= \"entropy\", random_state=29)\n",
    "rf_2.fit(X_train, y_train)\n",
    "\n",
    "y_pred = rf_2.predict(X_test)\n",
    "acc = accuracy_score(y_test, y_pred)\n",
    "print(acc)"
   ]
  },
  {
   "cell_type": "code",
   "execution_count": 19,
   "metadata": {
    "colab": {
     "base_uri": "https://localhost:8080/"
    },
    "id": "zkhYz8Wce7mu",
    "outputId": "667258ad-1830-4d11-e863-5e1b5d5b9947"
   },
   "outputs": [
    {
     "name": "stdout",
     "output_type": "stream",
     "text": [
      "1 0.8571428571428571\n",
      "2 0.8286713286713288\n",
      "3 0.8966789667896679\n",
      "4 0.8739495798319329\n",
      "5 0.9512893982808024\n",
      "6 0.8781869688385271\n",
      "7 0.912\n",
      "8 0.9696969696969697\n",
      "9 0.7861271676300577\n",
      "10 0.8219178082191781\n"
     ]
    }
   ],
   "source": [
    "y_test_1 = y_test+1\n",
    "y_pred = y_pred+1\n",
    "for i in np.arange(1,11):\n",
    "    print(i, f1_score((y_test_1*(y_test_1==i)/i), (y_pred*(y_pred==i))/i))"
   ]
  },
  {
   "cell_type": "code",
   "execution_count": 20,
   "metadata": {
    "colab": {
     "base_uri": "https://localhost:8080/",
     "height": 299
    },
    "id": "AGjXeGxgtjP7",
    "outputId": "00bcf0b5-d45a-4b8a-acb5-e2bb66e452f7"
   },
   "outputs": [
    {
     "data": {
      "text/plain": [
       "array(['S_Max-|Min|_abs', 'S_numYup - numYdn_abs', 'S_RangeJDy_abs',\n",
       "       'L_Mean_abs', 'L_sumYup - sumYdn_abs', 'L_F_abs',\n",
       "       'S_(Max-Mean)/(Mean-Min))_phase', 'S_maxBd_phase',\n",
       "       'L_Max-Min_phase', 'L_RangeJDy_phase'], dtype=object)"
      ]
     },
     "execution_count": 20,
     "metadata": {},
     "output_type": "execute_result"
    }
   ],
   "source": [
    "rf_2.feature_names_in_"
   ]
  },
  {
   "cell_type": "code",
   "execution_count": null,
   "metadata": {},
   "outputs": [],
   "source": []
  },
  {
   "cell_type": "code",
   "execution_count": 21,
   "metadata": {
    "colab": {
     "base_uri": "https://localhost:8080/",
     "height": 373
    },
    "id": "TQMqOYl_nClH",
    "outputId": "9e5b716e-3087-429e-e7c6-2b6b9985820c"
   },
   "outputs": [
    {
     "data": {
      "text/plain": [
       "<function matplotlib.pyplot.show(close=None, block=None)>"
      ]
     },
     "execution_count": 21,
     "metadata": {},
     "output_type": "execute_result"
    },
    {
     "data": {
      "image/png": "[encoded data removed]",
      "text/plain": [
       "<Figure size 1656x576 with 1 Axes>"
      ]
     },
     "metadata": {
      "needs_background": "light"
     },
     "output_type": "display_data"
    }
   ],
   "source": [
    "a = pd.DataFrame({'features':rf_2.feature_names_in_, 'importances':rf_2.feature_importances_}).sort_values('importances').to_numpy()\n",
    "\n",
    "plt.figure(figsize=(23,8))\n",
    "plt.bar(a[:,0], a[:,1])\n",
    "plt.xticks(rotation=50)\n",
    "plt.show"
   ]
  },
  {
   "cell_type": "code",
   "execution_count": 22,
   "metadata": {
    "colab": {
     "base_uri": "https://localhost:8080/"
    },
    "id": "nPM9yIhumuE4",
    "outputId": "02e8bbdc-3971-48b5-f167-ba7e957d5700"
   },
   "outputs": [
    {
     "data": {
      "text/plain": [
       "array([0.08421567, 0.06264139, 0.07154884, 0.19671381, 0.08286601,\n",
       "       0.07734941, 0.06833904, 0.18150451, 0.07502792, 0.0997934 ])"
      ]
     },
     "execution_count": 22,
     "metadata": {},
     "output_type": "execute_result"
    }
   ],
   "source": [
    "rf_2.feature_importances_"
   ]
  },
  {
   "cell_type": "code",
   "execution_count": 23,
   "metadata": {
    "id": "f_xDKU3iLUtJ"
   },
   "outputs": [],
   "source": [
    "from sklearn.manifold import TSNE"
   ]
  },
  {
   "cell_type": "code",
   "execution_count": 24,
   "metadata": {
    "colab": {
     "base_uri": "https://localhost:8080/",
     "height": 302
    },
    "id": "d2X5L6n1ihjE",
    "outputId": "2a919bf6-d43f-4ca4-8b20-a82a4b4403f0"
   },
   "outputs": [
    {
     "data": {
      "text/plain": [
       "[<matplotlib.lines.Line2D at 0x7ff43ad27250>,\n",
       " <matplotlib.lines.Line2D at 0x7ff43ad272b0>]"
      ]
     },
     "execution_count": 24,
     "metadata": {},
     "output_type": "execute_result"
    },
    {
     "data": {
      "image/png": "[encoded data removed]",
      "text/plain": [
       "<Figure size 432x288 with 1 Axes>"
      ]
     },
     "metadata": {
      "needs_background": "light"
     },
     "output_type": "display_data"
    }
   ],
   "source": [
    "T = TSNE(n_components=2, learning_rate='auto', init='random')\n",
    "X_embedded=T.fit_transform(X)\n",
    "plt.plot(X_embedded)"
   ]
  },
  {
   "cell_type": "code",
   "execution_count": 25,
   "metadata": {
    "colab": {
     "base_uri": "https://localhost:8080/",
     "height": 283
    },
    "id": "0sntsuMjoIbe",
    "outputId": "94404f54-6add-4a14-ac86-9ff5e3bbd00e"
   },
   "outputs": [
    {
     "data": {
      "text/plain": [
       "[<matplotlib.lines.Line2D at 0x7ff4204e3ac0>]"
      ]
     },
     "execution_count": 25,
     "metadata": {},
     "output_type": "execute_result"
    },
    {
     "data": {
      "image/png": "[encoded data removed]",
      "text/plain": [
       "<Figure size 432x288 with 1 Axes>"
      ]
     },
     "metadata": {
      "needs_background": "light"
     },
     "output_type": "display_data"
    }
   ],
   "source": [
    "plt.plot(y[y<2])"
   ]
  },
  {
   "cell_type": "code",
   "execution_count": 26,
   "metadata": {
    "colab": {
     "base_uri": "https://localhost:8080/",
     "height": 171
    },
    "id": "YqOmjZVAn6wV",
    "outputId": "6434556a-e7be-41a7-db6a-98ff3a9c2eeb"
   },
   "outputs": [
    {
     "data": {
      "text/plain": [
       "<matplotlib.collections.PathCollection at 0x7ff420507220>"
      ]
     },
     "execution_count": 26,
     "metadata": {},
     "output_type": "execute_result"
    },
    {
     "data": {
      "image/png": "[encoded data removed]",
      "text/plain": [
       "<Figure size 432x288 with 1 Axes>"
      ]
     },
     "metadata": {
      "needs_background": "light"
     },
     "output_type": "display_data"
    }
   ],
   "source": [
    "plt.scatter(X_embedded[:, 0], X_embedded[:, 1], c=y, cmap='autumn')"
   ]
  },
  {
   "cell_type": "code",
   "execution_count": 27,
   "metadata": {
    "id": "MW8g_30to248"
   },
   "outputs": [
    {
     "data": {
      "text/plain": [
       "(1800, 2)"
      ]
     },
     "execution_count": 27,
     "metadata": {},
     "output_type": "execute_result"
    }
   ],
   "source": [
    "X_embedded[y<2].shape"
   ]
  },
  {
   "cell_type": "code",
   "execution_count": 28,
   "metadata": {},
   "outputs": [
    {
     "name": "stdout",
     "output_type": "stream",
     "text": [
      "0.8753623188405797\n"
     ]
    }
   ],
   "source": [
    "X_train, X_test, y_train, y_test = train_test_split(X, y,random_state = 55,\n",
    "                                                        test_size = 0.3, shuffle=True, stratify=y)\n",
    "rf_3 = RandomForestClassifier(n_estimators=300, criterion= \"entropy\", random_state=29)\n",
    "rf_3.fit(X_train, y_train)\n",
    "\n",
    "y_pred = rf_3.predict(X_test)\n",
    "acc = accuracy_score(y_test, y_pred)\n",
    "print(acc)\n"
   ]
  },
  {
   "cell_type": "code",
   "execution_count": 141,
   "metadata": {
    "id": "V9anOb8_LUtK"
   },
   "outputs": [
    {
     "name": "stdout",
     "output_type": "stream",
     "text": [
      "11 0.14800000000000005\n"
     ]
    }
   ],
   "source": [
    "n = 0\n",
    "e = 0\n",
    "for i in np.arange(0.1,0.9,0.001):    \n",
    "    clustering = DBSCAN(eps=i, n_jobs=-1)\n",
    "    prediction = clustering.fit_predict(X_train)\n",
    "    pred = prediction[np.argwhere(y_train == 1)]\n",
    "    n = len(np.unique(clustering.labels_))\n",
    "    if (n == 11):\n",
    "        e=i\n",
    "        print(n,i)\n",
    "        break"
   ]
  },
  {
   "cell_type": "code",
   "execution_count": 142,
   "metadata": {},
   "outputs": [
    {
     "name": "stdout",
     "output_type": "stream",
     "text": [
      "[-1  0  1  2  3  4  5  6  7  8  9]\n"
     ]
    }
   ],
   "source": [
    "clustering = DBSCAN(eps=e, n_jobs=-1)\n",
    "prediction = clustering.fit_predict(X_train)\n",
    "pred = prediction[np.argwhere(y_train == 1)]\n",
    "print(np.unique(clustering.labels_))"
   ]
  },
  {
   "cell_type": "code",
   "execution_count": 143,
   "metadata": {},
   "outputs": [
    {
     "data": {
      "text/plain": [
       "10.745341614906833"
      ]
     },
     "execution_count": 143,
     "metadata": {},
     "output_type": "execute_result"
    }
   ],
   "source": [
    "100*sum(clustering.labels_==y_train)/len(y_train)"
   ]
  },
  {
   "cell_type": "code",
   "execution_count": 144,
   "metadata": {},
   "outputs": [
    {
     "data": {
      "text/plain": [
       "11"
      ]
     },
     "execution_count": 144,
     "metadata": {},
     "output_type": "execute_result"
    }
   ],
   "source": [
    "len(np.unique(clustering.labels_))"
   ]
  },
  {
   "cell_type": "code",
   "execution_count": 162,
   "metadata": {},
   "outputs": [
    {
     "data": {
      "text/plain": [
       "array([0, 1, 2, 3, 4, 5, 6, 7, 8, 9])"
      ]
     },
     "execution_count": 162,
     "metadata": {},
     "output_type": "execute_result"
    }
   ],
   "source": [
    "for i in range()"
   ]
  },
  {
   "cell_type": "code",
   "execution_count": 159,
   "metadata": {},
   "outputs": [
    {
     "name": "stdout",
     "output_type": "stream",
     "text": [
      "4111 630 652.5396825396825\n",
      "122 630 19.365079365079364\n",
      "92 630 14.603174603174603\n",
      "10 420 2.380952380952381\n",
      "27 420 6.428571428571429\n",
      "5 420 1.1904761904761905\n",
      "15 420 3.5714285714285716\n",
      "5 420 1.1904761904761905\n",
      "5 420 1.1904761904761905\n"
     ]
    }
   ],
   "source": [
    "for i in np.arange(0, 9, 1):\n",
    "    \n",
    "    print(sum(clustering.labels_==i), sum(y_train==i), 100*sum(clustering.labels_==i)/sum(y_train==i))#*(y*(y==1)))\n",
    "#(y*(y==1))==(clustering.labels_*(clustering.labels_==1))\n",
    "#(clustering.labels_*(clustering.labels_==1))"
   ]
  },
  {
   "cell_type": "code",
   "execution_count": 95,
   "metadata": {
    "id": "CxOPw0MfkWe7"
   },
   "outputs": [
    {
     "name": "stdout",
     "output_type": "stream",
     "text": [
      "800\n"
     ]
    }
   ],
   "source": [
    "#for i in np.arange(1,11):\n",
    "    print(sum((clustering.labels_==y)))"
   ]
  },
  {
   "cell_type": "code",
   "execution_count": 36,
   "metadata": {
    "id": "dMaFTCrnLUtK"
   },
   "outputs": [
    {
     "name": "stdout",
     "output_type": "stream",
     "text": [
      "Help on class DBSCAN in module sklearn.cluster._dbscan:\n",
      "\n",
      "class DBSCAN(sklearn.base.ClusterMixin, sklearn.base.BaseEstimator)\n",
      " |  DBSCAN(eps=0.5, *, min_samples=5, metric='euclidean', metric_params=None, algorithm='auto', leaf_size=30, p=None, n_jobs=None)\n",
      " |  \n",
      " |  Perform DBSCAN clustering from vector array or distance matrix.\n",
      " |  \n",
      " |  DBSCAN - Density-Based Spatial Clustering of Applications with Noise.\n",
      " |  Finds core samples of high density and expands clusters from them.\n",
      " |  Good for data which contains clusters of similar density.\n",
      " |  \n",
      " |  Read more in the :ref:`User Guide <dbscan>`.\n",
      " |  \n",
      " |  Parameters\n",
      " |  ----------\n",
      " |  eps : float, default=0.5\n",
      " |      The maximum distance between two samples for one to be considered\n",
      " |      as in the neighborhood of the other. This is not a maximum bound\n",
      " |      on the distances of points within a cluster. This is the most\n",
      " |      important DBSCAN parameter to choose appropriately for your data set\n",
      " |      and distance function.\n",
      " |  \n",
      " |  min_samples : int, default=5\n",
      " |      The number of samples (or total weight) in a neighborhood for a point\n",
      " |      to be considered as a core point. This includes the point itself.\n",
      " |  \n",
      " |  metric : str, or callable, default='euclidean'\n",
      " |      The metric to use when calculating distance between instances in a\n",
      " |      feature array. If metric is a string or callable, it must be one of\n",
      " |      the options allowed by :func:`sklearn.metrics.pairwise_distances` for\n",
      " |      its metric parameter.\n",
      " |      If metric is \"precomputed\", X is assumed to be a distance matrix and\n",
      " |      must be square. X may be a :term:`Glossary <sparse graph>`, in which\n",
      " |      case only \"nonzero\" elements may be considered neighbors for DBSCAN.\n",
      " |  \n",
      " |      .. versionadded:: 0.17\n",
      " |         metric *precomputed* to accept precomputed sparse matrix.\n",
      " |  \n",
      " |  metric_params : dict, default=None\n",
      " |      Additional keyword arguments for the metric function.\n",
      " |  \n",
      " |      .. versionadded:: 0.19\n",
      " |  \n",
      " |  algorithm : {'auto', 'ball_tree', 'kd_tree', 'brute'}, default='auto'\n",
      " |      The algorithm to be used by the NearestNeighbors module\n",
      " |      to compute pointwise distances and find nearest neighbors.\n",
      " |      See NearestNeighbors module documentation for details.\n",
      " |  \n",
      " |  leaf_size : int, default=30\n",
      " |      Leaf size passed to BallTree or cKDTree. This can affect the speed\n",
      " |      of the construction and query, as well as the memory required\n",
      " |      to store the tree. The optimal value depends\n",
      " |      on the nature of the problem.\n",
      " |  \n",
      " |  p : float, default=None\n",
      " |      The power of the Minkowski metric to be used to calculate distance\n",
      " |      between points. If None, then ``p=2`` (equivalent to the Euclidean\n",
      " |      distance).\n",
      " |  \n",
      " |  n_jobs : int, default=None\n",
      " |      The number of parallel jobs to run.\n",
      " |      ``None`` means 1 unless in a :obj:`joblib.parallel_backend` context.\n",
      " |      ``-1`` means using all processors. See :term:`Glossary <n_jobs>`\n",
      " |      for more details.\n",
      " |  \n",
      " |  Attributes\n",
      " |  ----------\n",
      " |  core_sample_indices_ : ndarray of shape (n_core_samples,)\n",
      " |      Indices of core samples.\n",
      " |  \n",
      " |  components_ : ndarray of shape (n_core_samples, n_features)\n",
      " |      Copy of each core sample found by training.\n",
      " |  \n",
      " |  labels_ : ndarray of shape (n_samples)\n",
      " |      Cluster labels for each point in the dataset given to fit().\n",
      " |      Noisy samples are given the label -1.\n",
      " |  \n",
      " |  n_features_in_ : int\n",
      " |      Number of features seen during :term:`fit`.\n",
      " |  \n",
      " |      .. versionadded:: 0.24\n",
      " |  \n",
      " |  feature_names_in_ : ndarray of shape (`n_features_in_`,)\n",
      " |      Names of features seen during :term:`fit`. Defined only when `X`\n",
      " |      has feature names that are all strings.\n",
      " |  \n",
      " |      .. versionadded:: 1.0\n",
      " |  \n",
      " |  See Also\n",
      " |  --------\n",
      " |  OPTICS : A similar clustering at multiple values of eps. Our implementation\n",
      " |      is optimized for memory usage.\n",
      " |  \n",
      " |  Notes\n",
      " |  -----\n",
      " |  For an example, see :ref:`examples/cluster/plot_dbscan.py\n",
      " |  <sphx_glr_auto_examples_cluster_plot_dbscan.py>`.\n",
      " |  \n",
      " |  This implementation bulk-computes all neighborhood queries, which increases\n",
      " |  the memory complexity to O(n.d) where d is the average number of neighbors,\n",
      " |  while original DBSCAN had memory complexity O(n). It may attract a higher\n",
      " |  memory complexity when querying these nearest neighborhoods, depending\n",
      " |  on the ``algorithm``.\n",
      " |  \n",
      " |  One way to avoid the query complexity is to pre-compute sparse\n",
      " |  neighborhoods in chunks using\n",
      " |  :func:`NearestNeighbors.radius_neighbors_graph\n",
      " |  <sklearn.neighbors.NearestNeighbors.radius_neighbors_graph>` with\n",
      " |  ``mode='distance'``, then using ``metric='precomputed'`` here.\n",
      " |  \n",
      " |  Another way to reduce memory and computation time is to remove\n",
      " |  (near-)duplicate points and use ``sample_weight`` instead.\n",
      " |  \n",
      " |  :class:`cluster.OPTICS` provides a similar clustering with lower memory\n",
      " |  usage.\n",
      " |  \n",
      " |  References\n",
      " |  ----------\n",
      " |  Ester, M., H. P. Kriegel, J. Sander, and X. Xu, \"A Density-Based\n",
      " |  Algorithm for Discovering Clusters in Large Spatial Databases with Noise\".\n",
      " |  In: Proceedings of the 2nd International Conference on Knowledge Discovery\n",
      " |  and Data Mining, Portland, OR, AAAI Press, pp. 226-231. 1996\n",
      " |  \n",
      " |  Schubert, E., Sander, J., Ester, M., Kriegel, H. P., & Xu, X. (2017).\n",
      " |  DBSCAN revisited, revisited: why and how you should (still) use DBSCAN.\n",
      " |  ACM Transactions on Database Systems (TODS), 42(3), 19.\n",
      " |  \n",
      " |  Examples\n",
      " |  --------\n",
      " |  >>> from sklearn.cluster import DBSCAN\n",
      " |  >>> import numpy as np\n",
      " |  >>> X = np.array([[1, 2], [2, 2], [2, 3],\n",
      " |  ...               [8, 7], [8, 8], [25, 80]])\n",
      " |  >>> clustering = DBSCAN(eps=3, min_samples=2).fit(X)\n",
      " |  >>> clustering.labels_\n",
      " |  array([ 0,  0,  0,  1,  1, -1])\n",
      " |  >>> clustering\n",
      " |  DBSCAN(eps=3, min_samples=2)\n",
      " |  \n",
      " |  Method resolution order:\n",
      " |      DBSCAN\n",
      " |      sklearn.base.ClusterMixin\n",
      " |      sklearn.base.BaseEstimator\n",
      " |      builtins.object\n",
      " |  \n",
      " |  Methods defined here:\n",
      " |  \n",
      " |  __init__(self, eps=0.5, *, min_samples=5, metric='euclidean', metric_params=None, algorithm='auto', leaf_size=30, p=None, n_jobs=None)\n",
      " |      Initialize self.  See help(type(self)) for accurate signature.\n",
      " |  \n",
      " |  fit(self, X, y=None, sample_weight=None)\n",
      " |      Perform DBSCAN clustering from features, or distance matrix.\n",
      " |      \n",
      " |      Parameters\n",
      " |      ----------\n",
      " |      X : {array-like, sparse matrix} of shape (n_samples, n_features), or             (n_samples, n_samples)\n",
      " |          Training instances to cluster, or distances between instances if\n",
      " |          ``metric='precomputed'``. If a sparse matrix is provided, it will\n",
      " |          be converted into a sparse ``csr_matrix``.\n",
      " |      \n",
      " |      y : Ignored\n",
      " |          Not used, present here for API consistency by convention.\n",
      " |      \n",
      " |      sample_weight : array-like of shape (n_samples,), default=None\n",
      " |          Weight of each sample, such that a sample with a weight of at least\n",
      " |          ``min_samples`` is by itself a core sample; a sample with a\n",
      " |          negative weight may inhibit its eps-neighbor from being core.\n",
      " |          Note that weights are absolute, and default to 1.\n",
      " |      \n",
      " |      Returns\n",
      " |      -------\n",
      " |      self : object\n",
      " |          Returns a fitted instance of self.\n",
      " |  \n",
      " |  fit_predict(self, X, y=None, sample_weight=None)\n",
      " |      Compute clusters from a data or distance matrix and predict labels.\n",
      " |      \n",
      " |      Parameters\n",
      " |      ----------\n",
      " |      X : {array-like, sparse matrix} of shape (n_samples, n_features), or             (n_samples, n_samples)\n",
      " |          Training instances to cluster, or distances between instances if\n",
      " |          ``metric='precomputed'``. If a sparse matrix is provided, it will\n",
      " |          be converted into a sparse ``csr_matrix``.\n",
      " |      \n",
      " |      y : Ignored\n",
      " |          Not used, present here for API consistency by convention.\n",
      " |      \n",
      " |      sample_weight : array-like of shape (n_samples,), default=None\n",
      " |          Weight of each sample, such that a sample with a weight of at least\n",
      " |          ``min_samples`` is by itself a core sample; a sample with a\n",
      " |          negative weight may inhibit its eps-neighbor from being core.\n",
      " |          Note that weights are absolute, and default to 1.\n",
      " |      \n",
      " |      Returns\n",
      " |      -------\n",
      " |      labels : ndarray of shape (n_samples,)\n",
      " |          Cluster labels. Noisy samples are given the label -1.\n",
      " |  \n",
      " |  ----------------------------------------------------------------------\n",
      " |  Data descriptors inherited from sklearn.base.ClusterMixin:\n",
      " |  \n",
      " |  __dict__\n",
      " |      dictionary for instance variables (if defined)\n",
      " |  \n",
      " |  __weakref__\n",
      " |      list of weak references to the object (if defined)\n",
      " |  \n",
      " |  ----------------------------------------------------------------------\n",
      " |  Methods inherited from sklearn.base.BaseEstimator:\n",
      " |  \n",
      " |  __getstate__(self)\n",
      " |  \n",
      " |  __repr__(self, N_CHAR_MAX=700)\n",
      " |      Return repr(self).\n",
      " |  \n",
      " |  __setstate__(self, state)\n",
      " |  \n",
      " |  get_params(self, deep=True)\n",
      " |      Get parameters for this estimator.\n",
      " |      \n",
      " |      Parameters\n",
      " |      ----------\n",
      " |      deep : bool, default=True\n",
      " |          If True, will return the parameters for this estimator and\n",
      " |          contained subobjects that are estimators.\n",
      " |      \n",
      " |      Returns\n",
      " |      -------\n",
      " |      params : dict\n",
      " |          Parameter names mapped to their values.\n",
      " |  \n",
      " |  set_params(self, **params)\n",
      " |      Set the parameters of this estimator.\n",
      " |      \n",
      " |      The method works on simple estimators as well as on nested objects\n",
      " |      (such as :class:`~sklearn.pipeline.Pipeline`). The latter have\n",
      " |      parameters of the form ``<component>__<parameter>`` so that it's\n",
      " |      possible to update each component of a nested object.\n",
      " |      \n",
      " |      Parameters\n",
      " |      ----------\n",
      " |      **params : dict\n",
      " |          Estimator parameters.\n",
      " |      \n",
      " |      Returns\n",
      " |      -------\n",
      " |      self : estimator instance\n",
      " |          Estimator instance.\n",
      "\n"
     ]
    }
   ],
   "source": [
    "help(DBSCAN)"
   ]
  },
  {
   "cell_type": "code",
   "execution_count": 166,
   "metadata": {
    "id": "hnqVH0fXLUtL"
   },
   "outputs": [
    {
     "ename": "ModuleNotFoundError",
     "evalue": "No module named 'incremental_dbscan'",
     "output_type": "error",
     "traceback": [
      "\u001b[0;31m---------------------------------------------------------------------------\u001b[0m",
      "\u001b[0;31mModuleNotFoundError\u001b[0m                       Traceback (most recent call last)",
      "Input \u001b[0;32mIn [166]\u001b[0m, in \u001b[0;36m<cell line: 1>\u001b[0;34m()\u001b[0m\n\u001b[0;32m----> 1\u001b[0m \u001b[38;5;28;01mimport\u001b[39;00m \u001b[38;5;21;01mincremental_dbscan\u001b[39;00m\n",
      "\u001b[0;31mModuleNotFoundError\u001b[0m: No module named 'incremental_dbscan'"
     ]
    }
   ],
   "source": [
    "import incremental_dbscan"
   ]
  },
  {
   "cell_type": "code",
   "execution_count": null,
   "metadata": {
    "id": "b8z5CdQ5LUtL"
   },
   "outputs": [],
   "source": [
    "# from sklearn.model_selection import cross_validate, StratifiedShuffleSplit\n",
    "\n",
    "# cv = StratifiedShuffleSplit(n_splits=5, random_state=3)\n",
    "# score = cross_validate(rf, X_train, y_train, cv=cv, scoring='accuracy', return_train_score=True)\n",
    "# print('rf', 'mean test score :', round(np.mean(score['test_score']),3), '\\n', 'train scores:', score['train_score'],  '\\n', 'test scores:', score['test_score'], '\\n')"
   ]
  },
  {
   "cell_type": "code",
   "execution_count": null,
   "metadata": {
    "id": "pTWzKtmCLUtM"
   },
   "outputs": [],
   "source": [
    "# from sklearn.neural_network import MLPClassifier\n",
    "# MLP = MLPClassifier(activation = 'relu', max_iter = 300, solver='adam', alpha=3e-4,\n",
    "#                         hidden_layer_sizes=(37, 250), random_state=10)\n",
    "# MLP.fit(X_train,y_train)\n",
    "\n",
    "# y_pred = MLP.predict(X_train)\n",
    "# acc = accuracy_score(y_train, y_pred)\n",
    "# print(acc)\n",
    "\n",
    "# y_pred = MLP.predict(X_test)\n",
    "# acc = accuracy_score(y_test, y_pred)\n",
    "# print(acc)\n",
    "\n",
    "# from sklearn.neural_network import MLPClassifier\n",
    "\n",
    "# import torch\n",
    "# import torch.nn as nn\n",
    "# import torchsummary\n",
    "# device = 'cuda:0' if torch.cuda.is_available() else 'cpu'\n",
    "\n",
    "# fmnist_dataset_train = torchvision.datasets.FashionMNIST(root_path, \n",
    "#                                                         train=True, \n",
    "#                                                         transform=train_transform,\n",
    "#                                                         target_transform=None,\n",
    "#                                                         download=download)\n",
    "# fmnist_dataset_test = torchvision.datasets.FashionMNIST(root_path, \n",
    "#                                                        train=False, \n",
    "#                                                        transform=test_transform,\n",
    "#                                                        target_transform=None,\n",
    "#                                                        download=download)\n",
    "# train_loader = torch.utils.data.DataLoader(fmnist_dataset_train, \n",
    "#                                            batch_size=128,\n",
    "#                                            shuffle=True,\n",
    "#                                            num_workers=2)\n",
    "# test_loader = torch.utils.data.DataLoader(fmnist_dataset_test,\n",
    "#                                           batch_size=256,\n",
    "#                                           shuffle=False,\n",
    "#                                           num_workers=2)\n",
    "\n",
    "# class TinyNeuralNetwork(nn.Module):\n",
    "#     def __init__(self, input_shape=28*28, num_classes=10, input_channels=1, hidden_layer_size=(4096, 2048)):\n",
    "#         super(self.__class__, self).__init__()\n",
    "#         self.model = nn.Sequential(\n",
    "#             nn.Flatten(), # This layer converts image into a vector to use Linear layers afterwards\n",
    "#             # Your network structure comes here\n",
    "#             nn.Linear(input_shape, hidden_layer_size[0]),\n",
    "#             nn.Dropout(),\n",
    "#             nn.ELU(),\n",
    "#             nn.Linear(hidden_layer_size[0], hidden_layer_size[1]),\n",
    "#             nn.Dropout(),\n",
    "#             nn.ELU(),\n",
    "#             nn.Linear(hidden_layer_size[1], num_classes),\n",
    "#             nn.Dropout(),\n",
    "#             nn.LogSoftmax(dim=1)\n",
    "#         )\n",
    "        \n",
    "#     def forward(self, inp):       \n",
    "#         out = self.model(inp)\n",
    "#         return out\n",
    "\n",
    "# torchsummary.summary(TinyNeuralNetwork().to(device), (28*28,))\n",
    "\n",
    "# model = TinyNeuralNetwork().to(device)\n",
    "# opt = torch.optim.Adam(model.parameters(), lr=0.0001)\n",
    "# loss_func = nn.functional.nll_loss\n",
    "\n",
    "# num_epochs = 60\n",
    "# def error(loader, model):\n",
    "#     model.eval()\n",
    "#     correct = 0\n",
    "#     with torch.no_grad():\n",
    "#         for data, target in loader:\n",
    "#             data, target = data.to(device), target.to(device)\n",
    "#             output = model(data)\n",
    "#             pred = output.argmax(dim=1, keepdim=True)\n",
    "#             correct += pred.eq(target.view_as(pred)).sum().item()\n",
    "\n",
    "#     return 1 - correct / len(loader.dataset)\n",
    "\n",
    "# epoch_train_accs, epoch_test_accs = [], []\n",
    "# for epoch in range(num_epochs):\n",
    "#     epoch_train_accs.append(error(train_loader, model))\n",
    "#     epoch_test_accs.append(error(test_loader, model))\n",
    "\n",
    "#     clear_output(True)\n",
    "#     plt.plot(np.arange(len(epoch_train_accs)), epoch_train_accs, label='train error')\n",
    "#     plt.plot(np.arange(len(epoch_test_accs)), epoch_test_accs, label='test error')\n",
    "#     plt.legend()\n",
    "#     plt.show()\n",
    "\n",
    "#     model.train()\n",
    "#     correct = 0\n",
    "#     for data, target in train_loader:\n",
    "#         opt.zero_grad()\n",
    "#         output = model(data.to(device))\n",
    "#         loss = loss_func(output.to(device), target.to(device))\n",
    "#         loss.backward()\n",
    "#         opt.step()\n",
    "\n",
    "# print(f'Train accuracy: {1 - error(train_loader, model)}')\n",
    "# print(f'Test accuracy: {1 - error(test_loader, model)}')"
   ]
  },
  {
   "cell_type": "code",
   "execution_count": null,
   "metadata": {
    "id": "Wnn1IpvBmVe-"
   },
   "outputs": [],
   "source": []
  }
 ],
 "metadata": {
  "colab": {
   "collapsed_sections": [],
   "include_colab_link": true,
   "name": "RF_fingerprinting_start.ipynb",
   "provenance": []
  },
  "kernelspec": {
   "display_name": "Python 3 (ipykernel)",
   "language": "python",
   "name": "python3"
  },
  "language_info": {
   "codemirror_mode": {
    "name": "ipython",
    "version": 3
   },
   "file_extension": ".py",
   "mimetype": "text/x-python",
   "name": "python",
   "nbconvert_exporter": "python",
   "pygments_lexer": "ipython3",
   "version": "3.9.12"
  },
  "widgets": {
   "application/vnd.jupyter.widget-state+json": {
    "state": {},
    "version_major": 2,
    "version_minor": 0
   }
  }
 },
 "nbformat": 4,
 "nbformat_minor": 1
}
