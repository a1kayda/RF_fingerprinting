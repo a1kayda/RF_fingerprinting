{
  "cells": [
    {
      "cell_type": "markdown",
      "metadata": {
        "id": "view-in-github",
        "colab_type": "text"
      },
      "source": [
        "<a href=\"https://colab.research.google.com/github/a1kayda/RF_fingerprinting/blob/main/main.ipynb\" target=\"_parent\"><img src=\"https://colab.research.google.com/assets/colab-badge.svg\" alt=\"Open In Colab\"/></a>"
      ]
    },
    {
      "cell_type": "markdown",
      "source": [
        "#import libs#\n",
        "\n",
        "\n"
      ],
      "metadata": {
        "id": "FrDg7FFjre75"
      }
    },
    {
      "cell_type": "code",
      "execution_count": 215,
      "metadata": {
        "id": "jsvjpDg6LHux"
      },
      "outputs": [],
      "source": [
        "import pandas as pd\n",
        "import numpy as np\n",
        "from sklearn.decomposition import PCA\n",
        "from sklearn.preprocessing import MinMaxScaler\n",
        "from sklearn.model_selection import train_test_split\n",
        "from sklearn.tree import DecisionTreeClassifier\n",
        "from sklearn.metrics import accuracy_score, f1_score\n",
        "from sklearn.ensemble import RandomForestClassifier\n",
        "import matplotlib.pyplot as plt\n",
        "from sklearn.cluster import DBSCAN"
      ]
    },
    {
      "cell_type": "code",
      "execution_count": 216,
      "metadata": {
        "id": "sdNxkyP1MfzE",
        "colab": {
          "base_uri": "https://localhost:8080/"
        },
        "outputId": "02ebf5a0-ccc7-42f7-848b-dbe46aba303f"
      },
      "outputs": [
        {
          "output_type": "stream",
          "name": "stdout",
          "text": [
            "Drive already mounted at /content/drive; to attempt to forcibly remount, call drive.mount(\"/content/drive\", force_remount=True).\n"
          ]
        }
      ],
      "source": [
        "from google.colab import drive\n",
        "drive.mount('/content/drive')"
      ]
    },
    {
      "cell_type": "markdown",
      "source": [
        "#Data preprocessing#\n"
      ],
      "metadata": {
        "id": "wVlKvezNrsgy"
      }
    },
    {
      "cell_type": "code",
      "execution_count": 360,
      "metadata": {
        "id": "Tq_Fa2jxLRwJ",
        "scrolled": true,
        "colab": {
          "base_uri": "https://localhost:8080/"
        },
        "outputId": "46f48c4e-a00a-4339-ce84-b927194d316b"
      },
      "outputs": [
        {
          "output_type": "execute_result",
          "data": {
            "text/plain": [
              "(6900, 1)"
            ]
          },
          "metadata": {},
          "execution_count": 360
        }
      ],
      "source": [
        "colnames = [\"S_Mean\", \"S_Max-Min\", \"S_Max-|Min|\", \"S_sumYup - sumYdn\", \"S_(Max-Mean)/(Mean-Min))\", \"S_numYup - numYdn\", \n",
        "            \"S_maxBd\", \"S_RangeJDy\", \"S_F\", \n",
        "            \"L_Mean\", \"L_Max-Min\", \"L_Max-|Min|\", \"L_sumYup - sumYdn\", \"L_(Max-Mean)/(Mean-Min))\", \"L_numYup - numYdn\", \n",
        "            \"L_maxBd\", \"L_RangeJDy\", \"L_F\", \"L_Ph\",\n",
        "            \"y\"]\n",
        "\n",
        "phase_colnames = []\n",
        "abs_colnames = []\n",
        "imag_colnames = []\n",
        "real_colnames = []\n",
        "for f_name in colnames:\n",
        "    phase_colnames.append(f_name + \"_phase\")\n",
        "    abs_colnames.append(f_name + \"_abs\")\n",
        "    real_colnames.append(f_name + \"_real\")\n",
        "    imag_colnames.append(f_name + \"_imag\")\n",
        "\n",
        "data_abs = pd.read_csv('/content/drive/MyDrive/Alkayda/Multipath_dataset_ABS_no_CFO_comp.txt', sep=\",\", names=abs_colnames, header=None)\n",
        "data_angle = pd.read_csv('/content/drive/MyDrive/Alkayda/Multipath_dataset_PHASE_no_CFO_comp.txt', sep=\",\", names=phase_colnames, header=None)\n",
        "\n",
        "data_abs.reset_index(drop=True, inplace=True)\n",
        "data_abs.drop(\"y_abs\", axis=1, inplace=True)\n",
        "data_angle.reset_index(drop=True, inplace=True)\n",
        "\n",
        "data = pd.concat([data_abs, data_angle], axis=1)\n",
        "\n",
        "data_X = data.drop(\"y_phase\", axis=1).replace([np.inf, -np.inf, np.nan], 0)\n",
        "data_y = data[\"y_phase\"]\n",
        "data_y = data_y.values-2\n",
        "data = data.replace([np.inf, -np.inf, np.nan], 0)\n",
        "\n",
        "#data.reset_index()data_y = \n",
        "\n",
        "data_y.shape"
      ]
    },
    {
      "cell_type": "code",
      "execution_count": 361,
      "metadata": {
        "id": "gU-ei32YLWsl"
      },
      "outputs": [],
      "source": [
        "X = np.array(data_X)\n",
        "y = np.array(data_y)"
      ]
    },
    {
      "cell_type": "code",
      "execution_count": 362,
      "metadata": {
        "id": "ejoIHckyLUs5"
      },
      "outputs": [],
      "source": [
        "# X_pca = PCA(n_components=2).fit_transform(X)\n",
        "# plt.scatter(X_pca[:, 0], X_pca[:, 1], c = y, cmap='autumn')"
      ]
    },
    {
      "cell_type": "code",
      "execution_count": 363,
      "metadata": {
        "id": "ZhjXFWDCLYGF"
      },
      "outputs": [],
      "source": [
        "scaler = MinMaxScaler(feature_range=(0, 1))\n",
        "scaler.fit(X)\n",
        "X = scaler.transform(X)\n",
        "X_train, X_test, y_train, y_test = train_test_split(X, y,random_state = 55,\n",
        "                                                        test_size = 0.3, shuffle=True, stratify=y)"
      ]
    },
    {
      "cell_type": "markdown",
      "source": [
        "#DT + RF + feature importances#\n"
      ],
      "metadata": {
        "id": "oEgBKyiTr4J_"
      }
    },
    {
      "cell_type": "code",
      "execution_count": 364,
      "metadata": {
        "id": "X4eCLkmzLaJC",
        "colab": {
          "base_uri": "https://localhost:8080/"
        },
        "outputId": "db5a9501-f1fc-4e47-a103-7930216b89d0"
      },
      "outputs": [
        {
          "output_type": "stream",
          "name": "stdout",
          "text": [
            "acc: 0.7579710144927536\n"
          ]
        }
      ],
      "source": [
        "DT = DecisionTreeClassifier(random_state=60)\n",
        "DT.fit(X_train, y_train)\n",
        "\n",
        "y_pred = DT.predict(X_test)\n",
        "acc = accuracy_score(y_test, y_pred)\n",
        "print(\"acc:\", acc)"
      ]
    },
    {
      "cell_type": "code",
      "source": [
        "f1 = []\n",
        "y_test_1 = y_test+1\n",
        "y_pred = y_pred+1\n",
        "for i in np.arange(1,11):\n",
        "  print(i-1, f1_score((y_test_1*(y_test_1==i)/i), (y_pred*(y_pred==i))/i))\n"
      ],
      "metadata": {
        "id": "iGooM7KeofUH",
        "colab": {
          "base_uri": "https://localhost:8080/"
        },
        "outputId": "fe3fd484-0f2b-419d-c4b2-c7413095ce1f"
      },
      "execution_count": 365,
      "outputs": [
        {
          "output_type": "stream",
          "name": "stdout",
          "text": [
            "0 0.7598425196850394\n",
            "1 0.7279279279279279\n",
            "2 0.8180112570356473\n",
            "3 0.7191011235955056\n",
            "4 0.8370786516853933\n",
            "5 0.7777777777777778\n",
            "6 0.7914438502673796\n",
            "7 0.888283378746594\n",
            "8 0.6442577030812325\n",
            "9 0.6042780748663101\n"
          ]
        }
      ]
    },
    {
      "cell_type": "code",
      "execution_count": 366,
      "metadata": {
        "id": "S7NA-mTLLUs_",
        "colab": {
          "base_uri": "https://localhost:8080/"
        },
        "outputId": "0d50c236-bc29-4af9-94cc-463b339aec20"
      },
      "outputs": [
        {
          "output_type": "stream",
          "name": "stderr",
          "text": [
            "/usr/local/lib/python3.7/dist-packages/ipykernel_launcher.py:2: DataConversionWarning: A column-vector y was passed when a 1d array was expected. Please change the shape of y to (n_samples,), for example using ravel().\n",
            "  \n"
          ]
        },
        {
          "output_type": "stream",
          "name": "stdout",
          "text": [
            "0.9\n"
          ]
        }
      ],
      "source": [
        "rf = RandomForestClassifier(n_estimators=300, criterion= \"entropy\", random_state=29)\n",
        "rf.fit(X_train, y_train)\n",
        "\n",
        "y_pred = rf.predict(X_test)\n",
        "acc = accuracy_score(y_test, y_pred)\n",
        "print(acc)"
      ]
    },
    {
      "cell_type": "code",
      "source": [
        "y_test_1 = y_test+1\n",
        "y_pred = y_pred+1\n",
        "for i in np.arange(1,11):\n",
        "  print(i-1, f1_score((y_test_1*(y_test_1==i)/i), (y_pred*(y_pred==i))/i))"
      ],
      "metadata": {
        "id": "ttaBxA5Oed9R",
        "outputId": "7e686c6e-2f70-4be3-efc2-fe9608dbd041",
        "colab": {
          "base_uri": "https://localhost:8080/"
        }
      },
      "execution_count": 367,
      "outputs": [
        {
          "output_type": "stream",
          "name": "stdout",
          "text": [
            "0 0.8549323017408124\n",
            "1 0.8397212543554006\n",
            "2 0.930728241563055\n",
            "3 0.9111747851002865\n",
            "4 0.9717514124293786\n",
            "5 0.9169054441260744\n",
            "6 0.9436997319034852\n",
            "7 0.9805013927576602\n",
            "8 0.8309455587392551\n",
            "9 0.8555240793201134\n"
          ]
        }
      ]
    },
    {
      "cell_type": "code",
      "execution_count": 368,
      "metadata": {
        "id": "aZAk1wt-LUtE",
        "colab": {
          "base_uri": "https://localhost:8080/",
          "height": 628
        },
        "outputId": "fb85f25a-1e24-465d-8c57-045666ff5f89"
      },
      "outputs": [
        {
          "output_type": "execute_result",
          "data": {
            "text/plain": [
              "<function matplotlib.pyplot.show>"
            ]
          },
          "metadata": {},
          "execution_count": 368
        },
        {
          "output_type": "display_data",
          "data": {
            "text/plain": [
              "<Figure size 1656x576 with 1 Axes>"
            ],
            "image/png": "[encoded data removed]"
          },
          "metadata": {
            "needs_background": "light"
          }
        }
      ],
      "source": [
        "plt.figure(figsize=(23,8))\n",
        "f = pd.DataFrame({'features':data_X.columns, 'importances':rf.feature_importances_}).sort_values('importances').to_numpy()\n",
        "plt.bar(f[:,0], f[:,1])\n",
        "plt.xticks(rotation=50)\n",
        "plt.show"
      ]
    },
    {
      "cell_type": "code",
      "execution_count": 369,
      "metadata": {
        "id": "qdmXWb3pLUtG"
      },
      "outputs": [],
      "source": [
        "th = np.arange(0.02,0.05,0.005)\n",
        "features = [data_X.columns[rf.feature_importances_ > i] for i in th]\n",
        "n_features = [np.size(i) for i in features]"
      ]
    },
    {
      "cell_type": "code",
      "source": [
        "data_X[data_X.columns[rf.feature_importances_ > 0.03]]"
      ],
      "metadata": {
        "id": "7dPUue1isCDB",
        "outputId": "b2294369-1d06-4801-e54a-8409d68b6fda",
        "colab": {
          "base_uri": "https://localhost:8080/",
          "height": 485
        }
      },
      "execution_count": 386,
      "outputs": [
        {
          "output_type": "execute_result",
          "data": {
            "text/plain": [
              "      S_Max-|Min|_abs  S_numYup - numYdn_abs  S_RangeJDy_abs  L_Mean_abs  \\\n",
              "0              29.413                 13.550         1.58710   -0.000119   \n",
              "1              33.977                 15.781         1.77030    0.000520   \n",
              "2              40.274                 18.860         1.68890    0.002062   \n",
              "3              44.245                 20.979         1.83530    0.002137   \n",
              "4              47.824                 23.061         2.03320    0.002290   \n",
              "...               ...                    ...             ...         ...   \n",
              "6895           50.799                 23.612         1.64630   -0.013775   \n",
              "6896           40.075                 19.065         1.31560   -0.010316   \n",
              "6897           41.411                 18.828         1.22240   -0.018105   \n",
              "6898           38.433                 17.324         0.96908   -0.019588   \n",
              "6899           37.860                 16.939         1.11450   -0.023781   \n",
              "\n",
              "      L_sumYup - sumYdn_abs  L_F_abs  S_(Max-Mean)/(Mean-Min))_phase  \\\n",
              "0                    28.391   2.0547                               8   \n",
              "1                    33.122   2.1067                               2   \n",
              "2                    37.303   2.1200                              14   \n",
              "3                    42.281   2.2143                              12   \n",
              "4                    45.757   2.0927                              10   \n",
              "...                     ...      ...                             ...   \n",
              "6895                 57.464   1.8879                               0   \n",
              "6896                 43.960   1.7078                              20   \n",
              "6897                 41.396   1.5148                               6   \n",
              "6898                 39.473   1.1622                             -16   \n",
              "6899                 45.623   1.4247                               4   \n",
              "\n",
              "      S_maxBd_phase  L_Max-Min_phase  L_RangeJDy_phase  \n",
              "0            8.8356           1.7543            7.2552  \n",
              "1            6.2514           2.1234            6.4782  \n",
              "2            5.9766           2.7010            5.3170  \n",
              "3            6.1169           2.6554            5.3564  \n",
              "4            5.8451           2.9986            4.9340  \n",
              "...             ...              ...               ...  \n",
              "6895         9.3454           3.8996            5.6982  \n",
              "6896        10.3410           9.0728           16.2090  \n",
              "6897        10.7610          15.4010           30.4260  \n",
              "6898         3.8944           7.8220           13.1170  \n",
              "6899        11.1410          20.2770           34.9170  \n",
              "\n",
              "[6900 rows x 10 columns]"
            ],
            "text/html": [
              "\n",
              "  <div id=\"df-cd1dd5c9-36ef-4e88-8be1-e83a0854cc4d\">\n",
              "    <div class=\"colab-df-container\">\n",
              "      <div>\n",
              "<style scoped>\n",
              "    .dataframe tbody tr th:only-of-type {\n",
              "        vertical-align: middle;\n",
              "    }\n",
              "\n",
              "    .dataframe tbody tr th {\n",
              "        vertical-align: top;\n",
              "    }\n",
              "\n",
              "    .dataframe thead th {\n",
              "        text-align: right;\n",
              "    }\n",
              "</style>\n",
              "<table border=\"1\" class=\"dataframe\">\n",
              "  <thead>\n",
              "    <tr style=\"text-align: right;\">\n",
              "      <th></th>\n",
              "      <th>S_Max-|Min|_abs</th>\n",
              "      <th>S_numYup - numYdn_abs</th>\n",
              "      <th>S_RangeJDy_abs</th>\n",
              "      <th>L_Mean_abs</th>\n",
              "      <th>L_sumYup - sumYdn_abs</th>\n",
              "      <th>L_F_abs</th>\n",
              "      <th>S_(Max-Mean)/(Mean-Min))_phase</th>\n",
              "      <th>S_maxBd_phase</th>\n",
              "      <th>L_Max-Min_phase</th>\n",
              "      <th>L_RangeJDy_phase</th>\n",
              "    </tr>\n",
              "  </thead>\n",
              "  <tbody>\n",
              "    <tr>\n",
              "      <th>0</th>\n",
              "      <td>29.413</td>\n",
              "      <td>13.550</td>\n",
              "      <td>1.58710</td>\n",
              "      <td>-0.000119</td>\n",
              "      <td>28.391</td>\n",
              "      <td>2.0547</td>\n",
              "      <td>8</td>\n",
              "      <td>8.8356</td>\n",
              "      <td>1.7543</td>\n",
              "      <td>7.2552</td>\n",
              "    </tr>\n",
              "    <tr>\n",
              "      <th>1</th>\n",
              "      <td>33.977</td>\n",
              "      <td>15.781</td>\n",
              "      <td>1.77030</td>\n",
              "      <td>0.000520</td>\n",
              "      <td>33.122</td>\n",
              "      <td>2.1067</td>\n",
              "      <td>2</td>\n",
              "      <td>6.2514</td>\n",
              "      <td>2.1234</td>\n",
              "      <td>6.4782</td>\n",
              "    </tr>\n",
              "    <tr>\n",
              "      <th>2</th>\n",
              "      <td>40.274</td>\n",
              "      <td>18.860</td>\n",
              "      <td>1.68890</td>\n",
              "      <td>0.002062</td>\n",
              "      <td>37.303</td>\n",
              "      <td>2.1200</td>\n",
              "      <td>14</td>\n",
              "      <td>5.9766</td>\n",
              "      <td>2.7010</td>\n",
              "      <td>5.3170</td>\n",
              "    </tr>\n",
              "    <tr>\n",
              "      <th>3</th>\n",
              "      <td>44.245</td>\n",
              "      <td>20.979</td>\n",
              "      <td>1.83530</td>\n",
              "      <td>0.002137</td>\n",
              "      <td>42.281</td>\n",
              "      <td>2.2143</td>\n",
              "      <td>12</td>\n",
              "      <td>6.1169</td>\n",
              "      <td>2.6554</td>\n",
              "      <td>5.3564</td>\n",
              "    </tr>\n",
              "    <tr>\n",
              "      <th>4</th>\n",
              "      <td>47.824</td>\n",
              "      <td>23.061</td>\n",
              "      <td>2.03320</td>\n",
              "      <td>0.002290</td>\n",
              "      <td>45.757</td>\n",
              "      <td>2.0927</td>\n",
              "      <td>10</td>\n",
              "      <td>5.8451</td>\n",
              "      <td>2.9986</td>\n",
              "      <td>4.9340</td>\n",
              "    </tr>\n",
              "    <tr>\n",
              "      <th>...</th>\n",
              "      <td>...</td>\n",
              "      <td>...</td>\n",
              "      <td>...</td>\n",
              "      <td>...</td>\n",
              "      <td>...</td>\n",
              "      <td>...</td>\n",
              "      <td>...</td>\n",
              "      <td>...</td>\n",
              "      <td>...</td>\n",
              "      <td>...</td>\n",
              "    </tr>\n",
              "    <tr>\n",
              "      <th>6895</th>\n",
              "      <td>50.799</td>\n",
              "      <td>23.612</td>\n",
              "      <td>1.64630</td>\n",
              "      <td>-0.013775</td>\n",
              "      <td>57.464</td>\n",
              "      <td>1.8879</td>\n",
              "      <td>0</td>\n",
              "      <td>9.3454</td>\n",
              "      <td>3.8996</td>\n",
              "      <td>5.6982</td>\n",
              "    </tr>\n",
              "    <tr>\n",
              "      <th>6896</th>\n",
              "      <td>40.075</td>\n",
              "      <td>19.065</td>\n",
              "      <td>1.31560</td>\n",
              "      <td>-0.010316</td>\n",
              "      <td>43.960</td>\n",
              "      <td>1.7078</td>\n",
              "      <td>20</td>\n",
              "      <td>10.3410</td>\n",
              "      <td>9.0728</td>\n",
              "      <td>16.2090</td>\n",
              "    </tr>\n",
              "    <tr>\n",
              "      <th>6897</th>\n",
              "      <td>41.411</td>\n",
              "      <td>18.828</td>\n",
              "      <td>1.22240</td>\n",
              "      <td>-0.018105</td>\n",
              "      <td>41.396</td>\n",
              "      <td>1.5148</td>\n",
              "      <td>6</td>\n",
              "      <td>10.7610</td>\n",
              "      <td>15.4010</td>\n",
              "      <td>30.4260</td>\n",
              "    </tr>\n",
              "    <tr>\n",
              "      <th>6898</th>\n",
              "      <td>38.433</td>\n",
              "      <td>17.324</td>\n",
              "      <td>0.96908</td>\n",
              "      <td>-0.019588</td>\n",
              "      <td>39.473</td>\n",
              "      <td>1.1622</td>\n",
              "      <td>-16</td>\n",
              "      <td>3.8944</td>\n",
              "      <td>7.8220</td>\n",
              "      <td>13.1170</td>\n",
              "    </tr>\n",
              "    <tr>\n",
              "      <th>6899</th>\n",
              "      <td>37.860</td>\n",
              "      <td>16.939</td>\n",
              "      <td>1.11450</td>\n",
              "      <td>-0.023781</td>\n",
              "      <td>45.623</td>\n",
              "      <td>1.4247</td>\n",
              "      <td>4</td>\n",
              "      <td>11.1410</td>\n",
              "      <td>20.2770</td>\n",
              "      <td>34.9170</td>\n",
              "    </tr>\n",
              "  </tbody>\n",
              "</table>\n",
              "<p>6900 rows × 10 columns</p>\n",
              "</div>\n",
              "      <button class=\"colab-df-convert\" onclick=\"convertToInteractive('df-cd1dd5c9-36ef-4e88-8be1-e83a0854cc4d')\"\n",
              "              title=\"Convert this dataframe to an interactive table.\"\n",
              "              style=\"display:none;\">\n",
              "        \n",
              "  <svg xmlns=\"http://www.w3.org/2000/svg\" height=\"24px\"viewBox=\"0 0 24 24\"\n",
              "       width=\"24px\">\n",
              "    <path d=\"M0 0h24v24H0V0z\" fill=\"none\"/>\n",
              "    <path d=\"M18.56 5.44l.94 2.06.94-2.06 2.06-.94-2.06-.94-.94-2.06-.94 2.06-2.06.94zm-11 1L8.5 8.5l.94-2.06 2.06-.94-2.06-.94L8.5 2.5l-.94 2.06-2.06.94zm10 10l.94 2.06.94-2.06 2.06-.94-2.06-.94-.94-2.06-.94 2.06-2.06.94z\"/><path d=\"M17.41 7.96l-1.37-1.37c-.4-.4-.92-.59-1.43-.59-.52 0-1.04.2-1.43.59L10.3 9.45l-7.72 7.72c-.78.78-.78 2.05 0 2.83L4 21.41c.39.39.9.59 1.41.59.51 0 1.02-.2 1.41-.59l7.78-7.78 2.81-2.81c.8-.78.8-2.07 0-2.86zM5.41 20L4 18.59l7.72-7.72 1.47 1.35L5.41 20z\"/>\n",
              "  </svg>\n",
              "      </button>\n",
              "      \n",
              "  <style>\n",
              "    .colab-df-container {\n",
              "      display:flex;\n",
              "      flex-wrap:wrap;\n",
              "      gap: 12px;\n",
              "    }\n",
              "\n",
              "    .colab-df-convert {\n",
              "      background-color: #E8F0FE;\n",
              "      border: none;\n",
              "      border-radius: 50%;\n",
              "      cursor: pointer;\n",
              "      display: none;\n",
              "      fill: #1967D2;\n",
              "      height: 32px;\n",
              "      padding: 0 0 0 0;\n",
              "      width: 32px;\n",
              "    }\n",
              "\n",
              "    .colab-df-convert:hover {\n",
              "      background-color: #E2EBFA;\n",
              "      box-shadow: 0px 1px 2px rgba(60, 64, 67, 0.3), 0px 1px 3px 1px rgba(60, 64, 67, 0.15);\n",
              "      fill: #174EA6;\n",
              "    }\n",
              "\n",
              "    [theme=dark] .colab-df-convert {\n",
              "      background-color: #3B4455;\n",
              "      fill: #D2E3FC;\n",
              "    }\n",
              "\n",
              "    [theme=dark] .colab-df-convert:hover {\n",
              "      background-color: #434B5C;\n",
              "      box-shadow: 0px 1px 3px 1px rgba(0, 0, 0, 0.15);\n",
              "      filter: drop-shadow(0px 1px 2px rgba(0, 0, 0, 0.3));\n",
              "      fill: #FFFFFF;\n",
              "    }\n",
              "  </style>\n",
              "\n",
              "      <script>\n",
              "        const buttonEl =\n",
              "          document.querySelector('#df-cd1dd5c9-36ef-4e88-8be1-e83a0854cc4d button.colab-df-convert');\n",
              "        buttonEl.style.display =\n",
              "          google.colab.kernel.accessAllowed ? 'block' : 'none';\n",
              "\n",
              "        async function convertToInteractive(key) {\n",
              "          const element = document.querySelector('#df-cd1dd5c9-36ef-4e88-8be1-e83a0854cc4d');\n",
              "          const dataTable =\n",
              "            await google.colab.kernel.invokeFunction('convertToInteractive',\n",
              "                                                     [key], {});\n",
              "          if (!dataTable) return;\n",
              "\n",
              "          const docLinkHtml = 'Like what you see? Visit the ' +\n",
              "            '<a target=\"_blank\" href=https://colab.research.google.com/notebooks/data_table.ipynb>data table notebook</a>'\n",
              "            + ' to learn more about interactive tables.';\n",
              "          element.innerHTML = '';\n",
              "          dataTable['output_type'] = 'display_data';\n",
              "          await google.colab.output.renderOutput(dataTable, element);\n",
              "          const docLink = document.createElement('div');\n",
              "          docLink.innerHTML = docLinkHtml;\n",
              "          element.appendChild(docLink);\n",
              "        }\n",
              "      </script>\n",
              "    </div>\n",
              "  </div>\n",
              "  "
            ]
          },
          "metadata": {},
          "execution_count": 386
        }
      ]
    },
    {
      "cell_type": "code",
      "execution_count": 370,
      "metadata": {
        "id": "9me4b_tjLUtH",
        "colab": {
          "base_uri": "https://localhost:8080/"
        },
        "outputId": "e8824be8-37fa-493c-8e0d-d66ac9b531b9"
      },
      "outputs": [
        {
          "output_type": "stream",
          "name": "stderr",
          "text": [
            "/usr/local/lib/python3.7/dist-packages/ipykernel_launcher.py:7: DataConversionWarning: A column-vector y was passed when a 1d array was expected. Please change the shape of y to (n_samples,), for example using ravel().\n",
            "  import sys\n",
            "/usr/local/lib/python3.7/dist-packages/ipykernel_launcher.py:7: DataConversionWarning: A column-vector y was passed when a 1d array was expected. Please change the shape of y to (n_samples,), for example using ravel().\n",
            "  import sys\n",
            "/usr/local/lib/python3.7/dist-packages/ipykernel_launcher.py:7: DataConversionWarning: A column-vector y was passed when a 1d array was expected. Please change the shape of y to (n_samples,), for example using ravel().\n",
            "  import sys\n",
            "/usr/local/lib/python3.7/dist-packages/ipykernel_launcher.py:7: DataConversionWarning: A column-vector y was passed when a 1d array was expected. Please change the shape of y to (n_samples,), for example using ravel().\n",
            "  import sys\n",
            "/usr/local/lib/python3.7/dist-packages/ipykernel_launcher.py:7: DataConversionWarning: A column-vector y was passed when a 1d array was expected. Please change the shape of y to (n_samples,), for example using ravel().\n",
            "  import sys\n",
            "/usr/local/lib/python3.7/dist-packages/ipykernel_launcher.py:7: DataConversionWarning: A column-vector y was passed when a 1d array was expected. Please change the shape of y to (n_samples,), for example using ravel().\n",
            "  import sys\n"
          ]
        }
      ],
      "source": [
        "rf_1 = RandomForestClassifier(n_estimators=100, criterion= \"entropy\")\n",
        "acc = []\n",
        "for i in th:\n",
        "      X_i = data_X[features[int(np.where(abs(th - i) < 0.00001)[0])]]\n",
        "      scaler.fit(X_i)\n",
        "      X_train, X_test, y_train, y_test = train_test_split(X_i, y,random_state = 55, test_size = 0.3, shuffle=True, stratify=y)\n",
        "      rf_1.fit(X_train, y_train)\n",
        "      y_pred = rf_1.predict(X_test)\n",
        "      acc.append(accuracy_score(y_test, y_pred))\n"
      ]
    },
    {
      "cell_type": "code",
      "execution_count": 371,
      "metadata": {
        "id": "jbdJi8G3U718",
        "colab": {
          "base_uri": "https://localhost:8080/",
          "height": 827
        },
        "outputId": "e6baede7-998f-4cd9-ad26-704d250d5661"
      },
      "outputs": [
        {
          "output_type": "execute_result",
          "data": {
            "text/plain": [
              "<function matplotlib.pyplot.show>"
            ]
          },
          "metadata": {},
          "execution_count": 371
        },
        {
          "output_type": "display_data",
          "data": {
            "text/plain": [
              "<Figure size 432x288 with 1 Axes>"
            ],
            "image/png": "[encoded data removed]"
          },
          "metadata": {
            "needs_background": "light"
          }
        },
        {
          "output_type": "display_data",
          "data": {
            "text/plain": [
              "<Figure size 432x288 with 1 Axes>"
            ],
            "image/png": "[encoded data removed]"
          },
          "metadata": {
            "needs_background": "light"
          }
        },
        {
          "output_type": "display_data",
          "data": {
            "text/plain": [
              "<Figure size 432x288 with 1 Axes>"
            ],
            "image/png": "[encoded data removed]"
          },
          "metadata": {
            "needs_background": "light"
          }
        }
      ],
      "source": [
        "plt.figure()\n",
        "plt.title(\"n_features from threshshold\")\n",
        "plt.plot(th, n_features)\n",
        "plt.grid(True)\n",
        "plt.figure()\n",
        "plt.title(\"n_features from accuracy\")\n",
        "plt.plot(acc, n_features)\n",
        "plt.grid(True)\n",
        "plt.figure()\n",
        "plt.title(\"accuracy from threshshold\")\n",
        "plt.plot(th, acc)\n",
        "plt.grid(True)\n",
        "plt.show"
      ]
    },
    {
      "cell_type": "code",
      "source": [
        "ncol = data_X.columns[rf.feature_importances_ > 0.03]\n",
        "ncol"
      ],
      "metadata": {
        "id": "mif98FsAl8Km",
        "colab": {
          "base_uri": "https://localhost:8080/"
        },
        "outputId": "7f5f3fc0-d554-444c-fc7c-406928a715a9"
      },
      "execution_count": 372,
      "outputs": [
        {
          "output_type": "execute_result",
          "data": {
            "text/plain": [
              "Index(['S_Max-|Min|_abs', 'S_numYup - numYdn_abs', 'S_RangeJDy_abs',\n",
              "       'L_Mean_abs', 'L_sumYup - sumYdn_abs', 'L_F_abs',\n",
              "       'S_(Max-Mean)/(Mean-Min))_phase', 'S_maxBd_phase', 'L_Max-Min_phase',\n",
              "       'L_RangeJDy_phase'],\n",
              "      dtype='object')"
            ]
          },
          "metadata": {},
          "execution_count": 372
        }
      ]
    },
    {
      "cell_type": "code",
      "execution_count": 373,
      "metadata": {
        "id": "CySbUdxDMTD-"
      },
      "outputs": [],
      "source": [
        "X = data_X[data_X.columns[rf.feature_importances_ > 0.03]]\n",
        "scaler.fit(X)\n",
        "X = scaler.transform(X)\n",
        "X_train, X_test, y_train, y_test = train_test_split(X, y,random_state = 55,\n",
        "                                                        test_size = 0.3, shuffle=True, stratify=y)"
      ]
    },
    {
      "cell_type": "code",
      "source": [
        "rf_2 = RandomForestClassifier(n_estimators=300, criterion= \"entropy\", random_state=29)\n",
        "rf_2.fit(X_train, y_train)\n",
        "\n",
        "y_pred = rf_2.predict(X_test)\n",
        "acc = accuracy_score(y_test, y_pred)\n",
        "print(acc)"
      ],
      "metadata": {
        "id": "I_dPJXx9m46A",
        "colab": {
          "base_uri": "https://localhost:8080/"
        },
        "outputId": "cd7dba3e-8be8-4a4f-f87c-08cb00f5bbb3"
      },
      "execution_count": 376,
      "outputs": [
        {
          "output_type": "stream",
          "name": "stderr",
          "text": [
            "/usr/local/lib/python3.7/dist-packages/ipykernel_launcher.py:2: DataConversionWarning: A column-vector y was passed when a 1d array was expected. Please change the shape of y to (n_samples,), for example using ravel().\n",
            "  \n"
          ]
        },
        {
          "output_type": "stream",
          "name": "stdout",
          "text": [
            "0.8753623188405797\n"
          ]
        }
      ]
    },
    {
      "cell_type": "code",
      "source": [
        "y_test_1 = y_test+1\n",
        "y_pred = y_pred+1\n",
        "for i in np.arange(1,11):\n",
        "  print(i, f1_score((y_test_1*(y_test_1==i)/i), (y_pred*(y_pred==i))/i))"
      ],
      "metadata": {
        "id": "zkhYz8Wce7mu",
        "outputId": "667258ad-1830-4d11-e863-5e1b5d5b9947",
        "colab": {
          "base_uri": "https://localhost:8080/"
        }
      },
      "execution_count": 377,
      "outputs": [
        {
          "output_type": "stream",
          "name": "stdout",
          "text": [
            "1 0.8571428571428571\n",
            "2 0.8286713286713288\n",
            "3 0.8966789667896679\n",
            "4 0.8739495798319329\n",
            "5 0.9512893982808024\n",
            "6 0.8781869688385271\n",
            "7 0.912\n",
            "8 0.9696969696969697\n",
            "9 0.7861271676300577\n",
            "10 0.8219178082191781\n"
          ]
        }
      ]
    },
    {
      "cell_type": "code",
      "source": [
        "data_X.columns[rf_2.feature_importances_ > 0.03].shape"
      ],
      "metadata": {
        "id": "AGjXeGxgtjP7",
        "outputId": "00bcf0b5-d45a-4b8a-acb5-e2bb66e452f7",
        "colab": {
          "base_uri": "https://localhost:8080/",
          "height": 299
        }
      },
      "execution_count": 398,
      "outputs": [
        {
          "output_type": "error",
          "ename": "IndexError",
          "evalue": "ignored",
          "traceback": [
            "\u001b[0;31m---------------------------------------------------------------------------\u001b[0m",
            "\u001b[0;31mIndexError\u001b[0m                                Traceback (most recent call last)",
            "\u001b[0;32m<ipython-input-398-b63e0d6c92fd>\u001b[0m in \u001b[0;36m<module>\u001b[0;34m()\u001b[0m\n\u001b[0;32m----> 1\u001b[0;31m \u001b[0mdata_X\u001b[0m\u001b[0;34m.\u001b[0m\u001b[0mcolumns\u001b[0m\u001b[0;34m[\u001b[0m\u001b[0mrf_2\u001b[0m\u001b[0;34m.\u001b[0m\u001b[0mfeature_importances_\u001b[0m \u001b[0;34m>\u001b[0m \u001b[0;36m0.03\u001b[0m\u001b[0;34m]\u001b[0m\u001b[0;34m.\u001b[0m\u001b[0mshape\u001b[0m\u001b[0;34m\u001b[0m\u001b[0;34m\u001b[0m\u001b[0m\n\u001b[0m",
            "\u001b[0;32m/usr/local/lib/python3.7/dist-packages/pandas/core/indexes/base.py\u001b[0m in \u001b[0;36m__getitem__\u001b[0;34m(self, key)\u001b[0m\n\u001b[1;32m   4614\u001b[0m             \u001b[0mkey\u001b[0m \u001b[0;34m=\u001b[0m \u001b[0mnp\u001b[0m\u001b[0;34m.\u001b[0m\u001b[0masarray\u001b[0m\u001b[0;34m(\u001b[0m\u001b[0mkey\u001b[0m\u001b[0;34m,\u001b[0m \u001b[0mdtype\u001b[0m\u001b[0;34m=\u001b[0m\u001b[0mbool\u001b[0m\u001b[0;34m)\u001b[0m\u001b[0;34m\u001b[0m\u001b[0;34m\u001b[0m\u001b[0m\n\u001b[1;32m   4615\u001b[0m \u001b[0;34m\u001b[0m\u001b[0m\n\u001b[0;32m-> 4616\u001b[0;31m         \u001b[0mresult\u001b[0m \u001b[0;34m=\u001b[0m \u001b[0mgetitem\u001b[0m\u001b[0;34m(\u001b[0m\u001b[0mkey\u001b[0m\u001b[0;34m)\u001b[0m\u001b[0;34m\u001b[0m\u001b[0;34m\u001b[0m\u001b[0m\n\u001b[0m\u001b[1;32m   4617\u001b[0m         \u001b[0;32mif\u001b[0m \u001b[0;32mnot\u001b[0m \u001b[0mis_scalar\u001b[0m\u001b[0;34m(\u001b[0m\u001b[0mresult\u001b[0m\u001b[0;34m)\u001b[0m\u001b[0;34m:\u001b[0m\u001b[0;34m\u001b[0m\u001b[0;34m\u001b[0m\u001b[0m\n\u001b[1;32m   4618\u001b[0m             \u001b[0;31m# error: Argument 1 to \"ndim\" has incompatible type \"Union[ExtensionArray,\u001b[0m\u001b[0;34m\u001b[0m\u001b[0;34m\u001b[0m\u001b[0;34m\u001b[0m\u001b[0m\n",
            "\u001b[0;31mIndexError\u001b[0m: boolean index did not match indexed array along dimension 0; dimension is 38 but corresponding boolean dimension is 10"
          ]
        }
      ]
    },
    {
      "cell_type": "code",
      "source": [
        "nimportances = rf_2.feature_importances_\n",
        "a = pd.DataFrame({'features':data_X.columns[rf_2.feature_importances_ > 0.03], 'importances':nimportances}).sort_values('importances').to_numpy()\n",
        "\n",
        "plt.figure(figsize=(23,8))\n",
        "plt.bar(a[:,0], a[:,1])\n",
        "plt.xticks(rotation=50)\n",
        "plt.show"
      ],
      "metadata": {
        "id": "TQMqOYl_nClH",
        "colab": {
          "base_uri": "https://localhost:8080/",
          "height": 373
        },
        "outputId": "9e5b716e-3087-429e-e7c6-2b6b9985820c"
      },
      "execution_count": 396,
      "outputs": [
        {
          "output_type": "error",
          "ename": "IndexError",
          "evalue": "ignored",
          "traceback": [
            "\u001b[0;31m---------------------------------------------------------------------------\u001b[0m",
            "\u001b[0;31mIndexError\u001b[0m                                Traceback (most recent call last)",
            "\u001b[0;32m<ipython-input-396-c51a7638c5fd>\u001b[0m in \u001b[0;36m<module>\u001b[0;34m()\u001b[0m\n\u001b[1;32m      1\u001b[0m \u001b[0mnimportances\u001b[0m \u001b[0;34m=\u001b[0m \u001b[0mrf_2\u001b[0m\u001b[0;34m.\u001b[0m\u001b[0mfeature_importances_\u001b[0m\u001b[0;34m\u001b[0m\u001b[0;34m\u001b[0m\u001b[0m\n\u001b[0;32m----> 2\u001b[0;31m \u001b[0ma\u001b[0m \u001b[0;34m=\u001b[0m \u001b[0mpd\u001b[0m\u001b[0;34m.\u001b[0m\u001b[0mDataFrame\u001b[0m\u001b[0;34m(\u001b[0m\u001b[0;34m{\u001b[0m\u001b[0;34m'features'\u001b[0m\u001b[0;34m:\u001b[0m\u001b[0mdata_X\u001b[0m\u001b[0;34m.\u001b[0m\u001b[0mcolumns\u001b[0m\u001b[0;34m[\u001b[0m\u001b[0mrf_2\u001b[0m\u001b[0;34m.\u001b[0m\u001b[0mfeature_importances_\u001b[0m \u001b[0;34m>\u001b[0m \u001b[0;36m0.03\u001b[0m\u001b[0;34m]\u001b[0m\u001b[0;34m,\u001b[0m \u001b[0;34m'importances'\u001b[0m\u001b[0;34m:\u001b[0m\u001b[0mnimportances\u001b[0m\u001b[0;34m}\u001b[0m\u001b[0;34m)\u001b[0m\u001b[0;34m.\u001b[0m\u001b[0msort_values\u001b[0m\u001b[0;34m(\u001b[0m\u001b[0;34m'importances'\u001b[0m\u001b[0;34m)\u001b[0m\u001b[0;34m.\u001b[0m\u001b[0mto_numpy\u001b[0m\u001b[0;34m(\u001b[0m\u001b[0;34m)\u001b[0m\u001b[0;34m\u001b[0m\u001b[0;34m\u001b[0m\u001b[0m\n\u001b[0m\u001b[1;32m      3\u001b[0m \u001b[0;34m\u001b[0m\u001b[0m\n\u001b[1;32m      4\u001b[0m \u001b[0mplt\u001b[0m\u001b[0;34m.\u001b[0m\u001b[0mfigure\u001b[0m\u001b[0;34m(\u001b[0m\u001b[0mfigsize\u001b[0m\u001b[0;34m=\u001b[0m\u001b[0;34m(\u001b[0m\u001b[0;36m23\u001b[0m\u001b[0;34m,\u001b[0m\u001b[0;36m8\u001b[0m\u001b[0;34m)\u001b[0m\u001b[0;34m)\u001b[0m\u001b[0;34m\u001b[0m\u001b[0;34m\u001b[0m\u001b[0m\n\u001b[1;32m      5\u001b[0m \u001b[0mplt\u001b[0m\u001b[0;34m.\u001b[0m\u001b[0mbar\u001b[0m\u001b[0;34m(\u001b[0m\u001b[0ma\u001b[0m\u001b[0;34m[\u001b[0m\u001b[0;34m:\u001b[0m\u001b[0;34m,\u001b[0m\u001b[0;36m0\u001b[0m\u001b[0;34m]\u001b[0m\u001b[0;34m,\u001b[0m \u001b[0ma\u001b[0m\u001b[0;34m[\u001b[0m\u001b[0;34m:\u001b[0m\u001b[0;34m,\u001b[0m\u001b[0;36m1\u001b[0m\u001b[0;34m]\u001b[0m\u001b[0;34m)\u001b[0m\u001b[0;34m\u001b[0m\u001b[0;34m\u001b[0m\u001b[0m\n",
            "\u001b[0;32m/usr/local/lib/python3.7/dist-packages/pandas/core/indexes/base.py\u001b[0m in \u001b[0;36m__getitem__\u001b[0;34m(self, key)\u001b[0m\n\u001b[1;32m   4614\u001b[0m             \u001b[0mkey\u001b[0m \u001b[0;34m=\u001b[0m \u001b[0mnp\u001b[0m\u001b[0;34m.\u001b[0m\u001b[0masarray\u001b[0m\u001b[0;34m(\u001b[0m\u001b[0mkey\u001b[0m\u001b[0;34m,\u001b[0m \u001b[0mdtype\u001b[0m\u001b[0;34m=\u001b[0m\u001b[0mbool\u001b[0m\u001b[0;34m)\u001b[0m\u001b[0;34m\u001b[0m\u001b[0;34m\u001b[0m\u001b[0m\n\u001b[1;32m   4615\u001b[0m \u001b[0;34m\u001b[0m\u001b[0m\n\u001b[0;32m-> 4616\u001b[0;31m         \u001b[0mresult\u001b[0m \u001b[0;34m=\u001b[0m \u001b[0mgetitem\u001b[0m\u001b[0;34m(\u001b[0m\u001b[0mkey\u001b[0m\u001b[0;34m)\u001b[0m\u001b[0;34m\u001b[0m\u001b[0;34m\u001b[0m\u001b[0m\n\u001b[0m\u001b[1;32m   4617\u001b[0m         \u001b[0;32mif\u001b[0m \u001b[0;32mnot\u001b[0m \u001b[0mis_scalar\u001b[0m\u001b[0;34m(\u001b[0m\u001b[0mresult\u001b[0m\u001b[0;34m)\u001b[0m\u001b[0;34m:\u001b[0m\u001b[0;34m\u001b[0m\u001b[0;34m\u001b[0m\u001b[0m\n\u001b[1;32m   4618\u001b[0m             \u001b[0;31m# error: Argument 1 to \"ndim\" has incompatible type \"Union[ExtensionArray,\u001b[0m\u001b[0;34m\u001b[0m\u001b[0;34m\u001b[0m\u001b[0;34m\u001b[0m\u001b[0m\n",
            "\u001b[0;31mIndexError\u001b[0m: boolean index did not match indexed array along dimension 0; dimension is 38 but corresponding boolean dimension is 10"
          ]
        }
      ]
    },
    {
      "cell_type": "code",
      "source": [
        "rf_2.feature_importances_"
      ],
      "metadata": {
        "id": "nPM9yIhumuE4",
        "colab": {
          "base_uri": "https://localhost:8080/"
        },
        "outputId": "02e8bbdc-3971-48b5-f167-ba7e957d5700"
      },
      "execution_count": 379,
      "outputs": [
        {
          "output_type": "execute_result",
          "data": {
            "text/plain": [
              "array([0.01826246, 0.02304145, 0.04294771, 0.01795592, 0.01859249,\n",
              "       0.03369883, 0.02046821, 0.03304549, 0.00551803, 0.10644168,\n",
              "       0.01337248, 0.01081903, 0.03157796, 0.01001974, 0.01389043,\n",
              "       0.02582046, 0.02990758, 0.04176355, 0.00525965, 0.02874826,\n",
              "       0.01046264, 0.02872785, 0.01003708, 0.03771538, 0.02778518,\n",
              "       0.12593261, 0.01725141, 0.00545313, 0.00526453, 0.03019865,\n",
              "       0.0119013 , 0.0241719 , 0.0106742 , 0.01148021, 0.02299194,\n",
              "       0.06877411, 0.01492132, 0.00510515])"
            ]
          },
          "metadata": {},
          "execution_count": 379
        }
      ]
    },
    {
      "cell_type": "code",
      "execution_count": 380,
      "metadata": {
        "id": "f_xDKU3iLUtJ"
      },
      "outputs": [],
      "source": [
        "from sklearn.manifold import TSNE"
      ]
    },
    {
      "cell_type": "code",
      "source": [
        "X_embedded = TSNE(n_components=2, learning_rate='auto', init='random').fit_transform(X)\n",
        "plt.plot(X_embedded)"
      ],
      "metadata": {
        "id": "d2X5L6n1ihjE",
        "colab": {
          "base_uri": "https://localhost:8080/",
          "height": 302
        },
        "outputId": "2a919bf6-d43f-4ca4-8b20-a82a4b4403f0"
      },
      "execution_count": 381,
      "outputs": [
        {
          "output_type": "execute_result",
          "data": {
            "text/plain": [
              "[<matplotlib.lines.Line2D at 0x7f48e7250a90>,\n",
              " <matplotlib.lines.Line2D at 0x7f48e7250990>]"
            ]
          },
          "metadata": {},
          "execution_count": 381
        },
        {
          "output_type": "display_data",
          "data": {
            "text/plain": [
              "<Figure size 432x288 with 1 Axes>"
            ],
            "image/png": "[encoded data removed]"
          },
          "metadata": {
            "needs_background": "light"
          }
        }
      ]
    },
    {
      "cell_type": "code",
      "source": [
        "plt.plot(y[y<2])"
      ],
      "metadata": {
        "id": "0sntsuMjoIbe",
        "colab": {
          "base_uri": "https://localhost:8080/",
          "height": 283
        },
        "outputId": "94404f54-6add-4a14-ac86-9ff5e3bbd00e"
      },
      "execution_count": 382,
      "outputs": [
        {
          "output_type": "execute_result",
          "data": {
            "text/plain": [
              "[<matplotlib.lines.Line2D at 0x7f48e79aad50>]"
            ]
          },
          "metadata": {},
          "execution_count": 382
        },
        {
          "output_type": "display_data",
          "data": {
            "text/plain": [
              "<Figure size 432x288 with 1 Axes>"
            ],
            "image/png": "[encoded data removed]"
          },
          "metadata": {
            "needs_background": "light"
          }
        }
      ]
    },
    {
      "cell_type": "code",
      "source": [
        "plt.scatter(X_embedded[y<6, 0], X_embedded[y<6, 1], c=y[y<6])"
      ],
      "metadata": {
        "id": "YqOmjZVAn6wV",
        "colab": {
          "base_uri": "https://localhost:8080/",
          "height": 171
        },
        "outputId": "6434556a-e7be-41a7-db6a-98ff3a9c2eeb"
      },
      "execution_count": 383,
      "outputs": [
        {
          "output_type": "error",
          "ename": "IndexError",
          "evalue": "ignored",
          "traceback": [
            "\u001b[0;31m---------------------------------------------------------------------------\u001b[0m",
            "\u001b[0;31mIndexError\u001b[0m                                Traceback (most recent call last)",
            "\u001b[0;32m<ipython-input-383-4b3c1ce18e89>\u001b[0m in \u001b[0;36m<module>\u001b[0;34m()\u001b[0m\n\u001b[0;32m----> 1\u001b[0;31m \u001b[0mplt\u001b[0m\u001b[0;34m.\u001b[0m\u001b[0mscatter\u001b[0m\u001b[0;34m(\u001b[0m\u001b[0mX_embedded\u001b[0m\u001b[0;34m[\u001b[0m\u001b[0my\u001b[0m\u001b[0;34m<\u001b[0m\u001b[0;36m6\u001b[0m\u001b[0;34m,\u001b[0m \u001b[0;36m0\u001b[0m\u001b[0;34m]\u001b[0m\u001b[0;34m,\u001b[0m \u001b[0mX_embedded\u001b[0m\u001b[0;34m[\u001b[0m\u001b[0my\u001b[0m\u001b[0;34m<\u001b[0m\u001b[0;36m6\u001b[0m\u001b[0;34m,\u001b[0m \u001b[0;36m1\u001b[0m\u001b[0;34m]\u001b[0m\u001b[0;34m,\u001b[0m \u001b[0mc\u001b[0m\u001b[0;34m=\u001b[0m\u001b[0my\u001b[0m\u001b[0;34m[\u001b[0m\u001b[0my\u001b[0m\u001b[0;34m<\u001b[0m\u001b[0;36m6\u001b[0m\u001b[0;34m]\u001b[0m\u001b[0;34m)\u001b[0m\u001b[0;34m\u001b[0m\u001b[0;34m\u001b[0m\u001b[0m\n\u001b[0m",
            "\u001b[0;31mIndexError\u001b[0m: too many indices for array: array is 2-dimensional, but 3 were indexed"
          ]
        }
      ]
    },
    {
      "cell_type": "code",
      "source": [
        "X_embedded[y<2].shape"
      ],
      "metadata": {
        "id": "MW8g_30to248"
      },
      "execution_count": null,
      "outputs": []
    },
    {
      "cell_type": "code",
      "source": [
        "X_2=X_embedded[y<2]\n",
        "y_2 = y[y<2]"
      ],
      "metadata": {
        "id": "aU3R3K-blQfJ"
      },
      "execution_count": null,
      "outputs": []
    },
    {
      "cell_type": "code",
      "source": [
        "plt.scatter(X_2[:,0], X_2[:,1], c=y_2)"
      ],
      "metadata": {
        "id": "l8v__NBtkMdx"
      },
      "execution_count": null,
      "outputs": []
    },
    {
      "cell_type": "code",
      "execution_count": null,
      "metadata": {
        "id": "V9anOb8_LUtK"
      },
      "outputs": [],
      "source": [
        "clustering = DBSCAN(eps=0.223, n_jobs=-1)\n",
        "prediction = clustering.fit_predict(X_cutted)\n",
        "pred = prediction[np.argwhere(y == 1)]\n",
        "print(np.unique(clustering.labels_))"
      ]
    },
    {
      "cell_type": "code",
      "source": [
        "X_embedded"
      ],
      "metadata": {
        "id": "CxOPw0MfkWe7"
      },
      "execution_count": null,
      "outputs": []
    },
    {
      "cell_type": "code",
      "execution_count": null,
      "metadata": {
        "id": "dMaFTCrnLUtK"
      },
      "outputs": [],
      "source": [
        ""
      ]
    },
    {
      "cell_type": "code",
      "execution_count": null,
      "metadata": {
        "id": "hnqVH0fXLUtL"
      },
      "outputs": [],
      "source": [
        ""
      ]
    },
    {
      "cell_type": "code",
      "execution_count": null,
      "metadata": {
        "id": "b8z5CdQ5LUtL"
      },
      "outputs": [],
      "source": [
        "# from sklearn.model_selection import cross_validate, StratifiedShuffleSplit\n",
        "\n",
        "# cv = StratifiedShuffleSplit(n_splits=5, random_state=3)\n",
        "# score = cross_validate(rf, X_train, y_train, cv=cv, scoring='accuracy', return_train_score=True)\n",
        "# print('rf', 'mean test score :', round(np.mean(score['test_score']),3), '\\n', 'train scores:', score['train_score'],  '\\n', 'test scores:', score['test_score'], '\\n')"
      ]
    },
    {
      "cell_type": "code",
      "execution_count": null,
      "metadata": {
        "id": "pTWzKtmCLUtM"
      },
      "outputs": [],
      "source": [
        "# from sklearn.neural_network import MLPClassifier\n",
        "# MLP = MLPClassifier(activation = 'relu', max_iter = 300, solver='adam', alpha=3e-4,\n",
        "#                         hidden_layer_sizes=(37, 250), random_state=10)\n",
        "# MLP.fit(X_train,y_train)\n",
        "\n",
        "# y_pred = MLP.predict(X_train)\n",
        "# acc = accuracy_score(y_train, y_pred)\n",
        "# print(acc)\n",
        "\n",
        "# y_pred = MLP.predict(X_test)\n",
        "# acc = accuracy_score(y_test, y_pred)\n",
        "# print(acc)\n",
        "\n",
        "# from sklearn.neural_network import MLPClassifier\n",
        "\n",
        "# import torch\n",
        "# import torch.nn as nn\n",
        "# import torchsummary\n",
        "# device = 'cuda:0' if torch.cuda.is_available() else 'cpu'\n",
        "\n",
        "# fmnist_dataset_train = torchvision.datasets.FashionMNIST(root_path, \n",
        "#                                                         train=True, \n",
        "#                                                         transform=train_transform,\n",
        "#                                                         target_transform=None,\n",
        "#                                                         download=download)\n",
        "# fmnist_dataset_test = torchvision.datasets.FashionMNIST(root_path, \n",
        "#                                                        train=False, \n",
        "#                                                        transform=test_transform,\n",
        "#                                                        target_transform=None,\n",
        "#                                                        download=download)\n",
        "# train_loader = torch.utils.data.DataLoader(fmnist_dataset_train, \n",
        "#                                            batch_size=128,\n",
        "#                                            shuffle=True,\n",
        "#                                            num_workers=2)\n",
        "# test_loader = torch.utils.data.DataLoader(fmnist_dataset_test,\n",
        "#                                           batch_size=256,\n",
        "#                                           shuffle=False,\n",
        "#                                           num_workers=2)\n",
        "\n",
        "# class TinyNeuralNetwork(nn.Module):\n",
        "#     def __init__(self, input_shape=28*28, num_classes=10, input_channels=1, hidden_layer_size=(4096, 2048)):\n",
        "#         super(self.__class__, self).__init__()\n",
        "#         self.model = nn.Sequential(\n",
        "#             nn.Flatten(), # This layer converts image into a vector to use Linear layers afterwards\n",
        "#             # Your network structure comes here\n",
        "#             nn.Linear(input_shape, hidden_layer_size[0]),\n",
        "#             nn.Dropout(),\n",
        "#             nn.ELU(),\n",
        "#             nn.Linear(hidden_layer_size[0], hidden_layer_size[1]),\n",
        "#             nn.Dropout(),\n",
        "#             nn.ELU(),\n",
        "#             nn.Linear(hidden_layer_size[1], num_classes),\n",
        "#             nn.Dropout(),\n",
        "#             nn.LogSoftmax(dim=1)\n",
        "#         )\n",
        "        \n",
        "#     def forward(self, inp):       \n",
        "#         out = self.model(inp)\n",
        "#         return out\n",
        "\n",
        "# torchsummary.summary(TinyNeuralNetwork().to(device), (28*28,))\n",
        "\n",
        "# model = TinyNeuralNetwork().to(device)\n",
        "# opt = torch.optim.Adam(model.parameters(), lr=0.0001)\n",
        "# loss_func = nn.functional.nll_loss\n",
        "\n",
        "# num_epochs = 60\n",
        "# def error(loader, model):\n",
        "#     model.eval()\n",
        "#     correct = 0\n",
        "#     with torch.no_grad():\n",
        "#         for data, target in loader:\n",
        "#             data, target = data.to(device), target.to(device)\n",
        "#             output = model(data)\n",
        "#             pred = output.argmax(dim=1, keepdim=True)\n",
        "#             correct += pred.eq(target.view_as(pred)).sum().item()\n",
        "\n",
        "#     return 1 - correct / len(loader.dataset)\n",
        "\n",
        "# epoch_train_accs, epoch_test_accs = [], []\n",
        "# for epoch in range(num_epochs):\n",
        "#     epoch_train_accs.append(error(train_loader, model))\n",
        "#     epoch_test_accs.append(error(test_loader, model))\n",
        "\n",
        "#     clear_output(True)\n",
        "#     plt.plot(np.arange(len(epoch_train_accs)), epoch_train_accs, label='train error')\n",
        "#     plt.plot(np.arange(len(epoch_test_accs)), epoch_test_accs, label='test error')\n",
        "#     plt.legend()\n",
        "#     plt.show()\n",
        "\n",
        "#     model.train()\n",
        "#     correct = 0\n",
        "#     for data, target in train_loader:\n",
        "#         opt.zero_grad()\n",
        "#         output = model(data.to(device))\n",
        "#         loss = loss_func(output.to(device), target.to(device))\n",
        "#         loss.backward()\n",
        "#         opt.step()\n",
        "\n",
        "# print(f'Train accuracy: {1 - error(train_loader, model)}')\n",
        "# print(f'Test accuracy: {1 - error(test_loader, model)}')"
      ]
    },
    {
      "cell_type": "code",
      "source": [
        ""
      ],
      "metadata": {
        "id": "Wnn1IpvBmVe-"
      },
      "execution_count": null,
      "outputs": []
    }
  ],
  "metadata": {
    "colab": {
      "collapsed_sections": [],
      "name": "RF_fingerprinting_start.ipynb",
      "provenance": [],
      "include_colab_link": true
    },
    "kernelspec": {
      "display_name": "Python 3 (ipykernel)",
      "language": "python",
      "name": "python3"
    },
    "language_info": {
      "codemirror_mode": {
        "name": "ipython",
        "version": 3
      },
      "file_extension": ".py",
      "mimetype": "text/x-python",
      "name": "python",
      "nbconvert_exporter": "python",
      "pygments_lexer": "ipython3",
      "version": "3.8.5"
    }
  },
  "nbformat": 4,
  "nbformat_minor": 0
}