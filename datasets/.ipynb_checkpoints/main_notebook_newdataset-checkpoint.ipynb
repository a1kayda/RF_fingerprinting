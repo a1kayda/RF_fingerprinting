{
 "cells": [
  {
   "cell_type": "markdown",
   "metadata": {
    "colab_type": "text",
    "id": "view-in-github"
   },
   "source": [
    "<a href=\"https://colab.research.google.com/github/a1kayda/RF_fingerprinting/blob/main/main.ipynb\" target=\"_parent\"><img src=\"https://colab.research.google.com/assets/colab-badge.svg\" alt=\"Open In Colab\"/></a>"
   ]
  },
  {
   "cell_type": "markdown",
   "metadata": {
    "id": "FrDg7FFjre75"
   },
   "source": [
    "# import libs #\n",
    "\n",
    "\n"
   ]
  },
  {
   "cell_type": "code",
   "execution_count": 1,
   "metadata": {
    "id": "jsvjpDg6LHux"
   },
   "outputs": [],
   "source": [
    "import pandas as pd\n",
    "import numpy as np\n",
    "import scipy.io\n",
    "from sklearn.decomposition import PCA\n",
    "from sklearn.preprocessing import MinMaxScaler\n",
    "from sklearn.model_selection import train_test_split\n",
    "from sklearn.tree import DecisionTreeClassifier\n",
    "from sklearn.metrics import accuracy_score, f1_score\n",
    "from sklearn.ensemble import RandomForestClassifier\n",
    "import matplotlib.pyplot as plt\n",
    "from sklearn.manifold import TSNE\n",
    "from sklearn.cluster import DBSCAN\n",
    "from incremental_dbscan import IncrementalDBSCAN"
   ]
  },
  {
   "cell_type": "code",
   "execution_count": 2,
   "metadata": {
    "colab": {
     "base_uri": "https://localhost:8080/"
    },
    "id": "sdNxkyP1MfzE",
    "outputId": "02ebf5a0-ccc7-42f7-848b-dbe46aba303f"
   },
   "outputs": [],
   "source": [
    "#from google.colab import drive\n",
    "#drive.mount('/content/drive')"
   ]
  },
  {
   "cell_type": "markdown",
   "metadata": {
    "id": "wVlKvezNrsgy"
   },
   "source": [
    "# Data preprocessing #\n"
   ]
  },
  {
   "cell_type": "code",
   "execution_count": 3,
   "metadata": {},
   "outputs": [],
   "source": [
    "dict = scipy.io.loadmat(\"cpsd_ch1.mat\")\n",
    "X = dict['X'] # Признаки\n",
    "y = dict['Y'] # Индекс устройства"
   ]
  },
  {
   "cell_type": "code",
   "execution_count": 4,
   "metadata": {},
   "outputs": [
    {
     "data": {
      "text/plain": [
       "[<matplotlib.lines.Line2D at 0x7ff0fd07fa60>]"
      ]
     },
     "execution_count": 4,
     "metadata": {},
     "output_type": "execute_result"
    },
    {
     "data": {
      "image/png": "[encoded data removed]",
      "text/plain": [
       "<Figure size 432x288 with 1 Axes>"
      ]
     },
     "metadata": {
      "needs_background": "light"
     },
     "output_type": "display_data"
    }
   ],
   "source": [
    "plt.plot(y)"
   ]
  },
  {
   "cell_type": "code",
   "execution_count": 5,
   "metadata": {
    "colab": {
     "base_uri": "https://localhost:8080/"
    },
    "id": "Tq_Fa2jxLRwJ",
    "outputId": "46f48c4e-a00a-4339-ce84-b927194d316b",
    "scrolled": true
   },
   "outputs": [],
   "source": [
    "# # colnames = [\"S_Mean\", \"S_Max-Min\", \"S_Max-|Min|\", \"S_sumYup - sumYdn\", \"S_(Max-Mean)/(Mean-Min))\", \"S_numYup - numYdn\", \n",
    "# #             \"S_maxBd\", \"S_RangeJDy\", \"S_F\", \n",
    "# #             \"L_Mean\", \"L_Max-Min\", \"L_Max-|Min|\", \"L_sumYup - sumYdn\", \"L_(Max-Mean)/(Mean-Min))\", \"L_numYup - numYdn\", \n",
    "# #             \"L_maxBd\", \"L_RangeJDy\", \"L_F\", \"L_Ph\",\n",
    "# #             \"y\"]\n",
    "\n",
    "# phase_colnames = []\n",
    "# abs_colnames = []\n",
    "# imag_colnames = []\n",
    "# real_colnames = []\n",
    "# for f_name in colnames:\n",
    "#     phase_colnames.append(f_name + \"_phase\")\n",
    "#     abs_colnames.append(f_name + \"_abs\")\n",
    "#     real_colnames.append(f_name + \"_real\")\n",
    "#     imag_colnames.append(f_name + \"_imag\")\n",
    "\n",
    "# #data_abs = pd.read_csv('/content/drive/MyDrive/Alkayda/Multipath_dataset_ABS_no_CFO_comp.txt', sep=\",\", names=abs_colnames, header=None)\n",
    "# #data_angle = pd.read_csv('/content/drive/MyDrive/Alkayda/Multipath_dataset_PHASE_no_CFO_comp.txt', sep=\",\", names=phase_colnames, header=None)\n",
    "# data_abs = pd.read_csv('Multipath_dataset_ABS_no_CFO_comp.txt', sep=\",\", names=abs_colnames, header=None)\n",
    "# data_angle = pd.read_csv('Multipath_dataset_PHASE_no_CFO_comp.txt', sep=\",\", names=phase_colnames, header=None)\n",
    "\n",
    "# data_abs.reset_index(drop=True, inplace=True)\n",
    "# data_abs.drop(\"y_abs\", axis=1, inplace=True)\n",
    "# data_angle.reset_index(drop=True, inplace=True)\n",
    "\n",
    "# data = pd.concat([data_abs, data_angle], axis=1)\n",
    "\n",
    "# data_X = data.drop(\"y_phase\", axis=1).replace([np.inf, -np.inf, np.nan], 0)\n",
    "# data_y = data[\"y_phase\"]\n",
    "# data_y = data_y.values-2\n",
    "# data = data.replace([np.inf, -np.inf, np.nan], 0)\n",
    "\n",
    "# #data.reset_index()data_y = \n",
    "\n",
    "# data_y.shape"
   ]
  },
  {
   "cell_type": "code",
   "execution_count": 6,
   "metadata": {
    "id": "gU-ei32YLWsl"
   },
   "outputs": [],
   "source": [
    "X = np.array(X*(y<10))\n",
    "y = np.array(y*(y<10)).reshape((y.shape[0],))"
   ]
  },
  {
   "cell_type": "code",
   "execution_count": 7,
   "metadata": {},
   "outputs": [
    {
     "data": {
      "text/plain": [
       "array([1, 2, 3, 4, 5], dtype=uint8)"
      ]
     },
     "execution_count": 7,
     "metadata": {},
     "output_type": "execute_result"
    }
   ],
   "source": [
    "np.unique(y)"
   ]
  },
  {
   "cell_type": "code",
   "execution_count": 8,
   "metadata": {
    "id": "gU-ei32YLWsl"
   },
   "outputs": [],
   "source": [
    "# X = np.array(X)\n",
    "# y = np.array(y).reshape((y.shape[0],))"
   ]
  },
  {
   "cell_type": "code",
   "execution_count": 9,
   "metadata": {
    "id": "ejoIHckyLUs5"
   },
   "outputs": [],
   "source": [
    "# X_pca = PCA(n_components=2).fit_transform(X)\n",
    "# plt.scatter(X_pca[:, 0], X_pca[:, 1], c = y, cmap='autumn')"
   ]
  },
  {
   "cell_type": "code",
   "execution_count": 10,
   "metadata": {
    "id": "ZhjXFWDCLYGF"
   },
   "outputs": [
    {
     "data": {
      "text/plain": [
       "array([1, 2, 3, 4, 5], dtype=uint8)"
      ]
     },
     "execution_count": 10,
     "metadata": {},
     "output_type": "execute_result"
    }
   ],
   "source": [
    "scaler = MinMaxScaler(feature_range=(0, 1))\n",
    "scaler.fit(X)\n",
    "X = scaler.transform(X)\n",
    "X_train, X_test, y_train, y_test = train_test_split(X, y,random_state = 55,\n",
    "                                                        test_size = 0.3, shuffle=True, stratify=y)\n",
    "np.unique(y_train)"
   ]
  },
  {
   "cell_type": "markdown",
   "metadata": {
    "id": "oEgBKyiTr4J_"
   },
   "source": [
    "# DT + RF + feature importances #\n"
   ]
  },
  {
   "cell_type": "code",
   "execution_count": 11,
   "metadata": {
    "colab": {
     "base_uri": "https://localhost:8080/"
    },
    "id": "X4eCLkmzLaJC",
    "outputId": "db5a9501-f1fc-4e47-a103-7930216b89d0"
   },
   "outputs": [
    {
     "name": "stdout",
     "output_type": "stream",
     "text": [
      "[1 2 3 4 5]  acc: 0.8075901328273245\n"
     ]
    }
   ],
   "source": [
    "DT = DecisionTreeClassifier(random_state=60)\n",
    "DT.fit(X_train, y_train)\n",
    "\n",
    "y_pred = DT.predict(X_test)\n",
    "acc = accuracy_score(y_test, y_pred)\n",
    "print(np.unique(y_pred),\" acc:\", acc)"
   ]
  },
  {
   "cell_type": "code",
   "execution_count": 12,
   "metadata": {
    "colab": {
     "base_uri": "https://localhost:8080/"
    },
    "id": "iGooM7KeofUH",
    "outputId": "fe3fd484-0f2b-419d-c4b2-c7413095ce1f"
   },
   "outputs": [
    {
     "name": "stdout",
     "output_type": "stream",
     "text": [
      "1 0.3550724637681159\n",
      "2 0.8185053380782918\n",
      "3 0.5687732342007435\n",
      "4 0.9086378737541528\n",
      "5 0.39007092198581567\n"
     ]
    }
   ],
   "source": [
    "f1 = []\n",
    "y_test_1 = y_test\n",
    "y_pred = y_pred\n",
    "for i in np.arange(1,6):\n",
    "    print(i, f1_score((y_test_1*(y_test_1==i)/i), (y_pred*(y_pred==i))/i))\n"
   ]
  },
  {
   "cell_type": "code",
   "execution_count": 13,
   "metadata": {
    "colab": {
     "base_uri": "https://localhost:8080/"
    },
    "id": "S7NA-mTLLUs_",
    "outputId": "0d50c236-bc29-4af9-94cc-463b339aec20"
   },
   "outputs": [
    {
     "name": "stdout",
     "output_type": "stream",
     "text": [
      "0.8800759013282733\n"
     ]
    }
   ],
   "source": [
    "rf = RandomForestClassifier(n_estimators=300, criterion= \"entropy\", random_state=29)\n",
    "rf.fit(X_train, y_train)\n",
    "\n",
    "y_pred = rf.predict(X_test)\n",
    "acc = accuracy_score(y_test, y_pred)\n",
    "print(acc)"
   ]
  },
  {
   "cell_type": "code",
   "execution_count": 14,
   "metadata": {
    "colab": {
     "base_uri": "https://localhost:8080/"
    },
    "id": "ttaBxA5Oed9R",
    "outputId": "7e686c6e-2f70-4be3-efc2-fe9608dbd041"
   },
   "outputs": [
    {
     "name": "stdout",
     "output_type": "stream",
     "text": [
      "1 0.5628140703517588\n",
      "2 0.8788426763110307\n",
      "3 0.700990099009901\n",
      "4 0.942849618119568\n",
      "5 0.4907407407407407\n"
     ]
    }
   ],
   "source": [
    "y_test_1 = y_test\n",
    "y_pred = y_pred\n",
    "for i in np.arange(1,6):\n",
    "    print(i, f1_score((y_test_1*(y_test_1==i)/i), (y_pred*(y_pred==i))/i))"
   ]
  },
  {
   "cell_type": "code",
   "execution_count": 15,
   "metadata": {
    "colab": {
     "base_uri": "https://localhost:8080/",
     "height": 628
    },
    "id": "aZAk1wt-LUtE",
    "outputId": "fb85f25a-1e24-465d-8c57-045666ff5f89"
   },
   "outputs": [],
   "source": [
    "# plt.figure(figsize=(23,8))\n",
    "# f = pd.DataFrame({'features':X.columns, 'importances':rf.feature_importances_}).sort_values('importances').to_numpy()\n",
    "# plt.bar(f[:,0], f[:,1])\n",
    "# plt.xticks(rotation=50)\n",
    "# plt.show"
   ]
  },
  {
   "cell_type": "code",
   "execution_count": 16,
   "metadata": {
    "id": "qdmXWb3pLUtG"
   },
   "outputs": [],
   "source": [
    "# th = np.arange(0.02,0.05,0.005)\n",
    "# features = [data_X.columns[rf.feature_importances_ > i] for i in th]\n",
    "# n_features = [np.size(i) for i in features]"
   ]
  },
  {
   "cell_type": "code",
   "execution_count": 17,
   "metadata": {
    "colab": {
     "base_uri": "https://localhost:8080/",
     "height": 485
    },
    "id": "7dPUue1isCDB",
    "outputId": "b2294369-1d06-4801-e54a-8409d68b6fda"
   },
   "outputs": [],
   "source": [
    "# data_X[data_X.columns[rf.feature_importances_ > 0.03]]"
   ]
  },
  {
   "cell_type": "code",
   "execution_count": 18,
   "metadata": {
    "colab": {
     "base_uri": "https://localhost:8080/"
    },
    "id": "9me4b_tjLUtH",
    "outputId": "e8824be8-37fa-493c-8e0d-d66ac9b531b9"
   },
   "outputs": [],
   "source": [
    "# rf_1 = RandomForestClassifier(n_estimators=300, criterion= \"entropy\")\n",
    "# acc = []\n",
    "# c=0\n",
    "# plt.figure(figsize=(15,8))\n",
    "# for i in th:\n",
    "#     c+=1\n",
    "#     X_i = data_X[features[int(np.where(abs(th - i) < 0.00001)[0])]]\n",
    "#     scaler.fit(X_i)\n",
    "#     X_train, X_test, y_train, y_test = train_test_split(X_i, y,random_state = 55, test_size = 0.3, shuffle=True, stratify=y)\n",
    "#     rf_1.fit(X_train, y_train)\n",
    "#     y_pred = rf_1.predict(X_test)\n",
    "#     acc.append(accuracy_score(y_test, y_pred))\n",
    "#     a = pd.DataFrame({'features':rf_1.feature_names_in_, 'importances':rf_1.feature_importances_}).sort_values('importances').to_numpy()\n",
    "#     plt.subplot(2, 3, c)\n",
    "#     plt.bar(a[:,0], a[:,1], tick_label=[None]*len(a[:,0]))\n",
    "#     plt.title(str(a.shape[0]) + \" features\")\n",
    "# plt.show"
   ]
  },
  {
   "cell_type": "code",
   "execution_count": 19,
   "metadata": {
    "colab": {
     "base_uri": "https://localhost:8080/",
     "height": 827
    },
    "id": "jbdJi8G3U718",
    "outputId": "e6baede7-998f-4cd9-ad26-704d250d5661"
   },
   "outputs": [],
   "source": [
    "# plt.figure(figsize=(15,5))\n",
    "\n",
    "# plt.subplot(131)\n",
    "# plt.title(\"n_features from threshshold\")\n",
    "# plt.plot(th, n_features)\n",
    "# plt.grid(True)\n",
    "\n",
    "# plt.subplot(132)\n",
    "# plt.title(\"n_features from accuracy\")\n",
    "# plt.plot(acc, n_features)\n",
    "# plt.grid(True)\n",
    "\n",
    "# plt.subplot(133)\n",
    "# plt.title(\"accuracy from threshshold\")\n",
    "# plt.plot(th, acc)\n",
    "# plt.grid(True)"
   ]
  },
  {
   "cell_type": "code",
   "execution_count": 20,
   "metadata": {},
   "outputs": [],
   "source": [
    "# TH = 0.03"
   ]
  },
  {
   "cell_type": "code",
   "execution_count": 21,
   "metadata": {
    "colab": {
     "base_uri": "https://localhost:8080/"
    },
    "id": "mif98FsAl8Km",
    "outputId": "7f5f3fc0-d554-444c-fc7c-406928a715a9"
   },
   "outputs": [],
   "source": [
    "# ncol = data_X.columns[rf.feature_importances_ > TH]\n",
    "# ncol"
   ]
  },
  {
   "cell_type": "code",
   "execution_count": 22,
   "metadata": {
    "id": "CySbUdxDMTD-"
   },
   "outputs": [],
   "source": [
    "# X = data_X[data_X.columns[rf.feature_importances_ > TH]]\n",
    "# scaler.fit(X)\n",
    "# X = pd.DataFrame(scaler.transform(X), columns=ncol)\n",
    "# X_train, X_test, y_train, y_test = train_test_split(X, y,random_state = 55,\n",
    "#                                                         test_size = 0.3, shuffle=True, stratify=y)"
   ]
  },
  {
   "cell_type": "code",
   "execution_count": 23,
   "metadata": {
    "colab": {
     "base_uri": "https://localhost:8080/"
    },
    "id": "I_dPJXx9m46A",
    "outputId": "cd7dba3e-8be8-4a4f-f87c-08cb00f5bbb3"
   },
   "outputs": [],
   "source": [
    "# rf_2 = RandomForestClassifier(n_estimators=300, criterion= \"entropy\", random_state=29)\n",
    "# rf_2.fit(X_train, y_train)\n",
    "\n",
    "# y_pred = rf_2.predict(X_test)\n",
    "# acc = accuracy_score(y_test, y_pred)\n",
    "# print(acc)"
   ]
  },
  {
   "cell_type": "code",
   "execution_count": 24,
   "metadata": {
    "colab": {
     "base_uri": "https://localhost:8080/"
    },
    "id": "zkhYz8Wce7mu",
    "outputId": "667258ad-1830-4d11-e863-5e1b5d5b9947"
   },
   "outputs": [],
   "source": [
    "# y_test_1 = y_test+1\n",
    "# y_pred = y_pred+1\n",
    "# for i in np.arange(1,6):\n",
    "#     print(i, f1_score((y_test_1*(y_test_1==i)/i), (y_pred*(y_pred==i))/i))"
   ]
  },
  {
   "cell_type": "code",
   "execution_count": 25,
   "metadata": {
    "colab": {
     "base_uri": "https://localhost:8080/",
     "height": 299
    },
    "id": "AGjXeGxgtjP7",
    "outputId": "00bcf0b5-d45a-4b8a-acb5-e2bb66e452f7"
   },
   "outputs": [],
   "source": [
    "# rf_2.feature_names_in_"
   ]
  },
  {
   "cell_type": "code",
   "execution_count": null,
   "metadata": {},
   "outputs": [],
   "source": []
  },
  {
   "cell_type": "code",
   "execution_count": 26,
   "metadata": {
    "colab": {
     "base_uri": "https://localhost:8080/",
     "height": 373
    },
    "id": "TQMqOYl_nClH",
    "outputId": "9e5b716e-3087-429e-e7c6-2b6b9985820c"
   },
   "outputs": [],
   "source": [
    "# a = pd.DataFrame({'features':rf_2.feature_names_in_, 'importances':rf_2.feature_importances_}).sort_values('importances').to_numpy()\n",
    "\n",
    "# plt.figure(figsize=(23,8))\n",
    "# plt.bar(a[:,0], a[:,1])\n",
    "# plt.xticks(rotation=50)\n",
    "# plt.show"
   ]
  },
  {
   "cell_type": "code",
   "execution_count": 27,
   "metadata": {
    "colab": {
     "base_uri": "https://localhost:8080/"
    },
    "id": "nPM9yIhumuE4",
    "outputId": "02e8bbdc-3971-48b5-f167-ba7e957d5700"
   },
   "outputs": [],
   "source": [
    "# rf_2.feature_importances_"
   ]
  },
  {
   "cell_type": "code",
   "execution_count": 28,
   "metadata": {
    "colab": {
     "base_uri": "https://localhost:8080/",
     "height": 302
    },
    "id": "d2X5L6n1ihjE",
    "outputId": "2a919bf6-d43f-4ca4-8b20-a82a4b4403f0"
   },
   "outputs": [
    {
     "data": {
      "text/plain": [
       "[<matplotlib.lines.Line2D at 0x7ff0b4377790>,\n",
       " <matplotlib.lines.Line2D at 0x7ff0b43777f0>,\n",
       " <matplotlib.lines.Line2D at 0x7ff0b4377910>,\n",
       " <matplotlib.lines.Line2D at 0x7ff0b4377a30>,\n",
       " <matplotlib.lines.Line2D at 0x7ff0b4377b50>,\n",
       " <matplotlib.lines.Line2D at 0x7ff0b4377c70>,\n",
       " <matplotlib.lines.Line2D at 0x7ff0b4377d90>,\n",
       " <matplotlib.lines.Line2D at 0x7ff0b4377eb0>,\n",
       " <matplotlib.lines.Line2D at 0x7ff0b4377fd0>,\n",
       " <matplotlib.lines.Line2D at 0x7ff0b436a6d0>,\n",
       " <matplotlib.lines.Line2D at 0x7ff0b436a700>,\n",
       " <matplotlib.lines.Line2D at 0x7ff0b43777c0>,\n",
       " <matplotlib.lines.Line2D at 0x7ff0b4383340>,\n",
       " <matplotlib.lines.Line2D at 0x7ff0b4383460>,\n",
       " <matplotlib.lines.Line2D at 0x7ff0b4383580>,\n",
       " <matplotlib.lines.Line2D at 0x7ff0b43836a0>,\n",
       " <matplotlib.lines.Line2D at 0x7ff0b43837c0>,\n",
       " <matplotlib.lines.Line2D at 0x7ff0b43838e0>,\n",
       " <matplotlib.lines.Line2D at 0x7ff0b4383a00>,\n",
       " <matplotlib.lines.Line2D at 0x7ff0b4383b20>,\n",
       " <matplotlib.lines.Line2D at 0x7ff0b4383c40>,\n",
       " <matplotlib.lines.Line2D at 0x7ff0b4383d60>,\n",
       " <matplotlib.lines.Line2D at 0x7ff0b4383e80>,\n",
       " <matplotlib.lines.Line2D at 0x7ff0b4383fa0>,\n",
       " <matplotlib.lines.Line2D at 0x7ff0b4388100>,\n",
       " <matplotlib.lines.Line2D at 0x7ff0b4388220>,\n",
       " <matplotlib.lines.Line2D at 0x7ff0b4388340>,\n",
       " <matplotlib.lines.Line2D at 0x7ff0b4388460>,\n",
       " <matplotlib.lines.Line2D at 0x7ff0b4388580>,\n",
       " <matplotlib.lines.Line2D at 0x7ff0b43886a0>,\n",
       " <matplotlib.lines.Line2D at 0x7ff0b43887c0>,\n",
       " <matplotlib.lines.Line2D at 0x7ff0b43888e0>,\n",
       " <matplotlib.lines.Line2D at 0x7ff0b4388a00>,\n",
       " <matplotlib.lines.Line2D at 0x7ff0b4388b20>,\n",
       " <matplotlib.lines.Line2D at 0x7ff0b4388c40>,\n",
       " <matplotlib.lines.Line2D at 0x7ff0b4388d60>,\n",
       " <matplotlib.lines.Line2D at 0x7ff0b4388e80>,\n",
       " <matplotlib.lines.Line2D at 0x7ff0b4388fa0>,\n",
       " <matplotlib.lines.Line2D at 0x7ff0b438f100>,\n",
       " <matplotlib.lines.Line2D at 0x7ff0b438f220>,\n",
       " <matplotlib.lines.Line2D at 0x7ff0b438f340>,\n",
       " <matplotlib.lines.Line2D at 0x7ff0b438f460>,\n",
       " <matplotlib.lines.Line2D at 0x7ff0b438f580>,\n",
       " <matplotlib.lines.Line2D at 0x7ff0b438f6a0>,\n",
       " <matplotlib.lines.Line2D at 0x7ff0b438f7c0>,\n",
       " <matplotlib.lines.Line2D at 0x7ff0b438f8e0>,\n",
       " <matplotlib.lines.Line2D at 0x7ff0b438fa00>,\n",
       " <matplotlib.lines.Line2D at 0x7ff0b438fb20>,\n",
       " <matplotlib.lines.Line2D at 0x7ff0b438fc40>,\n",
       " <matplotlib.lines.Line2D at 0x7ff0b438fd60>,\n",
       " <matplotlib.lines.Line2D at 0x7ff0b438fe80>,\n",
       " <matplotlib.lines.Line2D at 0x7ff0b438ffa0>,\n",
       " <matplotlib.lines.Line2D at 0x7ff0b4396100>,\n",
       " <matplotlib.lines.Line2D at 0x7ff0b4396220>,\n",
       " <matplotlib.lines.Line2D at 0x7ff0b4396340>,\n",
       " <matplotlib.lines.Line2D at 0x7ff0b4396460>,\n",
       " <matplotlib.lines.Line2D at 0x7ff0b4396580>,\n",
       " <matplotlib.lines.Line2D at 0x7ff0b43966a0>,\n",
       " <matplotlib.lines.Line2D at 0x7ff0b43967c0>,\n",
       " <matplotlib.lines.Line2D at 0x7ff0b43968e0>,\n",
       " <matplotlib.lines.Line2D at 0x7ff0b4396a00>,\n",
       " <matplotlib.lines.Line2D at 0x7ff0b4396b20>,\n",
       " <matplotlib.lines.Line2D at 0x7ff0b4396c40>,\n",
       " <matplotlib.lines.Line2D at 0x7ff0b4396d60>]"
      ]
     },
     "execution_count": 28,
     "metadata": {},
     "output_type": "execute_result"
    },
    {
     "data": {
      "image/png": "[encoded data removed]",
      "text/plain": [
       "<Figure size 432x288 with 1 Axes>"
      ]
     },
     "metadata": {
      "needs_background": "light"
     },
     "output_type": "display_data"
    }
   ],
   "source": [
    "T = TSNE(n_components=2, learning_rate='auto', init='random')\n",
    "X_tsne=T.fit_transform(X_train)"
   ]
  },
  {
   "cell_type": "code",
   "execution_count": 29,
   "metadata": {
    "colab": {
     "base_uri": "https://localhost:8080/",
     "height": 283
    },
    "id": "0sntsuMjoIbe",
    "outputId": "94404f54-6add-4a14-ac86-9ff5e3bbd00e"
   },
   "outputs": [
    {
     "data": {
      "text/plain": [
       "<matplotlib.collections.PathCollection at 0x7ff0b80e8670>"
      ]
     },
     "execution_count": 29,
     "metadata": {},
     "output_type": "execute_result"
    },
    {
     "data": {
      "image/png": "[encoded data removed]",
      "text/plain": [
       "<Figure size 432x288 with 1 Axes>"
      ]
     },
     "metadata": {
      "needs_background": "light"
     },
     "output_type": "display_data"
    }
   ],
   "source": [
    "plt.scatter(np.arange(y_train.shape[0]),y_train)"
   ]
  },
  {
   "cell_type": "code",
   "execution_count": 43,
   "metadata": {},
   "outputs": [
    {
     "data": {
      "text/plain": [
       "<matplotlib.collections.PathCollection at 0x7ff0bc2e0100>"
      ]
     },
     "execution_count": 43,
     "metadata": {},
     "output_type": "execute_result"
    },
    {
     "data": {
      "image/png": "[encoded data removed]",
      "text/plain": [
       "<Figure size 432x288 with 1 Axes>"
      ]
     },
     "metadata": {
      "needs_background": "light"
     },
     "output_type": "display_data"
    }
   ],
   "source": [
    "plt.scatter(X_tsne[y_train==3,0], X_tsne[y_train==3,1])"
   ]
  },
  {
   "cell_type": "code",
   "execution_count": 49,
   "metadata": {
    "colab": {
     "base_uri": "https://localhost:8080/",
     "height": 171
    },
    "id": "YqOmjZVAn6wV",
    "outputId": "6434556a-e7be-41a7-db6a-98ff3a9c2eeb"
   },
   "outputs": [
    {
     "data": {
      "text/plain": [
       "<matplotlib.collections.PathCollection at 0x7ff0b585a130>"
      ]
     },
     "execution_count": 49,
     "metadata": {},
     "output_type": "execute_result"
    },
    {
     "data": {
      "image/png": "[encoded data removed]",
      "text/plain": [
       "<Figure size 432x288 with 1 Axes>"
      ]
     },
     "metadata": {
      "needs_background": "light"
     },
     "output_type": "display_data"
    }
   ],
   "source": [
    "plt.scatter(X_tsne[y_train>=4, 0], X_tsne[y_train>=4, 1], c=y_train[y_train>=4], cmap='winter')"
   ]
  },
  {
   "cell_type": "code",
   "execution_count": 32,
   "metadata": {
    "id": "MW8g_30to248"
   },
   "outputs": [
    {
     "data": {
      "text/plain": [
       "(6147, 64)"
      ]
     },
     "execution_count": 32,
     "metadata": {},
     "output_type": "execute_result"
    }
   ],
   "source": [
    "X_train[y_train<30].shape"
   ]
  },
  {
   "cell_type": "code",
   "execution_count": 33,
   "metadata": {},
   "outputs": [
    {
     "data": {
      "text/plain": [
       "array([1, 2, 3, 4, 5], dtype=uint8)"
      ]
     },
     "execution_count": 33,
     "metadata": {},
     "output_type": "execute_result"
    }
   ],
   "source": [
    "np.unique(y)"
   ]
  },
  {
   "cell_type": "code",
   "execution_count": 34,
   "metadata": {},
   "outputs": [
    {
     "name": "stdout",
     "output_type": "stream",
     "text": [
      "acc  0.8800759013282733\n",
      "i  1 f1  0.5628140703517588\n",
      "i  2 f1  0.8788426763110307\n",
      "i  3 f1  0.700990099009901\n",
      "i  4 f1  0.942849618119568\n",
      "i  5 f1  0.4907407407407407\n"
     ]
    }
   ],
   "source": [
    "rf_3 = RandomForestClassifier(n_estimators=300, criterion= \"entropy\", random_state=29)\n",
    "rf_3.fit(X_train, y_train)\n",
    "\n",
    "y_pred = rf_3.predict(X_test)\n",
    "acc = accuracy_score(y_test, y_pred)\n",
    "print(\"acc \", acc)\n",
    "for i in np.arange(1,6):\n",
    "    print(\"i \",i,\"f1 \", f1_score((y_test_1*(y_test_1==i)/i), (y_pred*(y_pred==i))/i))"
   ]
  },
  {
   "cell_type": "code",
   "execution_count": 35,
   "metadata": {
    "id": "V9anOb8_LUtK"
   },
   "outputs": [
    {
     "name": "stdout",
     "output_type": "stream",
     "text": [
      "5 0.13534438\n",
      "6 0.13534438099999999\n",
      "6 0.13534438099999999\n"
     ]
    }
   ],
   "source": [
    "n = 0\n",
    "e = 0\n",
    "ii=0\n",
    "for i in np.arange(0.13534438,0.13534439,0.000000001):    \n",
    "    clustering = DBSCAN(eps=i, n_jobs=-1)\n",
    "    prediction = clustering.fit_predict(X_train)\n",
    "    pred = prediction[np.argwhere(y_train == 1)]\n",
    "    n = len(np.unique(clustering.labels_))\n",
    "    print(n,i)\n",
    "    if (n > 5):\n",
    "        e=ii\n",
    "        print(n,i)\n",
    "        break\n",
    "    ii = i"
   ]
  },
  {
   "cell_type": "code",
   "execution_count": 36,
   "metadata": {},
   "outputs": [
    {
     "name": "stdout",
     "output_type": "stream",
     "text": [
      "[-1  0  1  2  3]\n"
     ]
    }
   ],
   "source": [
    "clustering = DBSCAN(eps=e, n_jobs=-1)\n",
    "prediction = clustering.fit_predict(X_train)\n",
    "pred = prediction[np.argwhere(y_train == 1)]\n",
    "print(np.unique(clustering.labels_))"
   ]
  },
  {
   "cell_type": "code",
   "execution_count": 37,
   "metadata": {},
   "outputs": [
    {
     "data": {
      "text/plain": [
       "0.0"
      ]
     },
     "execution_count": 37,
     "metadata": {},
     "output_type": "execute_result"
    }
   ],
   "source": [
    "100*sum(clustering.labels_==y_train)/len(y_train)"
   ]
  },
  {
   "cell_type": "code",
   "execution_count": 38,
   "metadata": {},
   "outputs": [
    {
     "data": {
      "text/plain": [
       "6147"
      ]
     },
     "execution_count": 38,
     "metadata": {},
     "output_type": "execute_result"
    }
   ],
   "source": [
    "len(y_train)"
   ]
  },
  {
   "cell_type": "code",
   "execution_count": 39,
   "metadata": {},
   "outputs": [
    {
     "name": "stdout",
     "output_type": "stream",
     "text": [
      "-1 6126 0\n",
      "0 5 0\n",
      "1 6 313\n",
      "2 5 660\n",
      "3 5 656\n",
      "4 0 4198\n",
      "5 0 320\n",
      "6 0 0\n",
      "7 0 0\n",
      "8 0 0\n",
      "9 0 0\n"
     ]
    }
   ],
   "source": [
    "for i in np.arange(-1, 10, 1):\n",
    "    print(i, sum(clustering.labels_==i), sum(y_train==i))"
   ]
  },
  {
   "cell_type": "code",
   "execution_count": null,
   "metadata": {},
   "outputs": [],
   "source": []
  },
  {
   "cell_type": "code",
   "execution_count": 40,
   "metadata": {
    "scrolled": true
   },
   "outputs": [
    {
     "ename": "NameError",
     "evalue": "name 'X_embedded' is not defined",
     "output_type": "error",
     "traceback": [
      "\u001b[0;31m---------------------------------------------------------------------------\u001b[0m",
      "\u001b[0;31mNameError\u001b[0m                                 Traceback (most recent call last)",
      "Input \u001b[0;32mIn [40]\u001b[0m, in \u001b[0;36m<cell line: 4>\u001b[0;34m()\u001b[0m\n\u001b[1;32m      2\u001b[0m plt\u001b[38;5;241m.\u001b[39msubplot(\u001b[38;5;241m121\u001b[39m)\n\u001b[1;32m      3\u001b[0m plt\u001b[38;5;241m.\u001b[39mtitle(\u001b[38;5;124m\"\u001b[39m\u001b[38;5;124mDBSCAN+TSNE\u001b[39m\u001b[38;5;124m\"\u001b[39m)\n\u001b[0;32m----> 4\u001b[0m plt\u001b[38;5;241m.\u001b[39mscatter(\u001b[43mX_embedded\u001b[49m[:, \u001b[38;5;241m0\u001b[39m], X_embedded[:, \u001b[38;5;241m1\u001b[39m], c\u001b[38;5;241m=\u001b[39mclustering\u001b[38;5;241m.\u001b[39mlabels_)\n\u001b[1;32m      5\u001b[0m plt\u001b[38;5;241m.\u001b[39msubplot(\u001b[38;5;241m122\u001b[39m)\n\u001b[1;32m      6\u001b[0m plt\u001b[38;5;241m.\u001b[39mtitle(\u001b[38;5;124m\"\u001b[39m\u001b[38;5;124mTSNE+TARGET\u001b[39m\u001b[38;5;124m\"\u001b[39m)\n",
      "\u001b[0;31mNameError\u001b[0m: name 'X_embedded' is not defined"
     ]
    },
    {
     "data": {
      "image/png": "[encoded data removed]",
      "text/plain": [
       "<Figure size 1080x360 with 1 Axes>"
      ]
     },
     "metadata": {
      "needs_background": "light"
     },
     "output_type": "display_data"
    }
   ],
   "source": [
    "plt.figure(figsize=(15,5))\n",
    "plt.subplot(121)\n",
    "plt.title(\"DBSCAN+TSNE\")\n",
    "plt.scatter(X_tsne[:, 0], X_tsne[:, 1], c=clustering.labels_)\n",
    "plt.subplot(122)\n",
    "plt.title(\"TSNE+TARGET\")\n",
    "plt.scatter(X_embedded[:, 0], X_embedded[:, 1], c=y_train)"
   ]
  },
  {
   "cell_type": "code",
   "execution_count": null,
   "metadata": {},
   "outputs": [],
   "source": [
    "n = 0\n",
    "e = 0\n",
    "ii=0\n",
    "for i in np.arange(0.34,0.36,0.001):    \n",
    "    clustering_2 = DBSCAN(eps=i, n_jobs=-1)\n",
    "    prediction = clustering_2.fit_predict(X_embedded)\n",
    "    pred = prediction[np.argwhere(y_train == 1)]\n",
    "    n = len(np.unique(clustering_2.labels_))\n",
    "    if (n > 9):\n",
    "        e=ii\n",
    "        print(n,ii)\n",
    "        break\n",
    "    ii = i"
   ]
  },
  {
   "cell_type": "code",
   "execution_count": null,
   "metadata": {},
   "outputs": [],
   "source": [
    "# clustering_2 = DBSCAN(eps=0.6, n_jobs=-1)\n",
    "# prediction = clustering_2.fit_predict(X_embedded)\n",
    "# pred = prediction[np.argwhere(y_train == 1)]\n",
    "# n = len(np.unique(clustering_2.labels_))\n",
    "# n"
   ]
  },
  {
   "cell_type": "code",
   "execution_count": null,
   "metadata": {},
   "outputs": [],
   "source": [
    "# clustering_2 = DBSCAN(eps=e, n_jobs=-1)\n",
    "# prediction = clustering_2.fit_predict(X_embedded)\n",
    "# pred = prediction[np.argwhere(y_train == 1)]\n",
    "# print(np.unique(clustering_2.labels_))\n",
    "\n",
    "# 100*sum(clustering_2.labels_==y_train)/len(y_train)\n",
    "\n",
    "# for i in np.arange(-1, 10, 1):\n",
    "#     print(i, sum(clustering_2.labels_==i), sum(y_train==i))\n",
    "# plt.figure(figsize=(15,5))\n",
    "# for i in range(10):\n",
    "    \n",
    "# plt.subplot(121)\n",
    "# plt.title(\"DBSCAN+TSNE\")\n",
    "# plt.scatter(X_embedded[:, 0], X_embedded[:, 1])\n",
    "# plt.subplot(122)\n",
    "# plt.title(\"TSNE+TARGET\")\n",
    "# plt.scatter(X_embedded[:, 0], X_embedded[:, 1], c=y_train)"
   ]
  },
  {
   "cell_type": "code",
   "execution_count": null,
   "metadata": {
    "id": "dMaFTCrnLUtK"
   },
   "outputs": [],
   "source": [
    "idbsc = IncrementalDBSCAN()"
   ]
  },
  {
   "cell_type": "code",
   "execution_count": null,
   "metadata": {},
   "outputs": [],
   "source": [
    "help(IncrementalDBSCAN)"
   ]
  },
  {
   "cell_type": "code",
   "execution_count": null,
   "metadata": {},
   "outputs": [],
   "source": []
  },
  {
   "cell_type": "code",
   "execution_count": null,
   "metadata": {
    "id": "hnqVH0fXLUtL"
   },
   "outputs": [],
   "source": []
  },
  {
   "cell_type": "code",
   "execution_count": null,
   "metadata": {
    "id": "Wnn1IpvBmVe-"
   },
   "outputs": [],
   "source": []
  },
  {
   "cell_type": "code",
   "execution_count": null,
   "metadata": {},
   "outputs": [],
   "source": []
  }
 ],
 "metadata": {
  "colab": {
   "collapsed_sections": [],
   "include_colab_link": true,
   "name": "RF_fingerprinting_start.ipynb",
   "provenance": []
  },
  "kernelspec": {
   "display_name": "Python 3 (ipykernel)",
   "language": "python",
   "name": "python3"
  },
  "language_info": {
   "codemirror_mode": {
    "name": "ipython",
    "version": 3
   },
   "file_extension": ".py",
   "mimetype": "text/x-python",
   "name": "python",
   "nbconvert_exporter": "python",
   "pygments_lexer": "ipython3",
   "version": "3.9.12"
  },
  "widgets": {
   "application/vnd.jupyter.widget-state+json": {
    "state": {},
    "version_major": 2,
    "version_minor": 0
   }
  }
 },
 "nbformat": 4,
 "nbformat_minor": 1
}
